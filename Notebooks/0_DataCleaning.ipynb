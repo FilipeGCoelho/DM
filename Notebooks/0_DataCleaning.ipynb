{
 "metadata": {
  "language_info": {
   "codemirror_mode": {
    "name": "ipython",
    "version": 3
   },
   "file_extension": ".py",
   "mimetype": "text/x-python",
   "name": "python",
   "nbconvert_exporter": "python",
   "pygments_lexer": "ipython3",
   "version": "3.8.3-final"
  },
  "orig_nbformat": 2,
  "kernelspec": {
   "name": "python3",
   "display_name": "Python 3",
   "language": "python"
  }
 },
 "nbformat": 4,
 "nbformat_minor": 2,
 "cells": [
  {
   "cell_type": "code",
   "execution_count": 1,
   "metadata": {},
   "outputs": [],
   "source": [
    "import pandas as pd \n",
    "import numpy as np\n",
    "import matplotlib.pyplot as plt\n",
    "import seaborn as sns\n",
    "from datetime import date\n",
    "from pandas_profiling import ProfileReport"
   ]
  },
  {
   "cell_type": "code",
   "execution_count": 2,
   "metadata": {},
   "outputs": [],
   "source": [
    "pd.set_option('display.max_columns', 500)"
   ]
  },
  {
   "source": [
    "# 0. Loading our Data"
   ],
   "cell_type": "markdown",
   "metadata": {}
  },
  {
   "cell_type": "code",
   "execution_count": 3,
   "metadata": {},
   "outputs": [],
   "source": [
    "df = pd.read_csv('../Data/donors.csv')"
   ]
  },
  {
   "cell_type": "code",
   "execution_count": 4,
   "metadata": {},
   "outputs": [
    {
     "output_type": "execute_result",
     "data": {
      "text/plain": [
       " 3       2          12         \n",
       "\n",
       "   WEALTH2 GEOCODE COLLECT1 VETERANS BIBLE CATLG HOMEE PETS CDPLAY STEREO  \\\n",
       "0      5.0                                                                  \n",
       "1      9.0      02                                                          \n",
       "2      1.0                                                                  \n",
       "3      0.0                                                                  \n",
       "4      NaN                               Y     Y                        Y   \n",
       "\n",
       "  PCOWNERS PHOTO CRAFTS FISHER GARDENIN BOATS WALKER KIDSTUFF CARDS PLATES  \\\n",
       "0                                                                            \n",
       "1                                                                            \n",
       "2                                                                            \n",
       "3                                                                            \n",
       "4                     Y               Y            Y              Y          \n",
       "\n",
       "  LIFESRC PEPSTRFL  POP901  POP902  POP903  POP90C1  POP90C2  POP90C3  \\\n",
       "0                X     992     264     332        0       35       65   \n",
       "1                     3611     940     998       99        0        0   \n",
       "2                X    7001    2040    2669        0        2       98   \n",
       "3                X     640     160     219        0        8       92   \n",
       "4       3             2520     627     761       99        0        0   \n",
       "\n",
       "   POP90C4  POP90C5  ETH1  ETH2  ETH3  ETH4  ETH5  ETH6  ETH7  ETH8  ETH9  \\\n",
       "0       47       53    92     1     0     0    11     0     0     0     0   \n",
       "1       50       50    67     0     0    31     6     4     2     6     4   \n",
       "2       49       51    96     2     0     0     2     0     0     0     0   \n",
       "3       54       46    61     0     0    11    32     6     2     0     0   \n",
       "4       46       54     2    98     0     0     1     0     0     0     0   \n",
       "\n",
       "   ETH10  ETH11  ETH12  ETH13  ETH14  ETH15  ETH16  AGE901  AGE902  AGE903  \\\n",
       "0      0      0      0     11      0      0      0      39      48      51   \n",
       "1     14      0      0      2      0      1      4      34      41      43   \n",
       "2      0      0      0      2      0      0      0      35      43      46   \n",
       "3      0      0      0     31      0      0      1      32      40      44   \n",
       "4      0      0      0      0      0      0      0      33      45      50   \n",
       "\n",
       "   AGE904  AGE905  AGE906  AGE907  CHIL1  CHIL2  CHIL3  AGEC1  AGEC2  AGEC3  \\\n",
       "0      40      50      54      25     31     42     27     11     14     18   \n",
       "1      32      42      45      32     33     46     21     13     14     33   \n",
       "2      37      45      49      23     35     40     25     13     20     19   \n",
       "3      34      43      47      25     45     35     20     15     25     17   \n",
       "4      36      46      50      27     34     43     23     14     21     13   \n",
       "\n",
       "   AGEC4  AGEC5  AGEC6  AGEC7  CHILC1  CHILC2  CHILC3  CHILC4  CHILC5  HHAGE1  \\\n",
       "0     17     13     11     15      12      11      34      25      18      26   \n",
       "1     23     10      4      2      11      16      36      22      15      12   \n",
       "2     16     13     10      8      15      14      30      22      19      25   \n",
       "3     17     12      7      7      20      17      30      14      19      25   \n",
       "4     15     20     12      5      13      15      34      19      19      31   \n",
       "\n",
       "   HHAGE2  HHAGE3  HHN1  HHN2  HHN3  HHN4  HHN5  HHN6  MARR1  MARR2  MARR3  \\\n",
       "0      10      23    18    33    49    28    12     4     61      7     12   \n",
       "1       1       5     4    21    75    55    23     9     69      4      3   \n",
       "2      10      23    21    35    44    22     6     2     63      9      9   \n",
       "3      11      23    23    27    50    30    15     8     63      9      6   \n",
       "4       7      27    16    26    57    36    24    14     42     17      9   \n",
       "\n",
       "   MARR4  HHP1  HHP2  DW1  DW2  DW3  DW4  DW5  DW6  DW7  DW8  DW9   HV1   HV2  \\\n",
       "0     19   198   276   97   95    2    2    0    0    7    7    0   479   635   \n",
       "1     24   317   360   99   99    0    0    0    0    0    0    0  5468  5218   \n",
       "2     19   183   254   69   69    1    6    5    3    3    3    0   497   546   \n",
       "3     23   199   283   85   83    3    4    1    0    2    0    2  1000  1263   \n",
       "4     33   235   323   99   98    0    0    0    0    0    0    0   576   594   \n",
       "\n",
       "   HV3  HV4  HU1  HU2  HU3  HU4  HU5  HHD1  HHD2  HHD3  HHD4  HHD5  HHD6  \\\n",
       "0    3    2   86   14   96    4    7    38    80    70    32    84    16   \n",
       "1   12   10   96    4   97    3    9    59    94    88    55    95     5   \n",
       "2    2    1   78   22   93    7   18    36    76    65    30    86    14   \n",
       "3    2    1   48   52   93    7    6    36    73    61    30    84    16   \n",
       "4    4    3   90   10   97    3    0    42    82    49    22    92     8   \n",
       "\n",
       "   HHD7  HHD8  HHD9  HHD10  HHD11  HHD12  ETHC1  ETHC2  ETHC3  ETHC4  ETHC5  \\\n",
       "0     6     2     5      9     15      3     17     50     25      0      0   \n",
       "1     4     1     3      5      4      2     18     44      5      0      0   \n",
       "2     7     2     5     11     17      3     17     60     18      0      1   \n",
       "3     6     3     3     21     12      4     13     36     13      0      0   \n",
       "4    20     3    17      9     23      1      1      1      0     21     58   \n",
       "\n",
       "   ETHC6  HVP1  HVP2  HVP3  HVP4  HVP5  HVP6  HUR1  HUR2  RHP1  RHP2  RHP3  \\\n",
       "0      0     2     7    13    27    47     0     1    61    58    61    15   \n",
       "1      0    97    98    98    98    99    94     0    83    76    73    21   \n",
       "2      0     0     1     6    18    50     0     4    36    49    51    14   \n",
       "3      0    10    25    50    69    92    10    15    42    55    50    15   \n",
       "4     19     0     1     2    16    67     0     2    45    52    53    16   \n",
       "\n",
       "   RHP4  HUPA1  HUPA2  HUPA3  HUPA4  HUPA5  HUPA6  HUPA7  RP1  RP2  RP3  RP4  \\\n",
       "0     4      2      0      0     14      1      0      0    2    5   17   73   \n",
       "1     5      0      0      0      4      0      0      0   91   91   91   94   \n",
       "2     5      4      2     24     11      2      3      6    0    2    9   44   \n",
       "3     5      4      0      9     42      4      0      5    1    8   17   34   \n",
       "4     6      0      0      0      9      0      0      0   25   58   74   83   \n",
       "\n",
       "      MSA    ADI    DMA   IC1   IC2   IC3   IC4    IC5  IC6  IC7  IC8  IC9  \\\n",
       "0     0.0  177.0  682.0   307   318   349   378  12883   13   23   23   23   \n",
       "1  4480.0   13.0  803.0  1088  1096  1026  1037  36175    2    6    2    5   \n",
       "2     0.0  281.0  518.0   251   292   292   340  11576   32   18   20   15   \n",
       "3  9340.0   67.0  862.0   386   388   396   423  15130   27   12    4   26   \n",
       "4  5000.0  127.0  528.0   240   250   293   321   9836   24   29   23   13   \n",
       "\n",
       "   IC10  IC11  IC12  IC13  IC14  IC15  IC16  IC17  IC18  IC19  IC20  IC21  \\\n",
       "0    15     1     0     0     1     4    25    24    26    17     2     0   \n",
       "1    15    14    13    10    33     2     5     2     5    15    14    14   \n",
       "2    12     2     0     0     1    20    19    24    18    16     2     0   \n",
       "3    22     5     0     0     4    35     5     6    12    30     6     0   \n",
       "4     4     4     0     0     2    21    30    22    16     4     5     0   \n",
       "\n",
       "   IC22  IC23  HHAS1  HHAS2  HHAS3  HHAS4  MC1  MC2  MC3  TPE1  TPE2  TPE3  \\\n",
       "0     0     2     28      4     51      1   46   54    3    88     8     0   \n",
       "1    10    32      6      2     66      3   56   44    9    80    14     0   \n",
       "2     0     1     28      8     31     11   38   62    8    74    22     0   \n",
       "3     0     5     22     14     26     20   46   54    3    58    36     0   \n",
       "4     0     3     35      8     11     14   20   80    4    73    22     1   \n",
       "\n",
       "   TPE4  TPE5  TPE6  TPE7  TPE8  TPE9  PEC1  PEC2  TPE10  TPE11  TPE12  TPE13  \\\n",
       "0     0     0     0     0     0     4     1    13     14     16      2     45   \n",
       "1     0     0     0     0     0     6     0     2     24     32     12     71   \n",
       "2     0     0     0     0     2     2     1    21     19     24      6     61   \n",
       "3     0     0     0     0     6     0     0    17     13     15      0     43   \n",
       "4     1     0     0     0     3     1     2     1     24     27      3     76   \n",
       "\n",
       "   LFC1  LFC2  LFC3  LFC4  LFC5  LFC6  LFC7  LFC8  LFC9  LFC10  OCC1  OCC2  \\\n",
       "0    56    64    50    64    44    62    53    99     0      0     9     3   \n",
       "1    70    83    58    81    57    64    57    99    99      0    22    24   \n",
       "2    65    73    59    70    56    78    62    82    99      4    10     5   \n",
       "3    69    81    53    68    45    33    31     0    99     23    17     3   \n",
       "4    61    73    51    65    49    80    31    81    99     10    17     8   \n",
       "\n",
       "   OCC3  OCC4  OCC5  OCC6  OCC7  OCC8  OCC9  OCC10  OCC11  OCC12  OCC13  EIC1  \\\n",
       "0     8    13     9     0     3     9     3     15     19      5      4     3   \n",
       "1     4    21    13     2     1     6     0      4      1      0      3     1   \n",
       "2     2     6    12     0     1     9     5     18     20      5      7     6   \n",
       "3     0     6     6     0     0    13    42     12      0      0      0    42   \n",
       "4     2     6    15     3     7    22     2      9      0      7      2     2   \n",
       "\n",
       "   EIC2  EIC3  EIC4  EIC5  EIC6  EIC7  EIC8  EIC9  EIC10  EIC11  EIC12  EIC13  \\\n",
       "0     0     3    41     1     0     7    13     6      5      0      4      9   \n",
       "1     0     6    13     1     2     8    18    11      4      3      4     10   \n",
       "2     0    11    33     4     3     2    12     3      3      2      0      7   \n",
       "3     0     6     3     0     0     0    23     3      3      6      0      3   \n",
       "4     0     6     1     5     2     2    12     2      7      6      4     15   \n",
       "\n",
       "   EIC14  EIC15  EIC16  OEDC1  OEDC2  OEDC3  OEDC4  OEDC5  OEDC6  OEDC7  EC1  \\\n",
       "0      4      1      3     10      2      1      7     78      2      0  120   \n",
       "1      7     11      1      6      2      1     16     69      5      2  160   \n",
       "2      8      3      3      6      7      1      8     74      3      1  120   \n",
       "3      3      3      3      3      0      3      6     87      0      0  120   \n",
       "4     29      4      3     26      3      2      7     49     12      1  120   \n",
       "\n",
       "   EC2  EC3  EC4  EC5  EC6  EC7  EC8  SEC1  SEC2  SEC3  SEC4  SEC5  AFC1  \\\n",
       "0   16   10   39   21    8    4    3     5    20     3    19     4     0   \n",
       "1    5    5   12   21    7   30   20    14    24     4    24    10     0   \n",
       "2   22   20   28   16    6    5    3     1    23     1    16     6     0   \n",
       "3   28   12   14   27   10    3    5     0    19     1    17     0     0   \n",
       "4   16   20   30   13    3   12    5     2    26     1    20     7     1   \n",
       "\n",
       "   AFC2  AFC3  AFC4  AFC5  AFC6  VC1  VC2  VC3  VC4  ANC1  ANC2  ANC3  ANC4  \\\n",
       "0     0     0    18    39     0   34   23   18   16     1     4     0    23   \n",
       "1     0     0     8    15     0   55   10   11    0     0     2     0     3   \n",
       "2     0     0    10    21     0   28   23   32    8     1    14     1     5   \n",
       "3     0     0    13    23     0   14   40   31   16     0     1     0    13   \n",
       "4     1     1    15    28     4    9   16   53   20     0     0     0     0   \n",
       "\n",
       "   ANC5  ANC6  ANC7  ANC8  ANC9  ANC10  ANC11  ANC12  ANC13  ANC14  ANC15  \\\n",
       "0     0     0     5     1     0      0      0      0      0      2      0   \n",
       "1     1     1     2     3     1      1      0      3      0      0      0   \n",
       "2     0     0     7     0     0      0      0      0      1      0      0   \n",
       "3     0     0     4     0     0      0      3      0      0      0      0   \n",
       "4     0     0     0     0     0      0      0      0      0      0      0   \n",
       "\n",
       "   POBC1  POBC2  LSC1  LSC2  LSC3  LSC4  VOC1  VOC2  VOC3  HC1  HC2  HC3  HC4  \\\n",
       "0      3     74    88     8     0     4    96    77    19   13   31    5   14   \n",
       "1     42     39    50     7    27    16    99    92    53    5   10    2   26   \n",
       "2      2     84    96     3     0     0    92    65    29    9   22    3   12   \n",
       "3     29     67    56    41     3     0    94    43    27    4   38    0   10   \n",
       "4      1     65    99     0     0     0    90    45    18   25   34    0    1   \n",
       "\n",
       "   HC5  HC6  HC7  HC8  HC9  HC10  HC11  HC12  HC13  HC14  HC15  HC16  HC17  \\\n",
       "0   14   31   54   46    0     0    90     0    10     0     0     0    33   \n",
       "1   56   97   99    0    0     0    96     0     4     0     0     0    99   \n",
       "2   23   50   69   31    0     0     0     6    35    44     0    15    22   \n",
       "3   19   39   45   55    0     0    45    22    17     0     0    16    23   \n",
       "4    3    6   33   67    0     0     9    14    72     3     0     0    99   \n",
       "\n",
       "   HC18  HC19  HC20  HC21  MHUC1  MHUC2  AC1  AC2     ADATE_2     ADATE_3  \\\n",
       "0    65    40    99    99      6      2   10    7  2017-06-01  2016-06-01   \n",
       "1     0    99    99    99     20      4    6    5  2017-06-01  2016-06-01   \n",
       "2    77    17    97    92      9      2    6    5  2017-06-01  2016-06-01   \n",
       "3    77    22    93    89     16      2    6    6  2017-06-01  2016-06-01   \n",
       "4     1    21    99    96      6      2    7   11  2017-06-01  2016-06-01   \n",
       "\n",
       "      ADATE_4     ADATE_5     ADATE_6     ADATE_7     ADATE_8     ADATE_9  \\\n",
       "0  2016-04-01  2016-04-01  2016-03-01  2016-02-01  2016-01-01  2015-11-01   \n",
       "1  2016-04-01  2016-04-01  2016-03-01  2016-02-01  2016-01-01  2015-11-01   \n",
       "2  2016-04-01  2016-04-01  2016-03-01  2016-02-01  2016-01-01  2015-11-01   \n",
       "3  2016-04-01  2016-04-01  2016-03-01  2016-02-01  2016-01-01  2015-11-01   \n",
       "4  2016-04-01  2016-04-01  2016-03-01  2015-12-01  2016-01-01  2015-11-01   \n",
       "\n",
       "     ADATE_10    ADATE_11    ADATE_12    ADATE_13    ADATE_14    ADATE_15  \\\n",
       "0  2015-10-01  2015-10-01  2015-08-01  2015-07-01  2015-06-01  2015-04-01   \n",
       "1  2015-10-01  2015-10-01  2015-09-01         NaN         NaN         NaN   \n",
       "2         NaN  2015-10-01  2015-08-01  2015-07-01  2015-06-01  2015-04-01   \n",
       "3         NaN  2015-10-01  2015-08-01  2015-07-01  2015-06-01  2015-04-01   \n",
       "4  2015-10-01  2015-09-01  2015-08-01  2015-02-01  2015-06-01         NaN   \n",
       "\n",
       "     ADATE_16    ADATE_17    ADATE_18    ADATE_19    ADATE_20    ADATE_21  \\\n",
       "0  2015-03-01  2015-02-01  2015-01-01  2014-11-01  2014-11-01  2014-10-01   \n",
       "1  2015-03-01         NaN         NaN  2014-11-01  2014-11-01  2014-10-01   \n",
       "2  2015-03-01         NaN  2015-01-01  2014-11-01         NaN         NaN   \n",
       "3  2015-03-01  2015-02-01  2015-01-01  2014-11-01  2014-11-01  2014-10-01   \n",
       "4  2015-03-01  2015-02-01  2014-12-01  2014-11-01  2014-11-01  2014-10-01   \n",
       "\n",
       "     ADATE_22    ADATE_23    ADATE_24 RFA_2 RFA_3 RFA_4 RFA_5 RFA_6 RFA_7  \\\n",
       "0  2014-09-01  2014-07-01  2014-06-01   L4E   S4E   S4E   S4E   S4E   S4E   \n",
       "1  2014-09-01         NaN  2014-06-01   L2G   A2G   A2G   A2G   A2G   A1E   \n",
       "2  2014-09-01  2014-07-01  2014-06-01   L4E   S4E   S4E   S4E   S4E   S4F   \n",
       "3  2014-09-01         NaN         NaN   L4E   S4E   S4E   S4E   S4E   S4E   \n",
       "4  2015-06-01  2014-07-01  2014-06-01   L2F   A2F   A2F   A2F   A1D   I2D   \n",
       "\n",
       "  RFA_8 RFA_9 RFA_10 RFA_11 RFA_12 RFA_13 RFA_14 RFA_15 RFA_16 RFA_17 RFA_18  \\\n",
       "0   S4E   S4E    S4E    S4E    S4E    S4E    S4E    S4E    S4E    S4E    S4E   \n",
       "1   A1E   A1E    A1E    A1E    A1E                         L1E                 \n",
       "2   S4F   S4F           S4F    S4F    S4F    S4F    S4F    S4F           S4D   \n",
       "3   S4E   S4E           S4E    S4E    S4E    S4E    S4E    S4E    S2D    S2D   \n",
       "4   A1E   A1E    L1D    A1E    A1E    L1D    L3D           L3D    A2D    A2D   \n",
       "\n",
       "  RFA_19 RFA_20 RFA_21 RFA_22 RFA_23 RFA_24  CARDPROM    MAXADATE  NUMPROM  \\\n",
       "0    S4E    S4E    S4E    S4E    S4E    S4E        27  2017-02-01       74   \n",
       "1    N1E    N1E    N1E    N1E           F1E        12  2017-02-01       32   \n",
       "2    S4D                  S4D    S4D    S3D        26  2017-02-01       63   \n",
       "3    A1D    A1D    A1D    A1D                      27  2017-02-01       66   \n",
       "4    A3D    A3D    A3D    I4E    A3D    A3D        43  2017-02-01      113   \n",
       "\n",
       "   CARDPM12  NUMPRM12 RDATE_3 RDATE_4 RDATE_5 RDATE_6 RDATE_7     RDATE_8  \\\n",
       "0         6        14     NaN     NaN     NaN     NaN     NaN         NaN   \n",
       "1         6        13     NaN     NaN     NaN     NaN     NaN         NaN   \n",
       "2         6        14     NaN     NaN     NaN     NaN     NaN         NaN   \n",
       "3         6        14     NaN     NaN     NaN     NaN     NaN         NaN   \n",
       "4        10        25     NaN     NaN     NaN     NaN     NaN  2016-01-01   \n",
       "\n",
       "      RDATE_9    RDATE_10    RDATE_11    RDATE_12 RDATE_13    RDATE_14  \\\n",
       "0         NaN  2015-12-01         NaN         NaN      NaN  2015-07-01   \n",
       "1  2015-12-01         NaN         NaN         NaN      NaN         NaN   \n",
       "2         NaN         NaN         NaN  2015-09-01      NaN  2015-06-01   \n",
       "3         NaN         NaN  2015-12-01  2015-09-01      NaN  2015-08-01   \n",
       "4         NaN         NaN         NaN         NaN      NaN  2015-06-01   \n",
       "\n",
       "     RDATE_15    RDATE_16    RDATE_17    RDATE_18 RDATE_19    RDATE_20  \\\n",
       "0  2015-05-01  2015-05-01  2015-03-01         NaN      NaN         NaN   \n",
       "1         NaN  2015-04-01         NaN         NaN      NaN         NaN   \n",
       "2         NaN  2015-04-01         NaN  2015-01-01      NaN         NaN   \n",
       "3         NaN  2015-05-01  2015-03-01         NaN      NaN  2014-11-01   \n",
       "4         NaN         NaN         NaN         NaN      NaN         NaN   \n",
       "\n",
       "     RDATE_21    RDATE_22    RDATE_23    RDATE_24  RAMNT_3  RAMNT_4  RAMNT_5  \\\n",
       "0         NaN         NaN  2014-08-01  2014-06-01      NaN      NaN      NaN   \n",
       "1         NaN         NaN         NaN         NaN      NaN      NaN      NaN   \n",
       "2         NaN  2014-09-01  2014-07-01  2014-06-01      NaN      NaN      NaN   \n",
       "3  2014-11-01         NaN         NaN         NaN      NaN      NaN      NaN   \n",
       "4         NaN         NaN         NaN         NaN      NaN      NaN      NaN   \n",
       "\n",
       "   RAMNT_6  RAMNT_7  RAMNT_8  RAMNT_9  RAMNT_10  RAMNT_11  RAMNT_12  RAMNT_13  \\\n",
       "0      NaN      NaN      NaN      NaN      10.0       NaN       NaN       NaN   \n",
       "1      NaN      NaN      NaN     25.0       NaN       NaN       NaN       NaN   \n",
       "2      NaN      NaN      NaN      NaN       NaN       NaN      11.0       NaN   \n",
       "3      NaN      NaN      NaN      NaN       NaN      10.0      10.0       NaN   \n",
       "4      NaN      NaN     15.0      NaN       NaN       NaN       NaN       NaN   \n",
       "\n",
       "   RAMNT_14  RAMNT_15  RAMNT_16  RAMNT_17  RAMNT_18  RAMNT_19  RAMNT_20  \\\n",
       "0      10.0      11.0      11.0      11.0       NaN       NaN       NaN   \n",
       "1       NaN       NaN      12.0       NaN       NaN       NaN       NaN   \n",
       "2       9.0       NaN       9.0       NaN       8.0       NaN       NaN   \n",
       "3      10.0       NaN       7.0      11.0       NaN       NaN       6.0   \n",
       "4      10.0       NaN       NaN       NaN       NaN       NaN       NaN   \n",
       "\n",
       "   RAMNT_21  RAMNT_22  RAMNT_23  RAMNT_24  RAMNTALL  NGIFTALL  CARDGIFT  \\\n",
       "0       NaN       NaN      11.0       9.0     240.0        31        14   \n",
       "1       NaN       NaN       NaN       NaN      47.0         3         1   \n",
       "2       NaN       8.0       7.0       6.0     202.0        27        14   \n",
       "3      11.0       NaN       NaN       NaN     109.0        16         7   \n",
       "4       NaN       NaN       NaN       NaN     254.0        37         8   \n",
       "\n",
       "   MINRAMNT    MINRDATE  MAXRAMNT    MAXRDATE  LASTGIFT    LASTDATE  \\\n",
       "0       5.0  2012-08-01      12.0  2014-02-01      10.0  2015-12-01   \n",
       "1      10.0  2013-10-01      25.0  2015-12-01      25.0  2015-12-01   \n",
       "2       2.0  2011-11-01      16.0  2012-07-01       5.0  2015-12-01   \n",
       "3       2.0  2007-11-01      11.0  2014-11-01      10.0  2015-12-01   \n",
       "4       3.0  2013-10-01      15.0  2016-01-01      15.0  2016-01-01   \n",
       "\n",
       "     FISTDATE    NEXTDATE  TIMELAG    AVGGIFT  CONTROLN  HPHONE_D RFA_2R  \\\n",
       "0  2009-11-01  2010-03-01      4.0   7.741935     95515         0      L   \n",
       "1  2013-10-01  2015-04-01     18.0  15.666667    148535         0      L   \n",
       "2  2010-01-01  2011-01-01     12.0   7.481481     15078         1      L   \n",
       "3  2007-02-01  2007-11-01      9.0   6.812500    172556         1      L   \n",
       "4  1999-03-01  2000-05-01     14.0   6.864865      7112         1      L   \n",
       "\n",
       "   RFA_2F RFA_2A MDMAUD_R MDMAUD_F MDMAUD_A GEOCODE2  \n",
       "0       4      E        X        X        X        C  \n",
       "1       2      G        X        X        X        A  \n",
       "2       4      E        X        X        X        C  \n",
       "3       4      E        X        X        X        C  \n",
       "4       2      F        X        X        X        A  "
      ],
      "text/html": "<div>\n<style scoped>\n    .dataframe tbody tr th:only-of-type {\n        vertical-align: middle;\n    }\n\n    .dataframe tbody tr th {\n        vertical-align: top;\n    }\n\n    .dataframe thead th {\n        text-align: right;\n    }\n</style>\n<table border=\"1\" class=\"dataframe\">\n  <thead>\n    <tr style=\"text-align: right;\">\n      <th></th>\n      <th>Unnamed: 0</th>\n      <th>ODATEDW</th>\n      <th>OSOURCE</th>\n      <th>TCODE</th>\n      <th>STATE</th>\n      <th>ZIP</th>\n      <th>MAILCODE</th>\n      <th>PVASTATE</th>\n      <th>DOB</th>\n      <th>NOEXCH</th>\n      <th>RECINHSE</th>\n      <th>RECP3</th>\n      <th>RECPGVG</th>\n      <th>RECSWEEP</th>\n      <th>MDMAUD</th>\n      <th>DOMAIN</th>\n      <th>HOMEOWNR</th>\n      <th>CHILD03</th>\n      <th>CHILD07</th>\n      <th>CHILD12</th>\n      <th>CHILD18</th>\n      <th>NUMCHLD</th>\n      <th>INCOME</th>\n      <th>GENDER</th>\n      <th>WEALTH1</th>\n      <th>HIT</th>\n      <th>MBCRAFT</th>\n      <th>MBGARDEN</th>\n      <th>MBBOOKS</th>\n      <th>MBCOLECT</th>\n      <th>MAGFAML</th>\n      <th>MAGFEM</th>\n      <th>MAGMALE</th>\n      <th>PUBGARDN</th>\n      <th>PUBCULIN</th>\n      <th>PUBHLTH</th>\n      <th>PUBDOITY</th>\n      <th>PUBNEWFN</th>\n      <th>PUBPHOTO</th>\n      <th>PUBOPP</th>\n      <th>DATASRCE</th>\n      <th>MALEMILI</th>\n      <th>MALEVET</th>\n      <th>VIETVETS</th>\n      <th>WWIIVETS</th>\n      <th>LOCALGOV</th>\n      <th>STATEGOV</th>\n      <th>FEDGOV</th>\n      <th>SOLP3</th>\n      <th>SOLIH</th>\n      <th>MAJOR</th>\n      <th>WEALTH2</th>\n      <th>GEOCODE</th>\n      <th>COLLECT1</th>\n      <th>VETERANS</th>\n      <th>BIBLE</th>\n      <th>CATLG</th>\n      <th>HOMEE</th>\n      <th>PETS</th>\n      <th>CDPLAY</th>\n      <th>STEREO</th>\n      <th>PCOWNERS</th>\n      <th>PHOTO</th>\n      <th>CRAFTS</th>\n      <th>FISHER</th>\n      <th>GARDENIN</th>\n      <th>BOATS</th>\n      <th>WALKER</th>\n      <th>KIDSTUFF</th>\n      <th>CARDS</th>\n      <th>PLATES</th>\n      <th>LIFESRC</th>\n      <th>PEPSTRFL</th>\n      <th>POP901</th>\n      <th>POP902</th>\n      <th>POP903</th>\n      <th>POP90C1</th>\n      <th>POP90C2</th>\n      <th>POP90C3</th>\n      <th>POP90C4</th>\n      <th>POP90C5</th>\n      <th>ETH1</th>\n      <th>ETH2</th>\n      <th>ETH3</th>\n      <th>ETH4</th>\n      <th>ETH5</th>\n      <th>ETH6</th>\n      <th>ETH7</th>\n      <th>ETH8</th>\n      <th>ETH9</th>\n      <th>ETH10</th>\n      <th>ETH11</th>\n      <th>ETH12</th>\n      <th>ETH13</th>\n      <th>ETH14</th>\n      <th>ETH15</th>\n      <th>ETH16</th>\n      <th>AGE901</th>\n      <th>AGE902</th>\n      <th>AGE903</th>\n      <th>AGE904</th>\n      <th>AGE905</th>\n      <th>AGE906</th>\n      <th>AGE907</th>\n      <th>CHIL1</th>\n      <th>CHIL2</th>\n      <th>CHIL3</th>\n      <th>AGEC1</th>\n      <th>AGEC2</th>\n      <th>AGEC3</th>\n      <th>AGEC4</th>\n      <th>AGEC5</th>\n      <th>AGEC6</th>\n      <th>AGEC7</th>\n      <th>CHILC1</th>\n      <th>CHILC2</th>\n      <th>CHILC3</th>\n      <th>CHILC4</th>\n      <th>CHILC5</th>\n      <th>HHAGE1</th>\n      <th>HHAGE2</th>\n      <th>HHAGE3</th>\n      <th>HHN1</th>\n      <th>HHN2</th>\n      <th>HHN3</th>\n      <th>HHN4</th>\n      <th>HHN5</th>\n      <th>HHN6</th>\n      <th>MARR1</th>\n      <th>MARR2</th>\n      <th>MARR3</th>\n      <th>MARR4</th>\n      <th>HHP1</th>\n      <th>HHP2</th>\n      <th>DW1</th>\n      <th>DW2</th>\n      <th>DW3</th>\n      <th>DW4</th>\n      <th>DW5</th>\n      <th>DW6</th>\n      <th>DW7</th>\n      <th>DW8</th>\n      <th>DW9</th>\n      <th>HV1</th>\n      <th>HV2</th>\n      <th>HV3</th>\n      <th>HV4</th>\n      <th>HU1</th>\n      <th>HU2</th>\n      <th>HU3</th>\n      <th>HU4</th>\n      <th>HU5</th>\n      <th>HHD1</th>\n      <th>HHD2</th>\n      <th>HHD3</th>\n      <th>HHD4</th>\n      <th>HHD5</th>\n      <th>HHD6</th>\n      <th>HHD7</th>\n      <th>HHD8</th>\n      <th>HHD9</th>\n      <th>HHD10</th>\n      <th>HHD11</th>\n      <th>HHD12</th>\n      <th>ETHC1</th>\n      <th>ETHC2</th>\n      <th>ETHC3</th>\n      <th>ETHC4</th>\n      <th>ETHC5</th>\n      <th>ETHC6</th>\n      <th>HVP1</th>\n      <th>HVP2</th>\n      <th>HVP3</th>\n      <th>HVP4</th>\n      <th>HVP5</th>\n      <th>HVP6</th>\n      <th>HUR1</th>\n      <th>HUR2</th>\n      <th>RHP1</th>\n      <th>RHP2</th>\n      <th>RHP3</th>\n      <th>RHP4</th>\n      <th>HUPA1</th>\n      <th>HUPA2</th>\n      <th>HUPA3</th>\n      <th>HUPA4</th>\n      <th>HUPA5</th>\n      <th>HUPA6</th>\n      <th>HUPA7</th>\n      <th>RP1</th>\n      <th>RP2</th>\n      <th>RP3</th>\n      <th>RP4</th>\n      <th>MSA</th>\n      <th>ADI</th>\n      <th>DMA</th>\n      <th>IC1</th>\n      <th>IC2</th>\n      <th>IC3</th>\n      <th>IC4</th>\n      <th>IC5</th>\n      <th>IC6</th>\n      <th>IC7</th>\n      <th>IC8</th>\n      <th>IC9</th>\n      <th>IC10</th>\n      <th>IC11</th>\n      <th>IC12</th>\n      <th>IC13</th>\n      <th>IC14</th>\n      <th>IC15</th>\n      <th>IC16</th>\n      <th>IC17</th>\n      <th>IC18</th>\n      <th>IC19</th>\n      <th>IC20</th>\n      <th>IC21</th>\n      <th>IC22</th>\n      <th>IC23</th>\n      <th>HHAS1</th>\n      <th>HHAS2</th>\n      <th>HHAS3</th>\n      <th>HHAS4</th>\n      <th>MC1</th>\n      <th>MC2</th>\n      <th>MC3</th>\n      <th>TPE1</th>\n      <th>TPE2</th>\n      <th>TPE3</th>\n      <th>TPE4</th>\n      <th>TPE5</th>\n      <th>TPE6</th>\n      <th>TPE7</th>\n      <th>TPE8</th>\n      <th>TPE9</th>\n      <th>PEC1</th>\n      <th>PEC2</th>\n      <th>TPE10</th>\n      <th>TPE11</th>\n      <th>TPE12</th>\n      <th>TPE13</th>\n      <th>LFC1</th>\n      <th>LFC2</th>\n      <th>LFC3</th>\n      <th>LFC4</th>\n      <th>LFC5</th>\n      <th>LFC6</th>\n      <th>LFC7</th>\n      <th>LFC8</th>\n      <th>LFC9</th>\n      <th>LFC10</th>\n      <th>OCC1</th>\n      <th>OCC2</th>\n      <th>OCC3</th>\n      <th>OCC4</th>\n      <th>OCC5</th>\n      <th>OCC6</th>\n      <th>OCC7</th>\n      <th>OCC8</th>\n      <th>OCC9</th>\n      <th>OCC10</th>\n      <th>OCC11</th>\n      <th>OCC12</th>\n      <th>OCC13</th>\n      <th>EIC1</th>\n      <th>EIC2</th>\n      <th>EIC3</th>\n      <th>EIC4</th>\n      <th>EIC5</th>\n      <th>EIC6</th>\n      <th>EIC7</th>\n      <th>EIC8</th>\n      <th>EIC9</th>\n      <th>EIC10</th>\n      <th>EIC11</th>\n      <th>EIC12</th>\n      <th>EIC13</th>\n      <th>EIC14</th>\n      <th>EIC15</th>\n      <th>EIC16</th>\n      <th>OEDC1</th>\n      <th>OEDC2</th>\n      <th>OEDC3</th>\n      <th>OEDC4</th>\n      <th>OEDC5</th>\n      <th>OEDC6</th>\n      <th>OEDC7</th>\n      <th>EC1</th>\n      <th>EC2</th>\n      <th>EC3</th>\n      <th>EC4</th>\n      <th>EC5</th>\n      <th>EC6</th>\n      <th>EC7</th>\n      <th>EC8</th>\n      <th>SEC1</th>\n      <th>SEC2</th>\n      <th>SEC3</th>\n      <th>SEC4</th>\n      <th>SEC5</th>\n      <th>AFC1</th>\n      <th>AFC2</th>\n      <th>AFC3</th>\n      <th>AFC4</th>\n      <th>AFC5</th>\n      <th>AFC6</th>\n      <th>VC1</th>\n      <th>VC2</th>\n      <th>VC3</th>\n      <th>VC4</th>\n      <th>ANC1</th>\n      <th>ANC2</th>\n      <th>ANC3</th>\n      <th>ANC4</th>\n      <th>ANC5</th>\n      <th>ANC6</th>\n      <th>ANC7</th>\n      <th>ANC8</th>\n      <th>ANC9</th>\n      <th>ANC10</th>\n      <th>ANC11</th>\n      <th>ANC12</th>\n      <th>ANC13</th>\n      <th>ANC14</th>\n      <th>ANC15</th>\n      <th>POBC1</th>\n      <th>POBC2</th>\n      <th>LSC1</th>\n      <th>LSC2</th>\n      <th>LSC3</th>\n      <th>LSC4</th>\n      <th>VOC1</th>\n      <th>VOC2</th>\n      <th>VOC3</th>\n      <th>HC1</th>\n      <th>HC2</th>\n      <th>HC3</th>\n      <th>HC4</th>\n      <th>HC5</th>\n      <th>HC6</th>\n      <th>HC7</th>\n      <th>HC8</th>\n      <th>HC9</th>\n      <th>HC10</th>\n      <th>HC11</th>\n      <th>HC12</th>\n      <th>HC13</th>\n      <th>HC14</th>\n      <th>HC15</th>\n      <th>HC16</th>\n      <th>HC17</th>\n      <th>HC18</th>\n      <th>HC19</th>\n      <th>HC20</th>\n      <th>HC21</th>\n      <th>MHUC1</th>\n      <th>MHUC2</th>\n      <th>AC1</th>\n      <th>AC2</th>\n      <th>ADATE_2</th>\n      <th>ADATE_3</th>\n      <th>ADATE_4</th>\n      <th>ADATE_5</th>\n      <th>ADATE_6</th>\n      <th>ADATE_7</th>\n      <th>ADATE_8</th>\n      <th>ADATE_9</th>\n      <th>ADATE_10</th>\n      <th>ADATE_11</th>\n      <th>ADATE_12</th>\n      <th>ADATE_13</th>\n      <th>ADATE_14</th>\n      <th>ADATE_15</th>\n      <th>ADATE_16</th>\n      <th>ADATE_17</th>\n      <th>ADATE_18</th>\n      <th>ADATE_19</th>\n      <th>ADATE_20</th>\n      <th>ADATE_21</th>\n      <th>ADATE_22</th>\n      <th>ADATE_23</th>\n      <th>ADATE_24</th>\n      <th>RFA_2</th>\n      <th>RFA_3</th>\n      <th>RFA_4</th>\n      <th>RFA_5</th>\n      <th>RFA_6</th>\n      <th>RFA_7</th>\n      <th>RFA_8</th>\n      <th>RFA_9</th>\n      <th>RFA_10</th>\n      <th>RFA_11</th>\n      <th>RFA_12</th>\n      <th>RFA_13</th>\n      <th>RFA_14</th>\n      <th>RFA_15</th>\n      <th>RFA_16</th>\n      <th>RFA_17</th>\n      <th>RFA_18</th>\n      <th>RFA_19</th>\n      <th>RFA_20</th>\n      <th>RFA_21</th>\n      <th>RFA_22</th>\n      <th>RFA_23</th>\n      <th>RFA_24</th>\n      <th>CARDPROM</th>\n      <th>MAXADATE</th>\n      <th>NUMPROM</th>\n      <th>CARDPM12</th>\n      <th>NUMPRM12</th>\n      <th>RDATE_3</th>\n      <th>RDATE_4</th>\n      <th>RDATE_5</th>\n      <th>RDATE_6</th>\n      <th>RDATE_7</th>\n      <th>RDATE_8</th>\n      <th>RDATE_9</th>\n      <th>RDATE_10</th>\n      <th>RDATE_11</th>\n      <th>RDATE_12</th>\n      <th>RDATE_13</th>\n      <th>RDATE_14</th>\n      <th>RDATE_15</th>\n      <th>RDATE_16</th>\n      <th>RDATE_17</th>\n      <th>RDATE_18</th>\n      <th>RDATE_19</th>\n      <th>RDATE_20</th>\n      <th>RDATE_21</th>\n      <th>RDATE_22</th>\n      <th>RDATE_23</th>\n      <th>RDATE_24</th>\n      <th>RAMNT_3</th>\n      <th>RAMNT_4</th>\n      <th>RAMNT_5</th>\n      <th>RAMNT_6</th>\n      <th>RAMNT_7</th>\n      <th>RAMNT_8</th>\n      <th>RAMNT_9</th>\n      <th>RAMNT_10</th>\n      <th>RAMNT_11</th>\n      <th>RAMNT_12</th>\n      <th>RAMNT_13</th>\n      <th>RAMNT_14</th>\n      <th>RAMNT_15</th>\n      <th>RAMNT_16</th>\n      <th>RAMNT_17</th>\n      <th>RAMNT_18</th>\n      <th>RAMNT_19</th>\n      <th>RAMNT_20</th>\n      <th>RAMNT_21</th>\n      <th>RAMNT_22</th>\n      <th>RAMNT_23</th>\n      <th>RAMNT_24</th>\n      <th>RAMNTALL</th>\n      <th>NGIFTALL</th>\n      <th>CARDGIFT</th>\n      <th>MINRAMNT</th>\n      <th>MINRDATE</th>\n      <th>MAXRAMNT</th>\n      <th>MAXRDATE</th>\n      <th>LASTGIFT</th>\n      <th>LASTDATE</th>\n      <th>FISTDATE</th>\n      <th>NEXTDATE</th>\n      <th>TIMELAG</th>\n      <th>AVGGIFT</th>\n      <th>CONTROLN</th>\n      <th>HPHONE_D</th>\n      <th>RFA_2R</th>\n      <th>RFA_2F</th>\n      <th>RFA_2A</th>\n      <th>MDMAUD_R</th>\n      <th>MDMAUD_F</th>\n      <th>MDMAUD_A</th>\n      <th>GEOCODE2</th>\n    </tr>\n  </thead>\n  <tbody>\n    <tr>\n      <th>0</th>\n      <td>0</td>\n      <td>2009-01-01</td>\n      <td>GRI</td>\n      <td>0</td>\n      <td>IL</td>\n      <td>61081</td>\n      <td></td>\n      <td></td>\n      <td>1957-12-01</td>\n      <td>0</td>\n      <td></td>\n      <td></td>\n      <td></td>\n      <td></td>\n      <td>XXXX</td>\n      <td>T2</td>\n      <td></td>\n      <td></td>\n      <td></td>\n      <td></td>\n      <td></td>\n      <td>NaN</td>\n      <td>NaN</td>\n      <td>F</td>\n      <td>NaN</td>\n      <td>0</td>\n      <td>NaN</td>\n      <td>NaN</td>\n      <td>NaN</td>\n      <td>NaN</td>\n      <td>NaN</td>\n      <td>NaN</td>\n      <td>NaN</td>\n      <td>NaN</td>\n      <td>NaN</td>\n      <td>NaN</td>\n      <td>NaN</td>\n      <td>NaN</td>\n      <td>NaN</td>\n      <td>NaN</td>\n      <td></td>\n      <td>0</td>\n      <td>39</td>\n      <td>34</td>\n      <td>18</td>\n      <td>10</td>\n      <td>2</td>\n      <td>1</td>\n      <td></td>\n      <td></td>\n      <td></td>\n      <td>5.0</td>\n      <td></td>\n      <td></td>\n      <td></td>\n      <td></td>\n      <td></td>\n      <td></td>\n      <td></td>\n      <td></td>\n      <td></td>\n      <td></td>\n      <td></td>\n      <td></td>\n      <td></td>\n      <td></td>\n      <td></td>\n      <td></td>\n      <td></td>\n      <td></td>\n      <td></td>\n      <td></td>\n      <td>X</td>\n      <td>992</td>\n      <td>264</td>\n      <td>332</td>\n      <td>0</td>\n      <td>35</td>\n      <td>65</td>\n      <td>47</td>\n      <td>53</td>\n      <td>92</td>\n      <td>1</td>\n      <td>0</td>\n      <td>0</td>\n      <td>11</td>\n      <td>0</td>\n      <td>0</td>\n      <td>0</td>\n      <td>0</td>\n      <td>0</td>\n      <td>0</td>\n      <td>0</td>\n      <td>11</td>\n      <td>0</td>\n      <td>0</td>\n      <td>0</td>\n      <td>39</td>\n      <td>48</td>\n      <td>51</td>\n      <td>40</td>\n      <td>50</td>\n      <td>54</td>\n      <td>25</td>\n      <td>31</td>\n      <td>42</td>\n      <td>27</td>\n      <td>11</td>\n      <td>14</td>\n      <td>18</td>\n      <td>17</td>\n      <td>13</td>\n      <td>11</td>\n      <td>15</td>\n      <td>12</td>\n      <td>11</td>\n      <td>34</td>\n      <td>25</td>\n      <td>18</td>\n      <td>26</td>\n      <td>10</td>\n      <td>23</td>\n      <td>18</td>\n      <td>33</td>\n      <td>49</td>\n      <td>28</td>\n      <td>12</td>\n      <td>4</td>\n      <td>61</td>\n      <td>7</td>\n      <td>12</td>\n      <td>19</td>\n      <td>198</td>\n      <td>276</td>\n      <td>97</td>\n      <td>95</td>\n      <td>2</td>\n      <td>2</td>\n      <td>0</td>\n      <td>0</td>\n      <td>7</td>\n      <td>7</td>\n      <td>0</td>\n      <td>479</td>\n      <td>635</td>\n      <td>3</td>\n      <td>2</td>\n      <td>86</td>\n      <td>14</td>\n      <td>96</td>\n      <td>4</td>\n      <td>7</td>\n      <td>38</td>\n      <td>80</td>\n      <td>70</td>\n      <td>32</td>\n      <td>84</td>\n      <td>16</td>\n      <td>6</td>\n      <td>2</td>\n      <td>5</td>\n      <td>9</td>\n      <td>15</td>\n      <td>3</td>\n      <td>17</td>\n      <td>50</td>\n      <td>25</td>\n      <td>0</td>\n      <td>0</td>\n      <td>0</td>\n      <td>2</td>\n      <td>7</td>\n      <td>13</td>\n      <td>27</td>\n      <td>47</td>\n      <td>0</td>\n      <td>1</td>\n      <td>61</td>\n      <td>58</td>\n      <td>61</td>\n      <td>15</td>\n      <td>4</td>\n      <td>2</td>\n      <td>0</td>\n      <td>0</td>\n      <td>14</td>\n      <td>1</td>\n      <td>0</td>\n      <td>0</td>\n      <td>2</td>\n      <td>5</td>\n      <td>17</td>\n      <td>73</td>\n      <td>0.0</td>\n      <td>177.0</td>\n      <td>682.0</td>\n      <td>307</td>\n      <td>318</td>\n      <td>349</td>\n      <td>378</td>\n      <td>12883</td>\n      <td>13</td>\n      <td>23</td>\n      <td>23</td>\n      <td>23</td>\n      <td>15</td>\n      <td>1</td>\n      <td>0</td>\n      <td>0</td>\n      <td>1</td>\n      <td>4</td>\n      <td>25</td>\n      <td>24</td>\n      <td>26</td>\n      <td>17</td>\n      <td>2</td>\n      <td>0</td>\n      <td>0</td>\n      <td>2</td>\n      <td>28</td>\n      <td>4</td>\n      <td>51</td>\n      <td>1</td>\n      <td>46</td>\n      <td>54</td>\n      <td>3</td>\n      <td>88</td>\n      <td>8</td>\n      <td>0</td>\n      <td>0</td>\n      <td>0</td>\n      <td>0</td>\n      <td>0</td>\n      <td>0</td>\n      <td>4</td>\n      <td>1</td>\n      <td>13</td>\n      <td>14</td>\n      <td>16</td>\n      <td>2</td>\n      <td>45</td>\n      <td>56</td>\n      <td>64</td>\n      <td>50</td>\n      <td>64</td>\n      <td>44</td>\n      <td>62</td>\n      <td>53</td>\n      <td>99</td>\n      <td>0</td>\n      <td>0</td>\n      <td>9</td>\n      <td>3</td>\n      <td>8</td>\n      <td>13</td>\n      <td>9</td>\n      <td>0</td>\n      <td>3</td>\n      <td>9</td>\n      <td>3</td>\n      <td>15</td>\n      <td>19</td>\n      <td>5</td>\n      <td>4</td>\n      <td>3</td>\n      <td>0</td>\n      <td>3</td>\n      <td>41</td>\n      <td>1</td>\n      <td>0</td>\n      <td>7</td>\n      <td>13</td>\n      <td>6</td>\n      <td>5</td>\n      <td>0</td>\n      <td>4</td>\n      <td>9</td>\n      <td>4</td>\n      <td>1</td>\n      <td>3</td>\n      <td>10</td>\n      <td>2</td>\n      <td>1</td>\n      <td>7</td>\n      <td>78</td>\n      <td>2</td>\n      <td>0</td>\n      <td>120</td>\n      <td>16</td>\n      <td>10</td>\n      <td>39</td>\n      <td>21</td>\n      <td>8</td>\n      <td>4</td>\n      <td>3</td>\n      <td>5</td>\n      <td>20</td>\n      <td>3</td>\n      <td>19</td>\n      <td>4</td>\n      <td>0</td>\n      <td>0</td>\n      <td>0</td>\n      <td>18</td>\n      <td>39</td>\n      <td>0</td>\n      <td>34</td>\n      <td>23</td>\n      <td>18</td>\n      <td>16</td>\n      <td>1</td>\n      <td>4</td>\n      <td>0</td>\n      <td>23</td>\n      <td>0</td>\n      <td>0</td>\n      <td>5</td>\n      <td>1</td>\n      <td>0</td>\n      <td>0</td>\n      <td>0</td>\n      <td>0</td>\n      <td>0</td>\n      <td>2</td>\n      <td>0</td>\n      <td>3</td>\n      <td>74</td>\n      <td>88</td>\n      <td>8</td>\n      <td>0</td>\n      <td>4</td>\n      <td>96</td>\n      <td>77</td>\n      <td>19</td>\n      <td>13</td>\n      <td>31</td>\n      <td>5</td>\n      <td>14</td>\n      <td>14</td>\n      <td>31</td>\n      <td>54</td>\n      <td>46</td>\n      <td>0</td>\n      <td>0</td>\n      <td>90</td>\n      <td>0</td>\n      <td>10</td>\n      <td>0</td>\n      <td>0</td>\n      <td>0</td>\n      <td>33</td>\n      <td>65</td>\n      <td>40</td>\n      <td>99</td>\n      <td>99</td>\n      <td>6</td>\n      <td>2</td>\n      <td>10</td>\n      <td>7</td>\n      <td>2017-06-01</td>\n      <td>2016-06-01</td>\n      <td>2016-04-01</td>\n      <td>2016-04-01</td>\n      <td>2016-03-01</td>\n      <td>2016-02-01</td>\n      <td>2016-01-01</td>\n      <td>2015-11-01</td>\n      <td>2015-10-01</td>\n      <td>2015-10-01</td>\n      <td>2015-08-01</td>\n      <td>2015-07-01</td>\n      <td>2015-06-01</td>\n      <td>2015-04-01</td>\n      <td>2015-03-01</td>\n      <td>2015-02-01</td>\n      <td>2015-01-01</td>\n      <td>2014-11-01</td>\n      <td>2014-11-01</td>\n      <td>2014-10-01</td>\n      <td>2014-09-01</td>\n      <td>2014-07-01</td>\n      <td>2014-06-01</td>\n      <td>L4E</td>\n      <td>S4E</td>\n      <td>S4E</td>\n      <td>S4E</td>\n      <td>S4E</td>\n      <td>S4E</td>\n      <td>S4E</td>\n      <td>S4E</td>\n      <td>S4E</td>\n      <td>S4E</td>\n      <td>S4E</td>\n      <td>S4E</td>\n      <td>S4E</td>\n      <td>S4E</td>\n      <td>S4E</td>\n      <td>S4E</td>\n      <td>S4E</td>\n      <td>S4E</td>\n      <td>S4E</td>\n      <td>S4E</td>\n      <td>S4E</td>\n      <td>S4E</td>\n      <td>S4E</td>\n      <td>27</td>\n      <td>2017-02-01</td>\n      <td>74</td>\n      <td>6</td>\n      <td>14</td>\n      <td>NaN</td>\n      <td>NaN</td>\n      <td>NaN</td>\n      <td>NaN</td>\n      <td>NaN</td>\n      <td>NaN</td>\n      <td>NaN</td>\n      <td>2015-12-01</td>\n      <td>NaN</td>\n      <td>NaN</td>\n      <td>NaN</td>\n      <td>2015-07-01</td>\n      <td>2015-05-01</td>\n      <td>2015-05-01</td>\n      <td>2015-03-01</td>\n      <td>NaN</td>\n      <td>NaN</td>\n      <td>NaN</td>\n      <td>NaN</td>\n      <td>NaN</td>\n      <td>2014-08-01</td>\n      <td>2014-06-01</td>\n      <td>NaN</td>\n      <td>NaN</td>\n      <td>NaN</td>\n      <td>NaN</td>\n      <td>NaN</td>\n      <td>NaN</td>\n      <td>NaN</td>\n      <td>10.0</td>\n      <td>NaN</td>\n      <td>NaN</td>\n      <td>NaN</td>\n      <td>10.0</td>\n      <td>11.0</td>\n      <td>11.0</td>\n      <td>11.0</td>\n      <td>NaN</td>\n      <td>NaN</td>\n      <td>NaN</td>\n      <td>NaN</td>\n      <td>NaN</td>\n      <td>11.0</td>\n      <td>9.0</td>\n      <td>240.0</td>\n      <td>31</td>\n      <td>14</td>\n      <td>5.0</td>\n      <td>2012-08-01</td>\n      <td>12.0</td>\n      <td>2014-02-01</td>\n      <td>10.0</td>\n      <td>2015-12-01</td>\n      <td>2009-11-01</td>\n      <td>2010-03-01</td>\n      <td>4.0</td>\n      <td>7.741935</td>\n      <td>95515</td>\n      <td>0</td>\n      <td>L</td>\n      <td>4</td>\n      <td>E</td>\n      <td>X</td>\n      <td>X</td>\n      <td>X</td>\n      <td>C</td>\n    </tr>\n    <tr>\n      <th>1</th>\n      <td>1</td>\n      <td>2014-01-01</td>\n      <td>BOA</td>\n      <td>1</td>\n      <td>CA</td>\n      <td>91326</td>\n      <td></td>\n      <td></td>\n      <td>1972-02-01</td>\n      <td>0</td>\n      <td></td>\n      <td></td>\n      <td></td>\n      <td></td>\n      <td>XXXX</td>\n      <td>S1</td>\n      <td>H</td>\n      <td></td>\n      <td></td>\n      <td></td>\n      <td>M</td>\n      <td>1.0</td>\n      <td>6.0</td>\n      <td>M</td>\n      <td>9.0</td>\n      <td>16</td>\n      <td>0.0</td>\n      <td>0.0</td>\n      <td>3.0</td>\n      <td>1.0</td>\n      <td>1.0</td>\n      <td>1.0</td>\n      <td>0.0</td>\n      <td>0.0</td>\n      <td>0.0</td>\n      <td>2.0</td>\n      <td>0.0</td>\n      <td>3.0</td>\n      <td>0.0</td>\n      <td>0.0</td>\n      <td>3</td>\n      <td>0</td>\n      <td>15</td>\n      <td>55</td>\n      <td>11</td>\n      <td>6</td>\n      <td>2</td>\n      <td>1</td>\n      <td></td>\n      <td></td>\n      <td></td>\n      <td>9.0</td>\n      <td>02</td>\n      <td></td>\n      <td></td>\n      <td></td>\n      <td></td>\n      <td></td>\n      <td></td>\n      <td></td>\n      <td></td>\n      <td></td>\n      <td></td>\n      <td></td>\n      <td></td>\n      <td></td>\n      <td></td>\n      <td></td>\n      <td></td>\n      <td></td>\n      <td></td>\n      <td></td>\n      <td></td>\n      <td>3611</td>\n      <td>940</td>\n      <td>998</td>\n      <td>99</td>\n      <td>0</td>\n      <td>0</td>\n      <td>50</td>\n      <td>50</td>\n      <td>67</td>\n      <td>0</td>\n      <td>0</td>\n      <td>31</td>\n      <td>6</td>\n      <td>4</td>\n      <td>2</td>\n      <td>6</td>\n      <td>4</td>\n      <td>14</td>\n      <td>0</td>\n      <td>0</td>\n      <td>2</td>\n      <td>0</td>\n      <td>1</td>\n      <td>4</td>\n      <td>34</td>\n      <td>41</td>\n      <td>43</td>\n      <td>32</td>\n      <td>42</td>\n      <td>45</td>\n      <td>32</td>\n      <td>33</td>\n      <td>46</td>\n      <td>21</td>\n      <td>13</td>\n      <td>14</td>\n      <td>33</td>\n      <td>23</td>\n      <td>10</td>\n      <td>4</td>\n      <td>2</td>\n      <td>11</td>\n      <td>16</td>\n      <td>36</td>\n      <td>22</td>\n      <td>15</td>\n      <td>12</td>\n      <td>1</td>\n      <td>5</td>\n      <td>4</td>\n      <td>21</td>\n      <td>75</td>\n      <td>55</td>\n      <td>23</td>\n      <td>9</td>\n      <td>69</td>\n      <td>4</td>\n      <td>3</td>\n      <td>24</td>\n      <td>317</td>\n      <td>360</td>\n      <td>99</td>\n      <td>99</td>\n      <td>0</td>\n      <td>0</td>\n      <td>0</td>\n      <td>0</td>\n      <td>0</td>\n      <td>0</td>\n      <td>0</td>\n      <td>5468</td>\n      <td>5218</td>\n      <td>12</td>\n      <td>10</td>\n      <td>96</td>\n      <td>4</td>\n      <td>97</td>\n      <td>3</td>\n      <td>9</td>\n      <td>59</td>\n      <td>94</td>\n      <td>88</td>\n      <td>55</td>\n      <td>95</td>\n      <td>5</td>\n      <td>4</td>\n      <td>1</td>\n      <td>3</td>\n      <td>5</td>\n      <td>4</td>\n      <td>2</td>\n      <td>18</td>\n      <td>44</td>\n      <td>5</td>\n      <td>0</td>\n      <td>0</td>\n      <td>0</td>\n      <td>97</td>\n      <td>98</td>\n      <td>98</td>\n      <td>98</td>\n      <td>99</td>\n      <td>94</td>\n      <td>0</td>\n      <td>83</td>\n      <td>76</td>\n      <td>73</td>\n      <td>21</td>\n      <td>5</td>\n      <td>0</td>\n      <td>0</td>\n      <td>0</td>\n      <td>4</td>\n      <td>0</td>\n      <td>0</td>\n      <td>0</td>\n      <td>91</td>\n      <td>91</td>\n      <td>91</td>\n      <td>94</td>\n      <td>4480.0</td>\n      <td>13.0</td>\n      <td>803.0</td>\n      <td>1088</td>\n      <td>1096</td>\n      <td>1026</td>\n      <td>1037</td>\n      <td>36175</td>\n      <td>2</td>\n      <td>6</td>\n      <td>2</td>\n      <td>5</td>\n      <td>15</td>\n      <td>14</td>\n      <td>13</td>\n      <td>10</td>\n      <td>33</td>\n      <td>2</td>\n      <td>5</td>\n      <td>2</td>\n      <td>5</td>\n      <td>15</td>\n      <td>14</td>\n      <td>14</td>\n      <td>10</td>\n      <td>32</td>\n      <td>6</td>\n      <td>2</td>\n      <td>66</td>\n      <td>3</td>\n      <td>56</td>\n      <td>44</td>\n      <td>9</td>\n      <td>80</td>\n      <td>14</td>\n      <td>0</td>\n      <td>0</td>\n      <td>0</td>\n      <td>0</td>\n      <td>0</td>\n      <td>0</td>\n      <td>6</td>\n      <td>0</td>\n      <td>2</td>\n      <td>24</td>\n      <td>32</td>\n      <td>12</td>\n      <td>71</td>\n      <td>70</td>\n      <td>83</td>\n      <td>58</td>\n      <td>81</td>\n      <td>57</td>\n      <td>64</td>\n      <td>57</td>\n      <td>99</td>\n      <td>99</td>\n      <td>0</td>\n      <td>22</td>\n      <td>24</td>\n      <td>4</td>\n      <td>21</td>\n      <td>13</td>\n      <td>2</td>\n      <td>1</td>\n      <td>6</td>\n      <td>0</td>\n      <td>4</td>\n      <td>1</td>\n      <td>0</td>\n      <td>3</td>\n      <td>1</td>\n      <td>0</td>\n      <td>6</td>\n      <td>13</td>\n      <td>1</td>\n      <td>2</td>\n      <td>8</td>\n      <td>18</td>\n      <td>11</td>\n      <td>4</td>\n      <td>3</td>\n      <td>4</td>\n      <td>10</td>\n      <td>7</td>\n      <td>11</td>\n      <td>1</td>\n      <td>6</td>\n      <td>2</td>\n      <td>1</td>\n      <td>16</td>\n      <td>69</td>\n      <td>5</td>\n      <td>2</td>\n      <td>160</td>\n      <td>5</td>\n      <td>5</td>\n      <td>12</td>\n      <td>21</td>\n      <td>7</td>\n      <td>30</td>\n      <td>20</td>\n      <td>14</td>\n      <td>24</td>\n      <td>4</td>\n      <td>24</td>\n      <td>10</td>\n      <td>0</td>\n      <td>0</td>\n      <td>0</td>\n      <td>8</td>\n      <td>15</td>\n      <td>0</td>\n      <td>55</td>\n      <td>10</td>\n      <td>11</td>\n      <td>0</td>\n      <td>0</td>\n      <td>2</td>\n      <td>0</td>\n      <td>3</td>\n      <td>1</td>\n      <td>1</td>\n      <td>2</td>\n      <td>3</td>\n      <td>1</td>\n      <td>1</td>\n      <td>0</td>\n      <td>3</td>\n      <td>0</td>\n      <td>0</td>\n      <td>0</td>\n      <td>42</td>\n      <td>39</td>\n      <td>50</td>\n      <td>7</td>\n      <td>27</td>\n      <td>16</td>\n      <td>99</td>\n      <td>92</td>\n      <td>53</td>\n      <td>5</td>\n      <td>10</td>\n      <td>2</td>\n      <td>26</td>\n      <td>56</td>\n      <td>97</td>\n      <td>99</td>\n      <td>0</td>\n      <td>0</td>\n      <td>0</td>\n      <td>96</td>\n      <td>0</td>\n      <td>4</td>\n      <td>0</td>\n      <td>0</td>\n      <td>0</td>\n      <td>99</td>\n      <td>0</td>\n      <td>99</td>\n      <td>99</td>\n      <td>99</td>\n      <td>20</td>\n      <td>4</td>\n      <td>6</td>\n      <td>5</td>\n      <td>2017-06-01</td>\n      <td>2016-06-01</td>\n      <td>2016-04-01</td>\n      <td>2016-04-01</td>\n      <td>2016-03-01</td>\n      <td>2016-02-01</td>\n      <td>2016-01-01</td>\n      <td>2015-11-01</td>\n      <td>2015-10-01</td>\n      <td>2015-10-01</td>\n      <td>2015-09-01</td>\n      <td>NaN</td>\n      <td>NaN</td>\n      <td>NaN</td>\n      <td>2015-03-01</td>\n      <td>NaN</td>\n      <td>NaN</td>\n      <td>2014-11-01</td>\n      <td>2014-11-01</td>\n      <td>2014-10-01</td>\n      <td>2014-09-01</td>\n      <td>NaN</td>\n      <td>2014-06-01</td>\n      <td>L2G</td>\n      <td>A2G</td>\n      <td>A2G</td>\n      <td>A2G</td>\n      <td>A2G</td>\n      <td>A1E</td>\n      <td>A1E</td>\n      <td>A1E</td>\n      <td>A1E</td>\n      <td>A1E</td>\n      <td>A1E</td>\n      <td></td>\n      <td></td>\n      <td></td>\n      <td>L1E</td>\n      <td></td>\n      <td></td>\n      <td>N1E</td>\n      <td>N1E</td>\n      <td>N1E</td>\n      <td>N1E</td>\n      <td></td>\n      <td>F1E</td>\n      <td>12</td>\n      <td>2017-02-01</td>\n      <td>32</td>\n      <td>6</td>\n      <td>13</td>\n      <td>NaN</td>\n      <td>NaN</td>\n      <td>NaN</td>\n      <td>NaN</td>\n      <td>NaN</td>\n      <td>NaN</td>\n      <td>2015-12-01</td>\n      <td>NaN</td>\n      <td>NaN</td>\n      <td>NaN</td>\n      <td>NaN</td>\n      <td>NaN</td>\n      <td>NaN</td>\n      <td>2015-04-01</td>\n      <td>NaN</td>\n      <td>NaN</td>\n      <td>NaN</td>\n      <td>NaN</td>\n      <td>NaN</td>\n      <td>NaN</td>\n      <td>NaN</td>\n      <td>NaN</td>\n      <td>NaN</td>\n      <td>NaN</td>\n      <td>NaN</td>\n      <td>NaN</td>\n      <td>NaN</td>\n      <td>NaN</td>\n      <td>25.0</td>\n      <td>NaN</td>\n      <td>NaN</td>\n      <td>NaN</td>\n      <td>NaN</td>\n      <td>NaN</td>\n      <td>NaN</td>\n      <td>12.0</td>\n      <td>NaN</td>\n      <td>NaN</td>\n      <td>NaN</td>\n      <td>NaN</td>\n      <td>NaN</td>\n      <td>NaN</td>\n      <td>NaN</td>\n      <td>NaN</td>\n      <td>47.0</td>\n      <td>3</td>\n      <td>1</td>\n      <td>10.0</td>\n      <td>2013-10-01</td>\n      <td>25.0</td>\n      <td>2015-12-01</td>\n      <td>25.0</td>\n      <td>2015-12-01</td>\n      <td>2013-10-01</td>\n      <td>2015-04-01</td>\n      <td>18.0</td>\n      <td>15.666667</td>\n      <td>148535</td>\n      <td>0</td>\n      <td>L</td>\n      <td>2</td>\n      <td>G</td>\n      <td>X</td>\n      <td>X</td>\n      <td>X</td>\n      <td>A</td>\n    </tr>\n    <tr>\n      <th>2</th>\n      <td>2</td>\n      <td>2010-01-01</td>\n      <td>AMH</td>\n      <td>1</td>\n      <td>NC</td>\n      <td>27017</td>\n      <td></td>\n      <td></td>\n      <td>NaN</td>\n      <td>0</td>\n      <td></td>\n      <td></td>\n      <td></td>\n      <td></td>\n      <td>XXXX</td>\n      <td>R2</td>\n      <td>U</td>\n      <td></td>\n      <td></td>\n      <td></td>\n      <td></td>\n      <td>NaN</td>\n      <td>3.0</td>\n      <td>M</td>\n      <td>1.0</td>\n      <td>2</td>\n      <td>0.0</td>\n      <td>0.0</td>\n      <td>1.0</td>\n      <td>0.0</td>\n      <td>0.0</td>\n      <td>0.0</td>\n      <td>0.0</td>\n      <td>0.0</td>\n      <td>0.0</td>\n      <td>1.0</td>\n      <td>0.0</td>\n      <td>0.0</td>\n      <td>0.0</td>\n      <td>0.0</td>\n      <td>3</td>\n      <td>0</td>\n      <td>20</td>\n      <td>29</td>\n      <td>33</td>\n      <td>6</td>\n      <td>8</td>\n      <td>1</td>\n      <td></td>\n      <td></td>\n      <td></td>\n      <td>1.0</td>\n      <td></td>\n      <td></td>\n      <td></td>\n      <td></td>\n      <td></td>\n      <td></td>\n      <td></td>\n      <td></td>\n      <td></td>\n      <td></td>\n      <td></td>\n      <td></td>\n      <td></td>\n      <td></td>\n      <td></td>\n      <td></td>\n      <td></td>\n      <td></td>\n      <td></td>\n      <td></td>\n      <td>X</td>\n      <td>7001</td>\n      <td>2040</td>\n      <td>2669</td>\n      <td>0</td>\n      <td>2</td>\n      <td>98</td>\n      <td>49</td>\n      <td>51</td>\n      <td>96</td>\n      <td>2</td>\n      <td>0</td>\n      <td>0</td>\n      <td>2</td>\n      <td>0</td>\n      <td>0</td>\n      <td>0</td>\n      <td>0</td>\n      <td>0</td>\n      <td>0</td>\n      <td>0</td>\n      <td>2</td>\n      <td>0</td>\n      <td>0</td>\n      <td>0</td>\n      <td>35</td>\n      <td>43</td>\n      <td>46</td>\n      <td>37</td>\n      <td>45</td>\n      <td>49</td>\n      <td>23</td>\n      <td>35</td>\n      <td>40</td>\n      <td>25</td>\n      <td>13</td>\n      <td>20</td>\n      <td>19</td>\n      <td>16</td>\n      <td>13</td>\n      <td>10</td>\n      <td>8</td>\n      <td>15</td>\n      <td>14</td>\n      <td>30</td>\n      <td>22</td>\n      <td>19</td>\n      <td>25</td>\n      <td>10</td>\n      <td>23</td>\n      <td>21</td>\n      <td>35</td>\n      <td>44</td>\n      <td>22</td>\n      <td>6</td>\n      <td>2</td>\n      <td>63</td>\n      <td>9</td>\n      <td>9</td>\n      <td>19</td>\n      <td>183</td>\n      <td>254</td>\n      <td>69</td>\n      <td>69</td>\n      <td>1</td>\n      <td>6</td>\n      <td>5</td>\n      <td>3</td>\n      <td>3</td>\n      <td>3</td>\n      <td>0</td>\n      <td>497</td>\n      <td>546</td>\n      <td>2</td>\n      <td>1</td>\n      <td>78</td>\n      <td>22</td>\n      <td>93</td>\n      <td>7</td>\n      <td>18</td>\n      <td>36</td>\n      <td>76</td>\n      <td>65</td>\n      <td>30</td>\n      <td>86</td>\n      <td>14</td>\n      <td>7</td>\n      <td>2</td>\n      <td>5</td>\n      <td>11</td>\n      <td>17</td>\n      <td>3</td>\n      <td>17</td>\n      <td>60</td>\n      <td>18</td>\n      <td>0</td>\n      <td>1</td>\n      <td>0</td>\n      <td>0</td>\n      <td>1</td>\n      <td>6</td>\n      <td>18</td>\n      <td>50</td>\n      <td>0</td>\n      <td>4</td>\n      <td>36</td>\n      <td>49</td>\n      <td>51</td>\n      <td>14</td>\n      <td>5</td>\n      <td>4</td>\n      <td>2</td>\n      <td>24</td>\n      <td>11</td>\n      <td>2</td>\n      <td>3</td>\n      <td>6</td>\n      <td>0</td>\n      <td>2</td>\n      <td>9</td>\n      <td>44</td>\n      <td>0.0</td>\n      <td>281.0</td>\n      <td>518.0</td>\n      <td>251</td>\n      <td>292</td>\n      <td>292</td>\n      <td>340</td>\n      <td>11576</td>\n      <td>32</td>\n      <td>18</td>\n      <td>20</td>\n      <td>15</td>\n      <td>12</td>\n      <td>2</td>\n      <td>0</td>\n      <td>0</td>\n      <td>1</td>\n      <td>20</td>\n      <td>19</td>\n      <td>24</td>\n      <td>18</td>\n      <td>16</td>\n      <td>2</td>\n      <td>0</td>\n      <td>0</td>\n      <td>1</td>\n      <td>28</td>\n      <td>8</td>\n      <td>31</td>\n      <td>11</td>\n      <td>38</td>\n      <td>62</td>\n      <td>8</td>\n      <td>74</td>\n      <td>22</td>\n      <td>0</td>\n      <td>0</td>\n      <td>0</td>\n      <td>0</td>\n      <td>0</td>\n      <td>2</td>\n      <td>2</td>\n      <td>1</td>\n      <td>21</td>\n      <td>19</td>\n      <td>24</td>\n      <td>6</td>\n      <td>61</td>\n      <td>65</td>\n      <td>73</td>\n      <td>59</td>\n      <td>70</td>\n      <td>56</td>\n      <td>78</td>\n      <td>62</td>\n      <td>82</td>\n      <td>99</td>\n      <td>4</td>\n      <td>10</td>\n      <td>5</td>\n      <td>2</td>\n      <td>6</td>\n      <td>12</td>\n      <td>0</td>\n      <td>1</td>\n      <td>9</td>\n      <td>5</td>\n      <td>18</td>\n      <td>20</td>\n      <td>5</td>\n      <td>7</td>\n      <td>6</td>\n      <td>0</td>\n      <td>11</td>\n      <td>33</td>\n      <td>4</td>\n      <td>3</td>\n      <td>2</td>\n      <td>12</td>\n      <td>3</td>\n      <td>3</td>\n      <td>2</td>\n      <td>0</td>\n      <td>7</td>\n      <td>8</td>\n      <td>3</td>\n      <td>3</td>\n      <td>6</td>\n      <td>7</td>\n      <td>1</td>\n      <td>8</td>\n      <td>74</td>\n      <td>3</td>\n      <td>1</td>\n      <td>120</td>\n      <td>22</td>\n      <td>20</td>\n      <td>28</td>\n      <td>16</td>\n      <td>6</td>\n      <td>5</td>\n      <td>3</td>\n      <td>1</td>\n      <td>23</td>\n      <td>1</td>\n      <td>16</td>\n      <td>6</td>\n      <td>0</td>\n      <td>0</td>\n      <td>0</td>\n      <td>10</td>\n      <td>21</td>\n      <td>0</td>\n      <td>28</td>\n      <td>23</td>\n      <td>32</td>\n      <td>8</td>\n      <td>1</td>\n      <td>14</td>\n      <td>1</td>\n      <td>5</td>\n      <td>0</td>\n      <td>0</td>\n      <td>7</td>\n      <td>0</td>\n      <td>0</td>\n      <td>0</td>\n      <td>0</td>\n      <td>0</td>\n      <td>1</td>\n      <td>0</td>\n      <td>0</td>\n      <td>2</td>\n      <td>84</td>\n      <td>96</td>\n      <td>3</td>\n      <td>0</td>\n      <td>0</td>\n      <td>92</td>\n      <td>65</td>\n      <td>29</td>\n      <td>9</td>\n      <td>22</td>\n      <td>3</td>\n      <td>12</td>\n      <td>23</td>\n      <td>50</td>\n      <td>69</td>\n      <td>31</td>\n      <td>0</td>\n      <td>0</td>\n      <td>0</td>\n      <td>6</td>\n      <td>35</td>\n      <td>44</td>\n      <td>0</td>\n      <td>15</td>\n      <td>22</td>\n      <td>77</td>\n      <td>17</td>\n      <td>97</td>\n      <td>92</td>\n      <td>9</td>\n      <td>2</td>\n      <td>6</td>\n      <td>5</td>\n      <td>2017-06-01</td>\n      <td>2016-06-01</td>\n      <td>2016-04-01</td>\n      <td>2016-04-01</td>\n      <td>2016-03-01</td>\n      <td>2016-02-01</td>\n      <td>2016-01-01</td>\n      <td>2015-11-01</td>\n      <td>NaN</td>\n      <td>2015-10-01</td>\n      <td>2015-08-01</td>\n      <td>2015-07-01</td>\n      <td>2015-06-01</td>\n      <td>2015-04-01</td>\n      <td>2015-03-01</td>\n      <td>NaN</td>\n      <td>2015-01-01</td>\n      <td>2014-11-01</td>\n      <td>NaN</td>\n      <td>NaN</td>\n      <td>2014-09-01</td>\n      <td>2014-07-01</td>\n      <td>2014-06-01</td>\n      <td>L4E</td>\n      <td>S4E</td>\n      <td>S4E</td>\n      <td>S4E</td>\n      <td>S4E</td>\n      <td>S4F</td>\n      <td>S4F</td>\n      <td>S4F</td>\n      <td></td>\n      <td>S4F</td>\n      <td>S4F</td>\n      <td>S4F</td>\n      <td>S4F</td>\n      <td>S4F</td>\n      <td>S4F</td>\n      <td></td>\n      <td>S4D</td>\n      <td>S4D</td>\n      <td></td>\n      <td></td>\n      <td>S4D</td>\n      <td>S4D</td>\n      <td>S3D</td>\n      <td>26</td>\n      <td>2017-02-01</td>\n      <td>63</td>\n      <td>6</td>\n      <td>14</td>\n      <td>NaN</td>\n      <td>NaN</td>\n      <td>NaN</td>\n      <td>NaN</td>\n      <td>NaN</td>\n      <td>NaN</td>\n      <td>NaN</td>\n      <td>NaN</td>\n      <td>NaN</td>\n      <td>2015-09-01</td>\n      <td>NaN</td>\n      <td>2015-06-01</td>\n      <td>NaN</td>\n      <td>2015-04-01</td>\n      <td>NaN</td>\n      <td>2015-01-01</td>\n      <td>NaN</td>\n      <td>NaN</td>\n      <td>NaN</td>\n      <td>2014-09-01</td>\n      <td>2014-07-01</td>\n      <td>2014-06-01</td>\n      <td>NaN</td>\n      <td>NaN</td>\n      <td>NaN</td>\n      <td>NaN</td>\n      <td>NaN</td>\n      <td>NaN</td>\n      <td>NaN</td>\n      <td>NaN</td>\n      <td>NaN</td>\n      <td>11.0</td>\n      <td>NaN</td>\n      <td>9.0</td>\n      <td>NaN</td>\n      <td>9.0</td>\n      <td>NaN</td>\n      <td>8.0</td>\n      <td>NaN</td>\n      <td>NaN</td>\n      <td>NaN</td>\n      <td>8.0</td>\n      <td>7.0</td>\n      <td>6.0</td>\n      <td>202.0</td>\n      <td>27</td>\n      <td>14</td>\n      <td>2.0</td>\n      <td>2011-11-01</td>\n      <td>16.0</td>\n      <td>2012-07-01</td>\n      <td>5.0</td>\n      <td>2015-12-01</td>\n      <td>2010-01-01</td>\n      <td>2011-01-01</td>\n      <td>12.0</td>\n      <td>7.481481</td>\n      <td>15078</td>\n      <td>1</td>\n      <td>L</td>\n      <td>4</td>\n      <td>E</td>\n      <td>X</td>\n      <td>X</td>\n      <td>X</td>\n      <td>C</td>\n    </tr>\n    <tr>\n      <th>3</th>\n      <td>3</td>\n      <td>2007-01-01</td>\n      <td>BRY</td>\n      <td>0</td>\n      <td>CA</td>\n      <td>95953</td>\n      <td></td>\n      <td></td>\n      <td>1948-01-01</td>\n      <td>0</td>\n      <td></td>\n      <td></td>\n      <td></td>\n      <td></td>\n      <td>XXXX</td>\n      <td>R2</td>\n      <td>U</td>\n      <td></td>\n      <td></td>\n      <td></td>\n      <td></td>\n      <td>NaN</td>\n      <td>1.0</td>\n      <td>F</td>\n      <td>4.0</td>\n      <td>2</td>\n      <td>0.0</td>\n      <td>0.0</td>\n      <td>0.0</td>\n      <td>0.0</td>\n      <td>0.0</td>\n      <td>0.0</td>\n      <td>0.0</td>\n      <td>0.0</td>\n      <td>0.0</td>\n      <td>0.0</td>\n      <td>0.0</td>\n      <td>0.0</td>\n      <td>0.0</td>\n      <td>1.0</td>\n      <td>3</td>\n      <td>0</td>\n      <td>23</td>\n      <td>14</td>\n      <td>31</td>\n      <td>3</td>\n      <td>0</td>\n      <td>3</td>\n      <td></td>\n      <td></td>\n      <td></td>\n      <td>0.0</td>\n      <td></td>\n      <td></td>\n      <td></td>\n      <td></td>\n      <td></td>\n      <td></td>\n      <td></td>\n      <td></td>\n      <td></td>\n      <td></td>\n      <td></td>\n      <td></td>\n      <td></td>\n      <td></td>\n      <td></td>\n      <td></td>\n      <td></td>\n      <td></td>\n      <td></td>\n      <td></td>\n      <td>X</td>\n      <td>640</td>\n      <td>160</td>\n      <td>219</td>\n      <td>0</td>\n      <td>8</td>\n      <td>92</td>\n      <td>54</td>\n      <td>46</td>\n      <td>61</td>\n      <td>0</td>\n      <td>0</td>\n      <td>11</td>\n      <td>32</td>\n      <td>6</td>\n      <td>2</td>\n      <td>0</td>\n      <td>0</td>\n      <td>0</td>\n      <td>0</td>\n      <td>0</td>\n      <td>31</td>\n      <td>0</td>\n      <td>0</td>\n      <td>1</td>\n      <td>32</td>\n      <td>40</td>\n      <td>44</td>\n      <td>34</td>\n      <td>43</td>\n      <td>47</td>\n      <td>25</td>\n      <td>45</td>\n      <td>35</td>\n      <td>20</td>\n      <td>15</td>\n      <td>25</td>\n      <td>17</td>\n      <td>17</td>\n      <td>12</td>\n      <td>7</td>\n      <td>7</td>\n      <td>20</td>\n      <td>17</td>\n      <td>30</td>\n      <td>14</td>\n      <td>19</td>\n      <td>25</td>\n      <td>11</td>\n      <td>23</td>\n      <td>23</td>\n      <td>27</td>\n      <td>50</td>\n      <td>30</td>\n      <td>15</td>\n      <td>8</td>\n      <td>63</td>\n      <td>9</td>\n      <td>6</td>\n      <td>23</td>\n      <td>199</td>\n      <td>283</td>\n      <td>85</td>\n      <td>83</td>\n      <td>3</td>\n      <td>4</td>\n      <td>1</td>\n      <td>0</td>\n      <td>2</td>\n      <td>0</td>\n      <td>2</td>\n      <td>1000</td>\n      <td>1263</td>\n      <td>2</td>\n      <td>1</td>\n      <td>48</td>\n      <td>52</td>\n      <td>93</td>\n      <td>7</td>\n      <td>6</td>\n      <td>36</td>\n      <td>73</td>\n      <td>61</td>\n      <td>30</td>\n      <td>84</td>\n      <td>16</td>\n      <td>6</td>\n      <td>3</td>\n      <td>3</td>\n      <td>21</td>\n      <td>12</td>\n      <td>4</td>\n      <td>13</td>\n      <td>36</td>\n      <td>13</td>\n      <td>0</td>\n      <td>0</td>\n      <td>0</td>\n      <td>10</td>\n      <td>25</td>\n      <td>50</td>\n      <td>69</td>\n      <td>92</td>\n      <td>10</td>\n      <td>15</td>\n      <td>42</td>\n      <td>55</td>\n      <td>50</td>\n      <td>15</td>\n      <td>5</td>\n      <td>4</td>\n      <td>0</td>\n      <td>9</td>\n      <td>42</td>\n      <td>4</td>\n      <td>0</td>\n      <td>5</td>\n      <td>1</td>\n      <td>8</td>\n      <td>17</td>\n      <td>34</td>\n      <td>9340.0</td>\n      <td>67.0</td>\n      <td>862.0</td>\n      <td>386</td>\n      <td>388</td>\n      <td>396</td>\n      <td>423</td>\n      <td>15130</td>\n      <td>27</td>\n      <td>12</td>\n      <td>4</td>\n      <td>26</td>\n      <td>22</td>\n      <td>5</td>\n      <td>0</td>\n      <td>0</td>\n      <td>4</td>\n      <td>35</td>\n      <td>5</td>\n      <td>6</td>\n      <td>12</td>\n      <td>30</td>\n      <td>6</td>\n      <td>0</td>\n      <td>0</td>\n      <td>5</td>\n      <td>22</td>\n      <td>14</td>\n      <td>26</td>\n      <td>20</td>\n      <td>46</td>\n      <td>54</td>\n      <td>3</td>\n      <td>58</td>\n      <td>36</td>\n      <td>0</td>\n      <td>0</td>\n      <td>0</td>\n      <td>0</td>\n      <td>0</td>\n      <td>6</td>\n      <td>0</td>\n      <td>0</td>\n      <td>17</td>\n      <td>13</td>\n      <td>15</td>\n      <td>0</td>\n      <td>43</td>\n      <td>69</td>\n      <td>81</td>\n      <td>53</td>\n      <td>68</td>\n      <td>45</td>\n      <td>33</td>\n      <td>31</td>\n      <td>0</td>\n      <td>99</td>\n      <td>23</td>\n      <td>17</td>\n      <td>3</td>\n      <td>0</td>\n      <td>6</td>\n      <td>6</td>\n      <td>0</td>\n      <td>0</td>\n      <td>13</td>\n      <td>42</td>\n      <td>12</td>\n      <td>0</td>\n      <td>0</td>\n      <td>0</td>\n      <td>42</td>\n      <td>0</td>\n      <td>6</td>\n      <td>3</td>\n      <td>0</td>\n      <td>0</td>\n      <td>0</td>\n      <td>23</td>\n      <td>3</td>\n      <td>3</td>\n      <td>6</td>\n      <td>0</td>\n      <td>3</td>\n      <td>3</td>\n      <td>3</td>\n      <td>3</td>\n      <td>3</td>\n      <td>0</td>\n      <td>3</td>\n      <td>6</td>\n      <td>87</td>\n      <td>0</td>\n      <td>0</td>\n      <td>120</td>\n      <td>28</td>\n      <td>12</td>\n      <td>14</td>\n      <td>27</td>\n      <td>10</td>\n      <td>3</td>\n      <td>5</td>\n      <td>0</td>\n      <td>19</td>\n      <td>1</td>\n      <td>17</td>\n      <td>0</td>\n      <td>0</td>\n      <td>0</td>\n      <td>0</td>\n      <td>13</td>\n      <td>23</td>\n      <td>0</td>\n      <td>14</td>\n      <td>40</td>\n      <td>31</td>\n      <td>16</td>\n      <td>0</td>\n      <td>1</td>\n      <td>0</td>\n      <td>13</td>\n      <td>0</td>\n      <td>0</td>\n      <td>4</td>\n      <td>0</td>\n      <td>0</td>\n      <td>0</td>\n      <td>3</td>\n      <td>0</td>\n      <td>0</td>\n      <td>0</td>\n      <td>0</td>\n      <td>29</td>\n      <td>67</td>\n      <td>56</td>\n      <td>41</td>\n      <td>3</td>\n      <td>0</td>\n      <td>94</td>\n      <td>43</td>\n      <td>27</td>\n      <td>4</td>\n      <td>38</td>\n      <td>0</td>\n      <td>10</td>\n      <td>19</td>\n      <td>39</td>\n      <td>45</td>\n      <td>55</td>\n      <td>0</td>\n      <td>0</td>\n      <td>45</td>\n      <td>22</td>\n      <td>17</td>\n      <td>0</td>\n      <td>0</td>\n      <td>16</td>\n      <td>23</td>\n      <td>77</td>\n      <td>22</td>\n      <td>93</td>\n      <td>89</td>\n      <td>16</td>\n      <td>2</td>\n      <td>6</td>\n      <td>6</td>\n      <td>2017-06-01</td>\n      <td>2016-06-01</td>\n      <td>2016-04-01</td>\n      <td>2016-04-01</td>\n      <td>2016-03-01</td>\n      <td>2016-02-01</td>\n      <td>2016-01-01</td>\n      <td>2015-11-01</td>\n      <td>NaN</td>\n      <td>2015-10-01</td>\n      <td>2015-08-01</td>\n      <td>2015-07-01</td>\n      <td>2015-06-01</td>\n      <td>2015-04-01</td>\n      <td>2015-03-01</td>\n      <td>2015-02-01</td>\n      <td>2015-01-01</td>\n      <td>2014-11-01</td>\n      <td>2014-11-01</td>\n      <td>2014-10-01</td>\n      <td>2014-09-01</td>\n      <td>NaN</td>\n      <td>NaN</td>\n      <td>L4E</td>\n      <td>S4E</td>\n      <td>S4E</td>\n      <td>S4E</td>\n      <td>S4E</td>\n      <td>S4E</td>\n      <td>S4E</td>\n      <td>S4E</td>\n      <td></td>\n      <td>S4E</td>\n      <td>S4E</td>\n      <td>S4E</td>\n      <td>S4E</td>\n      <td>S4E</td>\n      <td>S4E</td>\n      <td>S2D</td>\n      <td>S2D</td>\n      <td>A1D</td>\n      <td>A1D</td>\n      <td>A1D</td>\n      <td>A1D</td>\n      <td></td>\n      <td></td>\n      <td>27</td>\n      <td>2017-02-01</td>\n      <td>66</td>\n      <td>6</td>\n      <td>14</td>\n      <td>NaN</td>\n      <td>NaN</td>\n      <td>NaN</td>\n      <td>NaN</td>\n      <td>NaN</td>\n      <td>NaN</td>\n      <td>NaN</td>\n      <td>NaN</td>\n      <td>2015-12-01</td>\n      <td>2015-09-01</td>\n      <td>NaN</td>\n      <td>2015-08-01</td>\n      <td>NaN</td>\n      <td>2015-05-01</td>\n      <td>2015-03-01</td>\n      <td>NaN</td>\n      <td>NaN</td>\n      <td>2014-11-01</td>\n      <td>2014-11-01</td>\n      <td>NaN</td>\n      <td>NaN</td>\n      <td>NaN</td>\n      <td>NaN</td>\n      <td>NaN</td>\n      <td>NaN</td>\n      <td>NaN</td>\n      <td>NaN</td>\n      <td>NaN</td>\n      <td>NaN</td>\n      <td>NaN</td>\n      <td>10.0</td>\n      <td>10.0</td>\n      <td>NaN</td>\n      <td>10.0</td>\n      <td>NaN</td>\n      <td>7.0</td>\n      <td>11.0</td>\n      <td>NaN</td>\n      <td>NaN</td>\n      <td>6.0</td>\n      <td>11.0</td>\n      <td>NaN</td>\n      <td>NaN</td>\n      <td>NaN</td>\n      <td>109.0</td>\n      <td>16</td>\n      <td>7</td>\n      <td>2.0</td>\n      <td>2007-11-01</td>\n      <td>11.0</td>\n      <td>2014-11-01</td>\n      <td>10.0</td>\n      <td>2015-12-01</td>\n      <td>2007-02-01</td>\n      <td>2007-11-01</td>\n      <td>9.0</td>\n      <td>6.812500</td>\n      <td>172556</td>\n      <td>1</td>\n      <td>L</td>\n      <td>4</td>\n      <td>E</td>\n      <td>X</td>\n      <td>X</td>\n      <td>X</td>\n      <td>C</td>\n    </tr>\n    <tr>\n      <th>4</th>\n      <td>4</td>\n      <td>2006-01-01</td>\n      <td></td>\n      <td>0</td>\n      <td>FL</td>\n      <td>33176</td>\n      <td></td>\n      <td></td>\n      <td>1940-01-01</td>\n      <td>0</td>\n      <td>X</td>\n      <td>X</td>\n      <td></td>\n      <td></td>\n      <td>XXXX</td>\n      <td>S2</td>\n      <td>H</td>\n      <td></td>\n      <td></td>\n      <td></td>\n      <td></td>\n      <td>1.0</td>\n      <td>3.0</td>\n      <td>F</td>\n      <td>2.0</td>\n      <td>60</td>\n      <td>1.0</td>\n      <td>0.0</td>\n      <td>9.0</td>\n      <td>0.0</td>\n      <td>4.0</td>\n      <td>1.0</td>\n      <td>0.0</td>\n      <td>0.0</td>\n      <td>0.0</td>\n      <td>4.0</td>\n      <td>0.0</td>\n      <td>1.0</td>\n      <td>0.0</td>\n      <td>1.0</td>\n      <td>3</td>\n      <td>1</td>\n      <td>28</td>\n      <td>9</td>\n      <td>53</td>\n      <td>26</td>\n      <td>3</td>\n      <td>2</td>\n      <td></td>\n      <td>12</td>\n      <td></td>\n      <td>NaN</td>\n      <td></td>\n      <td></td>\n      <td></td>\n      <td>Y</td>\n      <td>Y</td>\n      <td></td>\n      <td></td>\n      <td></td>\n      <td>Y</td>\n      <td></td>\n      <td></td>\n      <td>Y</td>\n      <td></td>\n      <td>Y</td>\n      <td></td>\n      <td>Y</td>\n      <td></td>\n      <td>Y</td>\n      <td></td>\n      <td>3</td>\n      <td></td>\n      <td>2520</td>\n      <td>627</td>\n      <td>761</td>\n      <td>99</td>\n      <td>0</td>\n      <td>0</td>\n      <td>46</td>\n      <td>54</td>\n      <td>2</td>\n      <td>98</td>\n      <td>0</td>\n      <td>0</td>\n      <td>1</td>\n      <td>0</td>\n      <td>0</td>\n      <td>0</td>\n      <td>0</td>\n      <td>0</td>\n      <td>0</td>\n      <td>0</td>\n      <td>0</td>\n      <td>0</td>\n      <td>0</td>\n      <td>0</td>\n      <td>33</td>\n      <td>45</td>\n      <td>50</td>\n      <td>36</td>\n      <td>46</td>\n      <td>50</td>\n      <td>27</td>\n      <td>34</td>\n      <td>43</td>\n      <td>23</td>\n      <td>14</td>\n      <td>21</td>\n      <td>13</td>\n      <td>15</td>\n      <td>20</td>\n      <td>12</td>\n      <td>5</td>\n      <td>13</td>\n      <td>15</td>\n      <td>34</td>\n      <td>19</td>\n      <td>19</td>\n      <td>31</td>\n      <td>7</td>\n      <td>27</td>\n      <td>16</td>\n      <td>26</td>\n      <td>57</td>\n      <td>36</td>\n      <td>24</td>\n      <td>14</td>\n      <td>42</td>\n      <td>17</td>\n      <td>9</td>\n      <td>33</td>\n      <td>235</td>\n      <td>323</td>\n      <td>99</td>\n      <td>98</td>\n      <td>0</td>\n      <td>0</td>\n      <td>0</td>\n      <td>0</td>\n      <td>0</td>\n      <td>0</td>\n      <td>0</td>\n      <td>576</td>\n      <td>594</td>\n      <td>4</td>\n      <td>3</td>\n      <td>90</td>\n      <td>10</td>\n      <td>97</td>\n      <td>3</td>\n      <td>0</td>\n      <td>42</td>\n      <td>82</td>\n      <td>49</td>\n      <td>22</td>\n      <td>92</td>\n      <td>8</td>\n      <td>20</td>\n      <td>3</td>\n      <td>17</td>\n      <td>9</td>\n      <td>23</td>\n      <td>1</td>\n      <td>1</td>\n      <td>1</td>\n      <td>0</td>\n      <td>21</td>\n      <td>58</td>\n      <td>19</td>\n      <td>0</td>\n      <td>1</td>\n      <td>2</td>\n      <td>16</td>\n      <td>67</td>\n      <td>0</td>\n      <td>2</td>\n      <td>45</td>\n      <td>52</td>\n      <td>53</td>\n      <td>16</td>\n      <td>6</td>\n      <td>0</td>\n      <td>0</td>\n      <td>0</td>\n      <td>9</td>\n      <td>0</td>\n      <td>0</td>\n      <td>0</td>\n      <td>25</td>\n      <td>58</td>\n      <td>74</td>\n      <td>83</td>\n      <td>5000.0</td>\n      <td>127.0</td>\n      <td>528.0</td>\n      <td>240</td>\n      <td>250</td>\n      <td>293</td>\n      <td>321</td>\n      <td>9836</td>\n      <td>24</td>\n      <td>29</td>\n      <td>23</td>\n      <td>13</td>\n      <td>4</td>\n      <td>4</td>\n      <td>0</td>\n      <td>0</td>\n      <td>2</td>\n      <td>21</td>\n      <td>30</td>\n      <td>22</td>\n      <td>16</td>\n      <td>4</td>\n      <td>5</td>\n      <td>0</td>\n      <td>0</td>\n      <td>3</td>\n      <td>35</td>\n      <td>8</td>\n      <td>11</td>\n      <td>14</td>\n      <td>20</td>\n      <td>80</td>\n      <td>4</td>\n      <td>73</td>\n      <td>22</td>\n      <td>1</td>\n      <td>1</td>\n      <td>0</td>\n      <td>0</td>\n      <td>0</td>\n      <td>3</td>\n      <td>1</td>\n      <td>2</td>\n      <td>1</td>\n      <td>24</td>\n      <td>27</td>\n      <td>3</td>\n      <td>76</td>\n      <td>61</td>\n      <td>73</td>\n      <td>51</td>\n      <td>65</td>\n      <td>49</td>\n      <td>80</td>\n      <td>31</td>\n      <td>81</td>\n      <td>99</td>\n      <td>10</td>\n      <td>17</td>\n      <td>8</td>\n      <td>2</td>\n      <td>6</td>\n      <td>15</td>\n      <td>3</td>\n      <td>7</td>\n      <td>22</td>\n      <td>2</td>\n      <td>9</td>\n      <td>0</td>\n      <td>7</td>\n      <td>2</td>\n      <td>2</td>\n      <td>0</td>\n      <td>6</td>\n      <td>1</td>\n      <td>5</td>\n      <td>2</td>\n      <td>2</td>\n      <td>12</td>\n      <td>2</td>\n      <td>7</td>\n      <td>6</td>\n      <td>4</td>\n      <td>15</td>\n      <td>29</td>\n      <td>4</td>\n      <td>3</td>\n      <td>26</td>\n      <td>3</td>\n      <td>2</td>\n      <td>7</td>\n      <td>49</td>\n      <td>12</td>\n      <td>1</td>\n      <td>120</td>\n      <td>16</td>\n      <td>20</td>\n      <td>30</td>\n      <td>13</td>\n      <td>3</td>\n      <td>12</td>\n      <td>5</td>\n      <td>2</td>\n      <td>26</td>\n      <td>1</td>\n      <td>20</td>\n      <td>7</td>\n      <td>1</td>\n      <td>1</td>\n      <td>1</td>\n      <td>15</td>\n      <td>28</td>\n      <td>4</td>\n      <td>9</td>\n      <td>16</td>\n      <td>53</td>\n      <td>20</td>\n      <td>0</td>\n      <td>0</td>\n      <td>0</td>\n      <td>0</td>\n      <td>0</td>\n      <td>0</td>\n      <td>0</td>\n      <td>0</td>\n      <td>0</td>\n      <td>0</td>\n      <td>0</td>\n      <td>0</td>\n      <td>0</td>\n      <td>0</td>\n      <td>0</td>\n      <td>1</td>\n      <td>65</td>\n      <td>99</td>\n      <td>0</td>\n      <td>0</td>\n      <td>0</td>\n      <td>90</td>\n      <td>45</td>\n      <td>18</td>\n      <td>25</td>\n      <td>34</td>\n      <td>0</td>\n      <td>1</td>\n      <td>3</td>\n      <td>6</td>\n      <td>33</td>\n      <td>67</td>\n      <td>0</td>\n      <td>0</td>\n      <td>9</td>\n      <td>14</td>\n      <td>72</td>\n      <td>3</td>\n      <td>0</td>\n      <td>0</td>\n      <td>99</td>\n      <td>1</td>\n      <td>21</td>\n      <td>99</td>\n      <td>96</td>\n      <td>6</td>\n      <td>2</td>\n      <td>7</td>\n      <td>11</td>\n      <td>2017-06-01</td>\n      <td>2016-06-01</td>\n      <td>2016-04-01</td>\n      <td>2016-04-01</td>\n      <td>2016-03-01</td>\n      <td>2015-12-01</td>\n      <td>2016-01-01</td>\n      <td>2015-11-01</td>\n      <td>2015-10-01</td>\n      <td>2015-09-01</td>\n      <td>2015-08-01</td>\n      <td>2015-02-01</td>\n      <td>2015-06-01</td>\n      <td>NaN</td>\n      <td>2015-03-01</td>\n      <td>2015-02-01</td>\n      <td>2014-12-01</td>\n      <td>2014-11-01</td>\n      <td>2014-11-01</td>\n      <td>2014-10-01</td>\n      <td>2015-06-01</td>\n      <td>2014-07-01</td>\n      <td>2014-06-01</td>\n      <td>L2F</td>\n      <td>A2F</td>\n      <td>A2F</td>\n      <td>A2F</td>\n      <td>A1D</td>\n      <td>I2D</td>\n      <td>A1E</td>\n      <td>A1E</td>\n      <td>L1D</td>\n      <td>A1E</td>\n      <td>A1E</td>\n      <td>L1D</td>\n      <td>L3D</td>\n      <td></td>\n      <td>L3D</td>\n      <td>A2D</td>\n      <td>A2D</td>\n      <td>A3D</td>\n      <td>A3D</td>\n      <td>A3D</td>\n      <td>I4E</td>\n      <td>A3D</td>\n      <td>A3D</td>\n      <td>43</td>\n      <td>2017-02-01</td>\n      <td>113</td>\n      <td>10</td>\n      <td>25</td>\n      <td>NaN</td>\n      <td>NaN</td>\n      <td>NaN</td>\n      <td>NaN</td>\n      <td>NaN</td>\n      <td>2016-01-01</td>\n      <td>NaN</td>\n      <td>NaN</td>\n      <td>NaN</td>\n      <td>NaN</td>\n      <td>NaN</td>\n      <td>2015-06-01</td>\n      <td>NaN</td>\n      <td>NaN</td>\n      <td>NaN</td>\n      <td>NaN</td>\n      <td>NaN</td>\n      <td>NaN</td>\n      <td>NaN</td>\n      <td>NaN</td>\n      <td>NaN</td>\n      <td>NaN</td>\n      <td>NaN</td>\n      <td>NaN</td>\n      <td>NaN</td>\n      <td>NaN</td>\n      <td>NaN</td>\n      <td>15.0</td>\n      <td>NaN</td>\n      <td>NaN</td>\n      <td>NaN</td>\n      <td>NaN</td>\n      <td>NaN</td>\n      <td>10.0</td>\n      <td>NaN</td>\n      <td>NaN</td>\n      <td>NaN</td>\n      <td>NaN</td>\n      <td>NaN</td>\n      <td>NaN</td>\n      <td>NaN</td>\n      <td>NaN</td>\n      <td>NaN</td>\n      <td>NaN</td>\n      <td>254.0</td>\n      <td>37</td>\n      <td>8</td>\n      <td>3.0</td>\n      <td>2013-10-01</td>\n      <td>15.0</td>\n      <td>2016-01-01</td>\n      <td>15.0</td>\n      <td>2016-01-01</td>\n      <td>1999-03-01</td>\n      <td>2000-05-01</td>\n      <td>14.0</td>\n      <td>6.864865</td>\n      <td>7112</td>\n      <td>1</td>\n      <td>L</td>\n      <td>2</td>\n      <td>F</td>\n      <td>X</td>\n      <td>X</td>\n      <td>X</td>\n      <td>A</td>\n    </tr>\n  </tbody>\n</table>\n</div>"
     },
     "metadata": {},
     "execution_count": 4
    }
   ],
   "source": [
    "df.head()"
   ]
  },
  {
   "source": [
    "# 1.Analysing Data"
   ],
   "cell_type": "markdown",
   "metadata": {}
  },
  {
   "source": [
    "## Donator classification\n",
    "\n",
    "- RFA_2R    --> Recency code for RFA_2\n",
    "- RFA_2F    --> Frequency code for RFA_2\n",
    "- RFA_2A    --> Donation Amount code for RFA_2\n",
    "- MDMAUD_R  --> Recency code for MDMAUD\n",
    "- MDMAUD_F  --> Frequecy code for MDMAUD\n",
    "- MDMAUD_A  --> Donation Amount code for MDMAUD"
   ],
   "cell_type": "markdown",
   "metadata": {}
  },
  {
   "cell_type": "code",
   "execution_count": 5,
   "metadata": {},
   "outputs": [],
   "source": [
    "columns_donator_classification = [\n",
    "    'RFA_2R',\n",
    "    'RFA_2F',\n",
    "    'RFA_2A'\n",
    "]"
   ]
  },
  {
   "cell_type": "code",
   "execution_count": 6,
   "metadata": {},
   "outputs": [
    {
     "output_type": "execute_result",
     "data": {
      "text/plain": [
       "  RFA_2R  RFA_2F RFA_2A\n",
       "0      L       4      E\n",
       "1      L       2      G\n",
       "2      L       4      E\n",
       "3      L       4      E\n",
       "4      L       2      F"
      ],
      "text/html": "<div>\n<style scoped>\n    .dataframe tbody tr th:only-of-type {\n        vertical-align: middle;\n    }\n\n    .dataframe tbody tr th {\n        vertical-align: top;\n    }\n\n    .dataframe thead th {\n        text-align: right;\n    }\n</style>\n<table border=\"1\" class=\"dataframe\">\n  <thead>\n    <tr style=\"text-align: right;\">\n      <th></th>\n      <th>RFA_2R</th>\n      <th>RFA_2F</th>\n      <th>RFA_2A</th>\n    </tr>\n  </thead>\n  <tbody>\n    <tr>\n      <th>0</th>\n      <td>L</td>\n      <td>4</td>\n      <td>E</td>\n    </tr>\n    <tr>\n      <th>1</th>\n      <td>L</td>\n      <td>2</td>\n      <td>G</td>\n    </tr>\n    <tr>\n      <th>2</th>\n      <td>L</td>\n      <td>4</td>\n      <td>E</td>\n    </tr>\n    <tr>\n      <th>3</th>\n      <td>L</td>\n      <td>4</td>\n      <td>E</td>\n    </tr>\n    <tr>\n      <th>4</th>\n      <td>L</td>\n      <td>2</td>\n      <td>F</td>\n    </tr>\n  </tbody>\n</table>\n</div>"
     },
     "metadata": {},
     "execution_count": 6
    }
   ],
   "source": [
    "df[columns_donator_classification].head()"
   ]
  },
  {
   "cell_type": "code",
   "execution_count": 7,
   "metadata": {},
   "outputs": [
    {
     "output_type": "execute_result",
     "data": {
      "text/plain": [
       "RFA_2R    0\n",
       "RFA_2F    0\n",
       "RFA_2A    0\n",
       "dtype: int64"
      ]
     },
     "metadata": {},
     "execution_count": 7
    }
   ],
   "source": [
    "df[columns_donator_classification].isna().sum()"
   ]
  },
  {
   "source": [
    " ## Donation history\n",
    "\n",
    "- RAMNTALL  -->  Dollar amount of lifetime gifts to date\n",
    "- NGIFTALL  -->  Number of lifetime gifts to date\n",
    "- CARDGIFT  -->  Number of lifetime gifts to card promotions to date\n",
    "- MINRAMNT  -->  Dollar amount of smallest gift to date\n",
    "- MINRDATE  -->  Date associated with the smallest gift to date\n",
    "- MAXRAMNT  -->  Dollar amount of largest gift to date\n",
    "- MAXRDATE  -->  Date associated with the largest gift to date\n",
    "- LASTGIFT  -->  Dollar amount of most recent gift\n",
    "- LASTDATE  -->  Date associated with the most recent gift\n",
    "- FISTDATE  -->  Date of first gift\n",
    "- NEXTDATE  -->  Date of second gift\n",
    "- TIMELAG  -->   Number of months between first and second gift\n",
    "- AVGGIFT  -->   Average dollar amount of gifts to date"
   ],
   "cell_type": "markdown",
   "metadata": {}
  },
  {
   "cell_type": "code",
   "execution_count": 8,
   "metadata": {},
   "outputs": [],
   "source": [
    "columns_donation_history = [\n",
    "    'RAMNTALL',\n",
    "    'NGIFTALL',\n",
    "    'CARDGIFT',\n",
    "    'MINRAMNT',\n",
    "    'MINRDATE',\n",
    "    'MAXRAMNT',\n",
    "    'MAXRDATE',\n",
    "    'LASTGIFT',\n",
    "    'LASTDATE',\n",
    "    'FISTDATE',\n",
    "    'NEXTDATE',\n",
    "    'TIMELAG',\n",
    "    'AVGGIFT'\n",
    "]"
   ]
  },
  {
   "cell_type": "code",
   "execution_count": 9,
   "metadata": {},
   "outputs": [
    {
     "output_type": "execute_result",
     "data": {
      "text/plain": [
       "   RAMNTALL  NGIFTALL  CARDGIFT  MINRAMNT    MINRDATE  MAXRAMNT    MAXRDATE  \\\n",
       "0     240.0        31        14       5.0  2012-08-01      12.0  2014-02-01   \n",
       "1      47.0         3         1      10.0  2013-10-01      25.0  2015-12-01   \n",
       "2     202.0        27        14       2.0  2011-11-01      16.0  2012-07-01   \n",
       "3     109.0        16         7       2.0  2007-11-01      11.0  2014-11-01   \n",
       "4     254.0        37         8       3.0  2013-10-01      15.0  2016-01-01   \n",
       "\n",
       "   LASTGIFT    LASTDATE    FISTDATE    NEXTDATE  TIMELAG    AVGGIFT  \n",
       "0      10.0  2015-12-01  2009-11-01  2010-03-01      4.0   7.741935  \n",
       "1      25.0  2015-12-01  2013-10-01  2015-04-01     18.0  15.666667  \n",
       "2       5.0  2015-12-01  2010-01-01  2011-01-01     12.0   7.481481  \n",
       "3      10.0  2015-12-01  2007-02-01  2007-11-01      9.0   6.812500  \n",
       "4      15.0  2016-01-01  1999-03-01  2000-05-01     14.0   6.864865  "
      ],
      "text/html": "<div>\n<style scoped>\n    .dataframe tbody tr th:only-of-type {\n        vertical-align: middle;\n    }\n\n    .dataframe tbody tr th {\n        vertical-align: top;\n    }\n\n    .dataframe thead th {\n        text-align: right;\n    }\n</style>\n<table border=\"1\" class=\"dataframe\">\n  <thead>\n    <tr style=\"text-align: right;\">\n      <th></th>\n      <th>RAMNTALL</th>\n      <th>NGIFTALL</th>\n      <th>CARDGIFT</th>\n      <th>MINRAMNT</th>\n      <th>MINRDATE</th>\n      <th>MAXRAMNT</th>\n      <th>MAXRDATE</th>\n      <th>LASTGIFT</th>\n      <th>LASTDATE</th>\n      <th>FISTDATE</th>\n      <th>NEXTDATE</th>\n      <th>TIMELAG</th>\n      <th>AVGGIFT</th>\n    </tr>\n  </thead>\n  <tbody>\n    <tr>\n      <th>0</th>\n      <td>240.0</td>\n      <td>31</td>\n      <td>14</td>\n      <td>5.0</td>\n      <td>2012-08-01</td>\n      <td>12.0</td>\n      <td>2014-02-01</td>\n      <td>10.0</td>\n      <td>2015-12-01</td>\n      <td>2009-11-01</td>\n      <td>2010-03-01</td>\n      <td>4.0</td>\n      <td>7.741935</td>\n    </tr>\n    <tr>\n      <th>1</th>\n      <td>47.0</td>\n      <td>3</td>\n      <td>1</td>\n      <td>10.0</td>\n      <td>2013-10-01</td>\n      <td>25.0</td>\n      <td>2015-12-01</td>\n      <td>25.0</td>\n      <td>2015-12-01</td>\n      <td>2013-10-01</td>\n      <td>2015-04-01</td>\n      <td>18.0</td>\n      <td>15.666667</td>\n    </tr>\n    <tr>\n      <th>2</th>\n      <td>202.0</td>\n      <td>27</td>\n      <td>14</td>\n      <td>2.0</td>\n      <td>2011-11-01</td>\n      <td>16.0</td>\n      <td>2012-07-01</td>\n      <td>5.0</td>\n      <td>2015-12-01</td>\n      <td>2010-01-01</td>\n      <td>2011-01-01</td>\n      <td>12.0</td>\n      <td>7.481481</td>\n    </tr>\n    <tr>\n      <th>3</th>\n      <td>109.0</td>\n      <td>16</td>\n      <td>7</td>\n      <td>2.0</td>\n      <td>2007-11-01</td>\n      <td>11.0</td>\n      <td>2014-11-01</td>\n      <td>10.0</td>\n      <td>2015-12-01</td>\n      <td>2007-02-01</td>\n      <td>2007-11-01</td>\n      <td>9.0</td>\n      <td>6.812500</td>\n    </tr>\n    <tr>\n      <th>4</th>\n      <td>254.0</td>\n      <td>37</td>\n      <td>8</td>\n      <td>3.0</td>\n      <td>2013-10-01</td>\n      <td>15.0</td>\n      <td>2016-01-01</td>\n      <td>15.0</td>\n      <td>2016-01-01</td>\n      <td>1999-03-01</td>\n      <td>2000-05-01</td>\n      <td>14.0</td>\n      <td>6.864865</td>\n    </tr>\n  </tbody>\n</table>\n</div>"
     },
     "metadata": {},
     "execution_count": 9
    }
   ],
   "source": [
    "df[columns_donation_history].head()"
   ]
  },
  {
   "cell_type": "code",
   "execution_count": 10,
   "metadata": {},
   "outputs": [
    {
     "output_type": "execute_result",
     "data": {
      "text/plain": [
       "RAMNTALL       0\n",
       "NGIFTALL       0\n",
       "CARDGIFT       0\n",
       "MINRAMNT       0\n",
       "MINRDATE       0\n",
       "MAXRAMNT       0\n",
       "MAXRDATE       0\n",
       "LASTGIFT       0\n",
       "LASTDATE       0\n",
       "FISTDATE       2\n",
       "NEXTDATE    9973\n",
       "TIMELAG     9973\n",
       "AVGGIFT        0\n",
       "dtype: int64"
      ]
     },
     "metadata": {},
     "execution_count": 10
    }
   ],
   "source": [
    "df[columns_donation_history].isna().sum()"
   ]
  },
  {
   "cell_type": "code",
   "execution_count": 11,
   "metadata": {},
   "outputs": [
    {
     "output_type": "execute_result",
     "data": {
      "text/plain": [
       "RAMNTALL       0\n",
       "NGIFTALL       0\n",
       "CARDGIFT       0\n",
       "MINRAMNT       0\n",
       "MINRDATE       0\n",
       "MAXRAMNT       0\n",
       "MAXRDATE       0\n",
       "LASTGIFT       0\n",
       "LASTDATE       0\n",
       "FISTDATE       0\n",
       "NEXTDATE    9973\n",
       "TIMELAG     9973\n",
       "AVGGIFT        0\n",
       "dtype: int64"
      ]
     },
     "metadata": {},
     "execution_count": 11
    }
   ],
   "source": [
    "#drop rows with FISTDATE == NaN\n",
    "df.dropna(subset=['FISTDATE'], inplace=True)\n",
    "df[columns_donation_history].isna().sum()"
   ]
  },
  {
   "cell_type": "code",
   "execution_count": 12,
   "metadata": {},
   "outputs": [
    {
     "output_type": "execute_result",
     "data": {
      "text/plain": [
       "RAMNTALL       0\n",
       "NGIFTALL       0\n",
       "CARDGIFT       0\n",
       "MINRAMNT       0\n",
       "MINRDATE       0\n",
       "MAXRAMNT       0\n",
       "MAXRDATE       0\n",
       "LASTGIFT       0\n",
       "LASTDATE       0\n",
       "FISTDATE       0\n",
       "NEXTDATE    9973\n",
       "TIMELAG        0\n",
       "AVGGIFT        0\n",
       "dtype: int64"
      ]
     },
     "metadata": {},
     "execution_count": 12
    }
   ],
   "source": [
    "#fill time lag between first and second donation to 0\n",
    "df['TIMELAG'].fillna(0, inplace=True)\n",
    "df[columns_donation_history].isna().sum()"
   ]
  },
  {
   "cell_type": "code",
   "execution_count": 13,
   "metadata": {},
   "outputs": [
    {
     "output_type": "execute_result",
     "data": {
      "text/plain": [
       "RAMNTALL    float64\n",
       "NGIFTALL      int64\n",
       "CARDGIFT      int64\n",
       "MINRAMNT    float64\n",
       "MINRDATE     object\n",
       "MAXRAMNT    float64\n",
       "MAXRDATE     object\n",
       "LASTGIFT    float64\n",
       "LASTDATE     object\n",
       "FISTDATE     object\n",
       "NEXTDATE     object\n",
       "TIMELAG     float64\n",
       "AVGGIFT     float64\n",
       "dtype: object"
      ]
     },
     "metadata": {},
     "execution_count": 13
    }
   ],
   "source": [
    "# Make sure datatype is correct\n",
    "df[columns_donation_history].dtypes"
   ]
  },
  {
   "cell_type": "code",
   "execution_count": 14,
   "metadata": {},
   "outputs": [],
   "source": [
    "#fix dtypes\n",
    "df[columns_donation_history] =\\\n",
    "    df[columns_donation_history].astype(\n",
    "        {\n",
    "            'RAMNTALL': 'int64',\n",
    "            'MINRAMNT': 'int64',\n",
    "            'MINRDATE': 'datetime64',\n",
    "            'MAXRAMNT': 'int64',\n",
    "            'MAXRDATE': 'datetime64',\n",
    "            'LASTGIFT': 'int64',\n",
    "            'LASTDATE': 'datetime64',\n",
    "            'FISTDATE': 'datetime64',\n",
    "            'NEXTDATE': 'datetime64',\n",
    "            'TIMELAG': 'int64',\n",
    "            'AVGGIFT': 'int64'\n",
    "        }\n",
    "    )"
   ]
  },
  {
   "cell_type": "code",
   "execution_count": 15,
   "metadata": {},
   "outputs": [
    {
     "output_type": "execute_result",
     "data": {
      "text/plain": [
       "   RAMNTALL  NGIFTALL  CARDGIFT  MINRAMNT   MINRDATE  MAXRAMNT   MAXRDATE  \\\n",
       "0       240        31        14         5 2012-08-01        12 2014-02-01   \n",
       "1        47         3         1        10 2013-10-01        25 2015-12-01   \n",
       "2       202        27        14         2 2011-11-01        16 2012-07-01   \n",
       "3       109        16         7         2 2007-11-01        11 2014-11-01   \n",
       "4       254        37         8         3 2013-10-01        15 2016-01-01   \n",
       "\n",
       "   LASTGIFT   LASTDATE   FISTDATE   NEXTDATE  TIMELAG  AVGGIFT  \n",
       "0        10 2015-12-01 2009-11-01 2010-03-01        4        7  \n",
       "1        25 2015-12-01 2013-10-01 2015-04-01       18       15  \n",
       "2         5 2015-12-01 2010-01-01 2011-01-01       12        7  \n",
       "3        10 2015-12-01 2007-02-01 2007-11-01        9        6  \n",
       "4        15 2016-01-01 1999-03-01 2000-05-01       14        6  "
      ],
      "text/html": "<div>\n<style scoped>\n    .dataframe tbody tr th:only-of-type {\n        vertical-align: middle;\n    }\n\n    .dataframe tbody tr th {\n        vertical-align: top;\n    }\n\n    .dataframe thead th {\n        text-align: right;\n    }\n</style>\n<table border=\"1\" class=\"dataframe\">\n  <thead>\n    <tr style=\"text-align: right;\">\n      <th></th>\n      <th>RAMNTALL</th>\n      <th>NGIFTALL</th>\n      <th>CARDGIFT</th>\n      <th>MINRAMNT</th>\n      <th>MINRDATE</th>\n      <th>MAXRAMNT</th>\n      <th>MAXRDATE</th>\n      <th>LASTGIFT</th>\n      <th>LASTDATE</th>\n      <th>FISTDATE</th>\n      <th>NEXTDATE</th>\n      <th>TIMELAG</th>\n      <th>AVGGIFT</th>\n    </tr>\n  </thead>\n  <tbody>\n    <tr>\n      <th>0</th>\n      <td>240</td>\n      <td>31</td>\n      <td>14</td>\n      <td>5</td>\n      <td>2012-08-01</td>\n      <td>12</td>\n      <td>2014-02-01</td>\n      <td>10</td>\n      <td>2015-12-01</td>\n      <td>2009-11-01</td>\n      <td>2010-03-01</td>\n      <td>4</td>\n      <td>7</td>\n    </tr>\n    <tr>\n      <th>1</th>\n      <td>47</td>\n      <td>3</td>\n      <td>1</td>\n      <td>10</td>\n      <td>2013-10-01</td>\n      <td>25</td>\n      <td>2015-12-01</td>\n      <td>25</td>\n      <td>2015-12-01</td>\n      <td>2013-10-01</td>\n      <td>2015-04-01</td>\n      <td>18</td>\n      <td>15</td>\n    </tr>\n    <tr>\n      <th>2</th>\n      <td>202</td>\n      <td>27</td>\n      <td>14</td>\n      <td>2</td>\n      <td>2011-11-01</td>\n      <td>16</td>\n      <td>2012-07-01</td>\n      <td>5</td>\n      <td>2015-12-01</td>\n      <td>2010-01-01</td>\n      <td>2011-01-01</td>\n      <td>12</td>\n      <td>7</td>\n    </tr>\n    <tr>\n      <th>3</th>\n      <td>109</td>\n      <td>16</td>\n      <td>7</td>\n      <td>2</td>\n      <td>2007-11-01</td>\n      <td>11</td>\n      <td>2014-11-01</td>\n      <td>10</td>\n      <td>2015-12-01</td>\n      <td>2007-02-01</td>\n      <td>2007-11-01</td>\n      <td>9</td>\n      <td>6</td>\n    </tr>\n    <tr>\n      <th>4</th>\n      <td>254</td>\n      <td>37</td>\n      <td>8</td>\n      <td>3</td>\n      <td>2013-10-01</td>\n      <td>15</td>\n      <td>2016-01-01</td>\n      <td>15</td>\n      <td>2016-01-01</td>\n      <td>1999-03-01</td>\n      <td>2000-05-01</td>\n      <td>14</td>\n      <td>6</td>\n    </tr>\n  </tbody>\n</table>\n</div>"
     },
     "metadata": {},
     "execution_count": 15
    }
   ],
   "source": [
    "df[columns_donation_history].head()"
   ]
  },
  {
   "cell_type": "code",
   "execution_count": 16,
   "metadata": {},
   "outputs": [],
   "source": [
    "#generate time delta between biggest and smallest donation\n",
    "timelag_days = list(map(lambda delta: delta.days, np.abs(df['MINRDATE'] - df['MAXRDATE'])))\n",
    "\n",
    "new_column = 'TIMEDELTA_SMALLEST_BIGGEST_DONATION'\n",
    "df[new_column] = timelag_days\n",
    "columns_donation_history.append(new_column)"
   ]
  },
  {
   "cell_type": "code",
   "execution_count": 17,
   "metadata": {},
   "outputs": [],
   "source": [
    "#generate time delta between biggest and first donation\n",
    "timelag_days = list(map(lambda delta: delta.days, np.abs(df['MAXRDATE'] - df['FISTDATE'])))\n",
    "\n",
    "new_column = 'TIMEDELTA_FIRST_BIGGEST_DONATION'\n",
    "df[new_column] = timelag_days\n",
    "columns_donation_history.append(new_column)"
   ]
  },
  {
   "cell_type": "code",
   "execution_count": 18,
   "metadata": {},
   "outputs": [],
   "source": [
    "#generate time delta between first and last donation\n",
    "timelag_days = list(map(lambda delta: delta.days, np.abs(df['LASTDATE'] - df['FISTDATE'])))\n",
    "\n",
    "new_column = 'TIMEDELTA_FIRST_LAST_DONATION'\n",
    "df[new_column] = timelag_days\n",
    "columns_donation_history.append(new_column)"
   ]
  },
  {
   "cell_type": "code",
   "execution_count": 19,
   "metadata": {},
   "outputs": [],
   "source": [
    "columns_to_remove = ['MINRDATE','MAXRDATE','LASTDATE','FISTDATE','NEXTDATE']\n",
    "df.drop(columns=columns_to_remove, inplace=True)\n",
    "\n",
    "columns_donation_history = [col for col in columns_donation_history if col not in columns_to_remove]"
   ]
  },
  {
   "cell_type": "code",
   "execution_count": 20,
   "metadata": {},
   "outputs": [
    {
     "output_type": "execute_result",
     "data": {
      "text/plain": [
       "   RAMNTALL  NGIFTALL  CARDGIFT  MINRAMNT  MAXRAMNT  LASTGIFT  TIMELAG  \\\n",
       "0       240        31        14         5        12        10        4   \n",
       "1        47         3         1        10        25        25       18   \n",
       "2       202        27        14         2        16         5       12   \n",
       "3       109        16         7         2        11        10        9   \n",
       "4       254        37         8         3        15        15       14   \n",
       "\n",
       "   AVGGIFT  TIMEDELTA_SMALLEST_BIGGEST_DONATION  \\\n",
       "0        7                                  549   \n",
       "1       15                                  791   \n",
       "2        7                                  243   \n",
       "3        6                                 2557   \n",
       "4        6                                  822   \n",
       "\n",
       "   TIMEDELTA_FIRST_BIGGEST_DONATION  TIMEDELTA_FIRST_LAST_DONATION  \n",
       "0                              1553                           2221  \n",
       "1                               791                            791  \n",
       "2                               912                           2160  \n",
       "3                              2830                           3225  \n",
       "4                              6150                           6150  "
      ],
      "text/html": "<div>\n<style scoped>\n    .dataframe tbody tr th:only-of-type {\n        vertical-align: middle;\n    }\n\n    .dataframe tbody tr th {\n        vertical-align: top;\n    }\n\n    .dataframe thead th {\n        text-align: right;\n    }\n</style>\n<table border=\"1\" class=\"dataframe\">\n  <thead>\n    <tr style=\"text-align: right;\">\n      <th></th>\n      <th>RAMNTALL</th>\n      <th>NGIFTALL</th>\n      <th>CARDGIFT</th>\n      <th>MINRAMNT</th>\n      <th>MAXRAMNT</th>\n      <th>LASTGIFT</th>\n      <th>TIMELAG</th>\n      <th>AVGGIFT</th>\n      <th>TIMEDELTA_SMALLEST_BIGGEST_DONATION</th>\n      <th>TIMEDELTA_FIRST_BIGGEST_DONATION</th>\n      <th>TIMEDELTA_FIRST_LAST_DONATION</th>\n    </tr>\n  </thead>\n  <tbody>\n    <tr>\n      <th>0</th>\n      <td>240</td>\n      <td>31</td>\n      <td>14</td>\n      <td>5</td>\n      <td>12</td>\n      <td>10</td>\n      <td>4</td>\n      <td>7</td>\n      <td>549</td>\n      <td>1553</td>\n      <td>2221</td>\n    </tr>\n    <tr>\n      <th>1</th>\n      <td>47</td>\n      <td>3</td>\n      <td>1</td>\n      <td>10</td>\n      <td>25</td>\n      <td>25</td>\n      <td>18</td>\n      <td>15</td>\n      <td>791</td>\n      <td>791</td>\n      <td>791</td>\n    </tr>\n    <tr>\n      <th>2</th>\n      <td>202</td>\n      <td>27</td>\n      <td>14</td>\n      <td>2</td>\n      <td>16</td>\n      <td>5</td>\n      <td>12</td>\n      <td>7</td>\n      <td>243</td>\n      <td>912</td>\n      <td>2160</td>\n    </tr>\n    <tr>\n      <th>3</th>\n      <td>109</td>\n      <td>16</td>\n      <td>7</td>\n      <td>2</td>\n      <td>11</td>\n      <td>10</td>\n      <td>9</td>\n      <td>6</td>\n      <td>2557</td>\n      <td>2830</td>\n      <td>3225</td>\n    </tr>\n    <tr>\n      <th>4</th>\n      <td>254</td>\n      <td>37</td>\n      <td>8</td>\n      <td>3</td>\n      <td>15</td>\n      <td>15</td>\n      <td>14</td>\n      <td>6</td>\n      <td>822</td>\n      <td>6150</td>\n      <td>6150</td>\n    </tr>\n  </tbody>\n</table>\n</div>"
     },
     "metadata": {},
     "execution_count": 20
    }
   ],
   "source": [
    "df[columns_donation_history].head()"
   ]
  },
  {
   "source": [
    "## Merging promotions by year\n",
    "### Number gifts per year"
   ],
   "cell_type": "markdown",
   "metadata": {}
  },
  {
   "cell_type": "code",
   "execution_count": 21,
   "metadata": {},
   "outputs": [],
   "source": [
    "columns_promotions_2014 = ['RDATE_23','RDATE_24']\n",
    "\n",
    "columns_promotions_2015 = ['RDATE_13','RDATE_14','RDATE_15','RDATE_16','RDATE_17','RDATE_18','RDATE_19','RDATE_20','RDATE_21','RDATE_22','RDATE_23','RDATE_24']\n",
    "\n",
    "columns_promotions_2016 = ['RDATE_3','RDATE_4','RDATE_5','RDATE_6','RDATE_7','RDATE_8','RDATE_9','RDATE_10','RDATE_11','RDATE_12']"
   ]
  },
  {
   "cell_type": "code",
   "execution_count": 22,
   "metadata": {},
   "outputs": [],
   "source": [
    "#Getting number of donations per year\n",
    "nr_donations_2014 = df[columns_promotions_2014].isna().sum(axis=1)\n",
    "nr_donations_2015 = df[columns_promotions_2015].isna().sum(axis=1)\n",
    "nr_donations_2016 = df[columns_promotions_2016].isna().sum(axis=1)\n",
    "donations = pd.DataFrame([nr_donations_2014, nr_donations_2015, nr_donations_2016]).transpose()\n",
    "\n",
    "columns_nr_donations_perYear = ['TOT_DON_14','TOT_DON_15','TOT_DON_16']"
   ]
  },
  {
   "cell_type": "code",
   "execution_count": 23,
   "metadata": {},
   "outputs": [
    {
     "output_type": "execute_result",
     "data": {
      "text/plain": [
       "   TOT_DON_14  TOT_DON_15  TOT_DON_16\n",
       "0           0           6           9\n",
       "1           2          11           9\n",
       "2           0           6           9\n",
       "3           2           7           8\n",
       "4           2          11           9"
      ],
      "text/html": "<div>\n<style scoped>\n    .dataframe tbody tr th:only-of-type {\n        vertical-align: middle;\n    }\n\n    .dataframe tbody tr th {\n        vertical-align: top;\n    }\n\n    .dataframe thead th {\n        text-align: right;\n    }\n</style>\n<table border=\"1\" class=\"dataframe\">\n  <thead>\n    <tr style=\"text-align: right;\">\n      <th></th>\n      <th>TOT_DON_14</th>\n      <th>TOT_DON_15</th>\n      <th>TOT_DON_16</th>\n    </tr>\n  </thead>\n  <tbody>\n    <tr>\n      <th>0</th>\n      <td>0</td>\n      <td>6</td>\n      <td>9</td>\n    </tr>\n    <tr>\n      <th>1</th>\n      <td>2</td>\n      <td>11</td>\n      <td>9</td>\n    </tr>\n    <tr>\n      <th>2</th>\n      <td>0</td>\n      <td>6</td>\n      <td>9</td>\n    </tr>\n    <tr>\n      <th>3</th>\n      <td>2</td>\n      <td>7</td>\n      <td>8</td>\n    </tr>\n    <tr>\n      <th>4</th>\n      <td>2</td>\n      <td>11</td>\n      <td>9</td>\n    </tr>\n  </tbody>\n</table>\n</div>"
     },
     "metadata": {},
     "execution_count": 23
    }
   ],
   "source": [
    "df[columns_nr_donations_perYear] = donations\n",
    "df[columns_nr_donations_perYear].head()"
   ]
  },
  {
   "source": [
    "### Total gift amount per year"
   ],
   "cell_type": "markdown",
   "metadata": {}
  },
  {
   "cell_type": "code",
   "execution_count": 24,
   "metadata": {},
   "outputs": [],
   "source": [
    "columns_promotions_2014 = ['RAMNT_23','RAMNT_24']\n",
    "\n",
    "columns_promotions_2015 = ['RAMNT_13','RAMNT_14','RAMNT_15','RAMNT_16','RAMNT_17','RAMNT_18','RAMNT_19','RAMNT_20','RAMNT_21','RAMNT_22','RAMNT_23','RAMNT_24']\n",
    "\n",
    "columns_promotions_2016 = ['RAMNT_3','RAMNT_4','RAMNT_5','RAMNT_6','RAMNT_7','RAMNT_8','RAMNT_9','RAMNT_10','RAMNT_11','RAMNT_12']"
   ]
  },
  {
   "cell_type": "code",
   "execution_count": 25,
   "metadata": {},
   "outputs": [],
   "source": [
    "#Getting number of donations per year\n",
    "nr_donations_2014 = df[columns_promotions_2014].sum(axis=1)\n",
    "nr_donations_2015 = df[columns_promotions_2015].sum(axis=1)\n",
    "nr_donations_2016 = df[columns_promotions_2016].sum(axis=1)\n",
    "donations = pd.DataFrame([nr_donations_2014, nr_donations_2015, nr_donations_2016]).transpose()\n",
    "\n",
    "columns_total_donation_amount_perYear = ['TOT_DON_AMNT_14','TOT_DON_AMNT_15','TOT_DON_AMNT_16']"
   ]
  },
  {
   "cell_type": "code",
   "execution_count": 26,
   "metadata": {},
   "outputs": [
    {
     "output_type": "execute_result",
     "data": {
      "text/plain": [
       "   TOT_DON_AMNT_14  TOT_DON_AMNT_15  TOT_DON_AMNT_16\n",
       "0             20.0             63.0             10.0\n",
       "1              0.0             12.0             25.0\n",
       "2             13.0             47.0             11.0\n",
       "3              0.0             45.0             20.0\n",
       "4              0.0             10.0             15.0"
      ],
      "text/html": "<div>\n<style scoped>\n    .dataframe tbody tr th:only-of-type {\n        vertical-align: middle;\n    }\n\n    .dataframe tbody tr th {\n        vertical-align: top;\n    }\n\n    .dataframe thead th {\n        text-align: right;\n    }\n</style>\n<table border=\"1\" class=\"dataframe\">\n  <thead>\n    <tr style=\"text-align: right;\">\n      <th></th>\n      <th>TOT_DON_AMNT_14</th>\n      <th>TOT_DON_AMNT_15</th>\n      <th>TOT_DON_AMNT_16</th>\n    </tr>\n  </thead>\n  <tbody>\n    <tr>\n      <th>0</th>\n      <td>20.0</td>\n      <td>63.0</td>\n      <td>10.0</td>\n    </tr>\n    <tr>\n      <th>1</th>\n      <td>0.0</td>\n      <td>12.0</td>\n      <td>25.0</td>\n    </tr>\n    <tr>\n      <th>2</th>\n      <td>13.0</td>\n      <td>47.0</td>\n      <td>11.0</td>\n    </tr>\n    <tr>\n      <th>3</th>\n      <td>0.0</td>\n      <td>45.0</td>\n      <td>20.0</td>\n    </tr>\n    <tr>\n      <th>4</th>\n      <td>0.0</td>\n      <td>10.0</td>\n      <td>15.0</td>\n    </tr>\n  </tbody>\n</table>\n</div>"
     },
     "metadata": {},
     "execution_count": 26
    }
   ],
   "source": [
    "df[columns_total_donation_amount_perYear] = donations\n",
    "df[columns_total_donation_amount_perYear].head()"
   ]
  },
  {
   "source": [
    "## Small Recap"
   ],
   "cell_type": "markdown",
   "metadata": {}
  },
  {
   "cell_type": "code",
   "execution_count": 29,
   "metadata": {},
   "outputs": [
    {
     "output_type": "execute_result",
     "data": {
      "text/plain": [
       "  RFA_2R  RFA_2F RFA_2A  RAMNTALL  NGIFTALL  CARDGIFT  MINRAMNT  MAXRAMNT  \\\n",
       "0      L       4      E       240        31        14         5        12   \n",
       "1      L       2      G        47         3         1        10        25   \n",
       "2      L       4      E       202        27        14         2        16   \n",
       "3      L       4      E       109        16         7         2        11   \n",
       "4      L       2      F       254        37         8         3        15   \n",
       "\n",
       "   LASTGIFT  TIMELAG  AVGGIFT  TIMEDELTA_SMALLEST_BIGGEST_DONATION  \\\n",
       "0        10        4        7                                  549   \n",
       "1        25       18       15                                  791   \n",
       "2         5       12        7                                  243   \n",
       "3        10        9        6                                 2557   \n",
       "4        15       14        6                                  822   \n",
       "\n",
       "   TIMEDELTA_FIRST_BIGGEST_DONATION  TIMEDELTA_FIRST_LAST_DONATION  \\\n",
       "0                              1553                           2221   \n",
       "1                               791                            791   \n",
       "2                               912                           2160   \n",
       "3                              2830                           3225   \n",
       "4                              6150                           6150   \n",
       "\n",
       "   TOT_DON_14  TOT_DON_15  TOT_DON_16  TOT_DON_AMNT_14  TOT_DON_AMNT_15  \\\n",
       "0           0           6           9             20.0             63.0   \n",
       "1           2          11           9              0.0             12.0   \n",
       "2           0           6           9             13.0             47.0   \n",
       "3           2           7           8              0.0             45.0   \n",
       "4           2          11           9              0.0             10.0   \n",
       "\n",
       "   TOT_DON_AMNT_16  \n",
       "0             10.0  \n",
       "1             25.0  \n",
       "2             11.0  \n",
       "3             20.0  \n",
       "4             15.0  "
      ],
      "text/html": "<div>\n<style scoped>\n    .dataframe tbody tr th:only-of-type {\n        vertical-align: middle;\n    }\n\n    .dataframe tbody tr th {\n        vertical-align: top;\n    }\n\n    .dataframe thead th {\n        text-align: right;\n    }\n</style>\n<table border=\"1\" class=\"dataframe\">\n  <thead>\n    <tr style=\"text-align: right;\">\n      <th></th>\n      <th>RFA_2R</th>\n      <th>RFA_2F</th>\n      <th>RFA_2A</th>\n      <th>RAMNTALL</th>\n      <th>NGIFTALL</th>\n      <th>CARDGIFT</th>\n      <th>MINRAMNT</th>\n      <th>MAXRAMNT</th>\n      <th>LASTGIFT</th>\n      <th>TIMELAG</th>\n      <th>AVGGIFT</th>\n      <th>TIMEDELTA_SMALLEST_BIGGEST_DONATION</th>\n      <th>TIMEDELTA_FIRST_BIGGEST_DONATION</th>\n      <th>TIMEDELTA_FIRST_LAST_DONATION</th>\n      <th>TOT_DON_14</th>\n      <th>TOT_DON_15</th>\n      <th>TOT_DON_16</th>\n      <th>TOT_DON_AMNT_14</th>\n      <th>TOT_DON_AMNT_15</th>\n      <th>TOT_DON_AMNT_16</th>\n    </tr>\n  </thead>\n  <tbody>\n    <tr>\n      <th>0</th>\n      <td>L</td>\n      <td>4</td>\n      <td>E</td>\n      <td>240</td>\n      <td>31</td>\n      <td>14</td>\n      <td>5</td>\n      <td>12</td>\n      <td>10</td>\n      <td>4</td>\n      <td>7</td>\n      <td>549</td>\n      <td>1553</td>\n      <td>2221</td>\n      <td>0</td>\n      <td>6</td>\n      <td>9</td>\n      <td>20.0</td>\n      <td>63.0</td>\n      <td>10.0</td>\n    </tr>\n    <tr>\n      <th>1</th>\n      <td>L</td>\n      <td>2</td>\n      <td>G</td>\n      <td>47</td>\n      <td>3</td>\n      <td>1</td>\n      <td>10</td>\n      <td>25</td>\n      <td>25</td>\n      <td>18</td>\n      <td>15</td>\n      <td>791</td>\n      <td>791</td>\n      <td>791</td>\n      <td>2</td>\n      <td>11</td>\n      <td>9</td>\n      <td>0.0</td>\n      <td>12.0</td>\n      <td>25.0</td>\n    </tr>\n    <tr>\n      <th>2</th>\n      <td>L</td>\n      <td>4</td>\n      <td>E</td>\n      <td>202</td>\n      <td>27</td>\n      <td>14</td>\n      <td>2</td>\n      <td>16</td>\n      <td>5</td>\n      <td>12</td>\n      <td>7</td>\n      <td>243</td>\n      <td>912</td>\n      <td>2160</td>\n      <td>0</td>\n      <td>6</td>\n      <td>9</td>\n      <td>13.0</td>\n      <td>47.0</td>\n      <td>11.0</td>\n    </tr>\n    <tr>\n      <th>3</th>\n      <td>L</td>\n      <td>4</td>\n      <td>E</td>\n      <td>109</td>\n      <td>16</td>\n      <td>7</td>\n      <td>2</td>\n      <td>11</td>\n      <td>10</td>\n      <td>9</td>\n      <td>6</td>\n      <td>2557</td>\n      <td>2830</td>\n      <td>3225</td>\n      <td>2</td>\n      <td>7</td>\n      <td>8</td>\n      <td>0.0</td>\n      <td>45.0</td>\n      <td>20.0</td>\n    </tr>\n    <tr>\n      <th>4</th>\n      <td>L</td>\n      <td>2</td>\n      <td>F</td>\n      <td>254</td>\n      <td>37</td>\n      <td>8</td>\n      <td>3</td>\n      <td>15</td>\n      <td>15</td>\n      <td>14</td>\n      <td>6</td>\n      <td>822</td>\n      <td>6150</td>\n      <td>6150</td>\n      <td>2</td>\n      <td>11</td>\n      <td>9</td>\n      <td>0.0</td>\n      <td>10.0</td>\n      <td>15.0</td>\n    </tr>\n  </tbody>\n</table>\n</div>"
     },
     "metadata": {},
     "execution_count": 29
    }
   ],
   "source": [
    "modified_columns =\\\n",
    "    columns_donator_classification +\\\n",
    "    columns_donation_history +\\\n",
    "    columns_nr_donations_perYear +\\\n",
    "    columns_total_donation_amount_perYear\n",
    "\n",
    "df[modified_columns].head()"
   ]
  }
 ]
}