{
 "metadata": {
  "language_info": {
   "codemirror_mode": {
    "name": "ipython",
    "version": 3
   },
   "file_extension": ".py",
   "mimetype": "text/x-python",
   "name": "python",
   "nbconvert_exporter": "python",
   "pygments_lexer": "ipython3",
   "version": "3.8.3-final"
  },
  "orig_nbformat": 2,
  "kernelspec": {
   "name": "python3",
   "display_name": "Python 3",
   "language": "python"
  }
 },
 "nbformat": 4,
 "nbformat_minor": 2,
 "cells": [
  {
   "cell_type": "code",
   "execution_count": null,
   "metadata": {},
   "outputs": [],
   "source": [
    "import pandas as pd \n",
    "import numpy as np\n",
    "import matplotlib.pyplot as plt\n",
    "import seaborn as sns\n",
    "import re as re\n",
    "from datetime import date\n",
    "from pandas_profiling import ProfileReport"
   ]
  },
  {
   "cell_type": "code",
   "execution_count": null,
   "metadata": {},
   "outputs": [],
   "source": [
    "pd.set_option('display.max_columns', 500)"
   ]
  },
  {
   "source": [
    "# 0. Loading our Data"
   ],
   "cell_type": "markdown",
   "metadata": {}
  },
  {
   "cell_type": "code",
   "execution_count": null,
   "metadata": {},
   "outputs": [],
   "source": [
    "df = pd.read_csv('../Data/donors.csv')"
   ]
  },
  {
   "cell_type": "code",
   "execution_count": null,
   "metadata": {},
   "outputs": [],
   "source": [
    "df.head()"
   ]
  },
  {
   "source": [
    "# 1.Analysing Data"
   ],
   "cell_type": "markdown",
   "metadata": {}
  },
  {
   "source": [
    "## Donator classification\n",
    "\n",
    "- RFA  --> RFA (RECENCY/FREQUENCY/AMOUNT)"
   ],
   "cell_type": "markdown",
   "metadata": {}
  },
  {
   "cell_type": "code",
   "execution_count": null,
   "metadata": {},
   "outputs": [],
   "source": [
    "columns_donator_classification = [\n",
    "    'RFA_2R',\n",
    "    'RFA_2F',\n",
    "    'RFA_2A'\n",
    "]"
   ]
  },
  {
   "cell_type": "code",
   "execution_count": null,
   "metadata": {},
   "outputs": [],
   "source": [
    "df[columns_donator_classification].head()"
   ]
  },
  {
   "cell_type": "code",
   "execution_count": null,
   "metadata": {},
   "outputs": [],
   "source": [
    "df[columns_donator_classification].isna().sum()"
   ]
  },
  {
   "cell_type": "code",
   "execution_count": null,
   "metadata": {},
   "outputs": [],
   "source": [
    "df[columns_donator_classification] = df[columns_donator_classification].astype('object')"
   ]
  },
  {
   "source": [
    " ## Donation history\n",
    "\n",
    "- RAMNTALL  -->  Dollar amount of lifetime gifts to date\n",
    "- NGIFTALL  -->  Number of lifetime gifts to date\n",
    "- CARDGIFT  -->  Number of lifetime gifts to card promotions to date\n",
    "- MINRAMNT  -->  Dollar amount of smallest gift to date\n",
    "- MINRDATE  -->  Date associated with the smallest gift to date\n",
    "- MAXRAMNT  -->  Dollar amount of largest gift to date\n",
    "- MAXRDATE  -->  Date associated with the largest gift to date\n",
    "- LASTGIFT  -->  Dollar amount of most recent gift\n",
    "- LASTDATE  -->  Date associated with the most recent gift\n",
    "- FISTDATE  -->  Date of first gift\n",
    "- NEXTDATE  -->  Date of second gift\n",
    "- TIMELAG  -->   Number of months between first and second gift\n",
    "- AVGGIFT  -->   Average dollar amount of gifts to date"
   ],
   "cell_type": "markdown",
   "metadata": {}
  },
  {
   "cell_type": "code",
   "execution_count": null,
   "metadata": {},
   "outputs": [],
   "source": [
    "columns_donation_history = [\n",
    "    'RAMNTALL',\n",
    "    'NGIFTALL',\n",
    "    'CARDGIFT',\n",
    "    'MINRAMNT',\n",
    "    'MINRDATE',\n",
    "    'MAXRAMNT',\n",
    "    'MAXRDATE',\n",
    "    'LASTGIFT',\n",
    "    'LASTDATE',\n",
    "    'FISTDATE',\n",
    "    'NEXTDATE',\n",
    "    'TIMELAG',\n",
    "    'AVGGIFT'\n",
    "]"
   ]
  },
  {
   "cell_type": "code",
   "execution_count": null,
   "metadata": {},
   "outputs": [],
   "source": [
    "df[columns_donation_history].head()"
   ]
  },
  {
   "cell_type": "code",
   "execution_count": null,
   "metadata": {},
   "outputs": [],
   "source": [
    "df[columns_donation_history].isna().sum()"
   ]
  },
  {
   "cell_type": "code",
   "execution_count": null,
   "metadata": {},
   "outputs": [],
   "source": [
    "#drop rows with FISTDATE == NaN\n",
    "df.dropna(subset=['FISTDATE'], inplace=True)\n",
    "df[columns_donation_history].isna().sum()"
   ]
  },
  {
   "cell_type": "code",
   "execution_count": null,
   "metadata": {},
   "outputs": [],
   "source": [
    "#fill time lag between first and second donation to 0\n",
    "df['TIMELAG'].fillna(0, inplace=True)\n",
    "df[columns_donation_history].isna().sum()"
   ]
  },
  {
   "cell_type": "code",
   "execution_count": null,
   "metadata": {},
   "outputs": [],
   "source": [
    "# Make sure datatype is correct\n",
    "df[columns_donation_history].dtypes"
   ]
  },
  {
   "cell_type": "code",
   "execution_count": null,
   "metadata": {},
   "outputs": [],
   "source": [
    "#fix dtypes\n",
    "df[columns_donation_history] =\\\n",
    "    df[columns_donation_history].astype(\n",
    "        {\n",
    "            'RAMNTALL': 'int64',\n",
    "            'MINRAMNT': 'int64',\n",
    "            'MINRDATE': 'datetime64',\n",
    "            'MAXRAMNT': 'int64',\n",
    "            'MAXRDATE': 'datetime64',\n",
    "            'LASTGIFT': 'int64',\n",
    "            'LASTDATE': 'datetime64',\n",
    "            'FISTDATE': 'datetime64',\n",
    "            'NEXTDATE': 'datetime64',\n",
    "            'TIMELAG': 'int64',\n",
    "            'AVGGIFT': 'int64'\n",
    "        }\n",
    "    )"
   ]
  },
  {
   "cell_type": "code",
   "execution_count": null,
   "metadata": {},
   "outputs": [],
   "source": [
    "df[columns_donation_history].head()"
   ]
  },
  {
   "cell_type": "code",
   "execution_count": null,
   "metadata": {},
   "outputs": [],
   "source": [
    "#generate time delta between biggest and smallest donation\n",
    "timelag_days = list(map(lambda delta: delta.days, np.abs(df['MINRDATE'] - df['MAXRDATE'])))\n",
    "\n",
    "new_column = 'TIMEDELTA_SMALLEST_BIGGEST_DONATION'\n",
    "df[new_column] = timelag_days\n",
    "columns_donation_history.append(new_column)"
   ]
  },
  {
   "cell_type": "code",
   "execution_count": null,
   "metadata": {},
   "outputs": [],
   "source": [
    "#generate time delta between biggest and first donation\n",
    "timelag_days = list(map(lambda delta: delta.days, np.abs(df['MAXRDATE'] - df['FISTDATE'])))\n",
    "\n",
    "new_column = 'TIMEDELTA_FIRST_BIGGEST_DONATION'\n",
    "df[new_column] = timelag_days\n",
    "columns_donation_history.append(new_column)"
   ]
  },
  {
   "cell_type": "code",
   "execution_count": null,
   "metadata": {},
   "outputs": [],
   "source": [
    "#generate time delta between first and last donation\n",
    "timelag_days = list(map(lambda delta: delta.days, np.abs(df['LASTDATE'] - df['FISTDATE'])))\n",
    "\n",
    "new_column = 'TIMEDELTA_FIRST_LAST_DONATION'\n",
    "df[new_column] = timelag_days\n",
    "columns_donation_history.append(new_column)"
   ]
  },
  {
   "cell_type": "code",
   "execution_count": null,
   "metadata": {},
   "outputs": [],
   "source": [
    "columns_to_remove = ['MINRDATE','MAXRDATE','LASTDATE','FISTDATE','NEXTDATE']\n",
    "df.drop(columns=columns_to_remove, inplace=True)\n",
    "\n",
    "columns_donation_history = [col for col in columns_donation_history if col not in columns_to_remove]"
   ]
  },
  {
   "cell_type": "code",
   "execution_count": null,
   "metadata": {},
   "outputs": [],
   "source": [
    "#Add \"Average donation value per gift\"'s column\n",
    "new_column = 'AVG_GIFT_VAL'\n",
    "columns_donation_history.append(new_column) \n",
    "\n",
    "df[new_column] = df['RAMNTALL'] / df['NGIFTALL']\n",
    "df[new_column].head()"
   ]
  },
  {
   "cell_type": "code",
   "execution_count": null,
   "metadata": {},
   "outputs": [],
   "source": [
    "df[columns_donation_history].head()"
   ]
  },
  {
   "source": [
    "## Merging promotions by year\n",
    "### Number gifts per year"
   ],
   "cell_type": "markdown",
   "metadata": {}
  },
  {
   "cell_type": "code",
   "execution_count": null,
   "metadata": {},
   "outputs": [],
   "source": [
    "columns_promotions_2014 = ['RDATE_23','RDATE_24']\n",
    "\n",
    "columns_promotions_2015 = ['RDATE_13','RDATE_14','RDATE_15','RDATE_16','RDATE_17','RDATE_18','RDATE_19','RDATE_20','RDATE_21','RDATE_22','RDATE_23','RDATE_24']\n",
    "\n",
    "columns_promotions_2016 = ['RDATE_3','RDATE_4','RDATE_5','RDATE_6','RDATE_7','RDATE_8','RDATE_9','RDATE_10','RDATE_11','RDATE_12']"
   ]
  },
  {
   "cell_type": "code",
   "execution_count": null,
   "metadata": {},
   "outputs": [],
   "source": [
    "#Getting number of donations per year\n",
    "nr_donations_2014 = df[columns_promotions_2014].isna().sum(axis=1)\n",
    "nr_donations_2015 = df[columns_promotions_2015].isna().sum(axis=1)\n",
    "nr_donations_2016 = df[columns_promotions_2016].isna().sum(axis=1)\n",
    "donations = pd.DataFrame([nr_donations_2014, nr_donations_2015, nr_donations_2016]).transpose()\n",
    "\n",
    "columns_nr_donations_perYear = ['TOT_DON_14','TOT_DON_15','TOT_DON_16']"
   ]
  },
  {
   "cell_type": "code",
   "execution_count": null,
   "metadata": {},
   "outputs": [],
   "source": [
    "df[columns_nr_donations_perYear] = donations\n",
    "df[columns_nr_donations_perYear].head()"
   ]
  },
  {
   "source": [
    "### Total gift amount per year"
   ],
   "cell_type": "markdown",
   "metadata": {}
  },
  {
   "cell_type": "code",
   "execution_count": null,
   "metadata": {},
   "outputs": [],
   "source": [
    "columns_promotions_2014 = ['RAMNT_23','RAMNT_24']\n",
    "\n",
    "columns_promotions_2015 = ['RAMNT_13','RAMNT_14','RAMNT_15','RAMNT_16','RAMNT_17','RAMNT_18','RAMNT_19','RAMNT_20','RAMNT_21','RAMNT_22','RAMNT_23','RAMNT_24']\n",
    "\n",
    "columns_promotions_2016 = ['RAMNT_3','RAMNT_4','RAMNT_5','RAMNT_6','RAMNT_7','RAMNT_8','RAMNT_9','RAMNT_10','RAMNT_11','RAMNT_12']"
   ]
  },
  {
   "cell_type": "code",
   "execution_count": null,
   "metadata": {},
   "outputs": [],
   "source": [
    "#Getting number of donations per year\n",
    "nr_donations_2014 = df[columns_promotions_2014].sum(axis=1)\n",
    "nr_donations_2015 = df[columns_promotions_2015].sum(axis=1)\n",
    "nr_donations_2016 = df[columns_promotions_2016].sum(axis=1)\n",
    "donations = pd.DataFrame([nr_donations_2014, nr_donations_2015, nr_donations_2016]).transpose()\n",
    "\n",
    "columns_total_donation_amount_perYear = ['TOT_DON_AMNT_14','TOT_DON_AMNT_15','TOT_DON_AMNT_16']"
   ]
  },
  {
   "cell_type": "code",
   "execution_count": null,
   "metadata": {},
   "outputs": [],
   "source": [
    "df[columns_total_donation_amount_perYear] = donations\n",
    "df[columns_total_donation_amount_perYear].head()"
   ]
  },
  {
   "source": [
    "## Adding return rate per donator\n",
    "- **CARDPROM**  -->   Lifetime number of card promotions received to\n",
    "                    date. Card promotions are promotion type FS, GK,\n",
    "                    TK, SK, NK, XK, UF, UU.\n",
    "\n",
    "- **MAXADATE**  -->   Date of the most recent promotion received (in\n",
    "                    YYMM, Year/Month format)\n",
    "\n",
    "- **NUMPROM**   -->   Lifetime number of promotions received to date\n",
    "\n",
    "- **CARDPM12**  -->   Number of card promotions received in the last\n",
    "                    12 months (in terms of calendar months translates\n",
    "                    into 1603-1702)\n",
    "                    \n",
    "- **NUMPRM12**  -->   Number of promotions received in the last 12\n",
    "                    months (in terms of calendar months translates\n",
    "                    into 1603-1702)"
   ],
   "cell_type": "markdown",
   "metadata": {}
  },
  {
   "cell_type": "code",
   "execution_count": null,
   "metadata": {},
   "outputs": [],
   "source": [
    "columns_overall_promotion_targeting = [\n",
    "    'CARDPROM',\n",
    "    'MAXADATE',\n",
    "    'NUMPROM',\n",
    "    'CARDPM12',\n",
    "    'NUMPRM12',\n",
    "]\n",
    "\n",
    "columns_return_rates = []"
   ]
  },
  {
   "cell_type": "code",
   "execution_count": null,
   "metadata": {},
   "outputs": [],
   "source": [
    "df[columns_overall_promotion_targeting].head()"
   ]
  },
  {
   "cell_type": "code",
   "execution_count": null,
   "metadata": {},
   "outputs": [],
   "source": [
    "#Adding conversion rate into df\n",
    "new_column = 'CONVERSION_RATE'\n",
    "columns_return_rates.append(new_column)\n",
    "\n",
    "df[new_column] = df['NGIFTALL'] / df['NUMPROM']\n",
    "df[new_column].head()"
   ]
  },
  {
   "cell_type": "code",
   "execution_count": null,
   "metadata": {},
   "outputs": [],
   "source": [
    "#Adding conversion rate into df\n",
    "new_column = 'GIFT_AVG_AMNT'\n",
    "columns_return_rates.append(new_column)\n",
    "\n",
    "df[new_column] = df['NGIFTALL'] / df['NUMPROM']\n",
    "df[new_column].head()"
   ]
  },
  {
   "cell_type": "code",
   "execution_count": null,
   "metadata": {},
   "outputs": [],
   "source": [
    "#Adding average gift per promotion targeting\n",
    "new_column = 'GIFT_AVG_AMNT_PER_PROMOTION'\n",
    "columns_return_rates.append(new_column)\n",
    "\n",
    "df[new_column] = df['RAMNTALL'] / df['NUMPROM']\n",
    "df[new_column].head()"
   ]
  },
  {
   "source": [
    "## Encode categorical columns"
   ],
   "cell_type": "markdown",
   "metadata": {}
  },
  {
   "cell_type": "code",
   "execution_count": null,
   "metadata": {},
   "outputs": [],
   "source": [
    "columns_donator_classification"
   ]
  },
  {
   "cell_type": "code",
   "execution_count": null,
   "metadata": {},
   "outputs": [],
   "source": [
    "dummies = pd.get_dummies(df[columns_donator_classification])\n",
    "dummies.head()"
   ]
  },
  {
   "cell_type": "code",
   "execution_count": null,
   "metadata": {},
   "outputs": [],
   "source": [
    "df.drop(columns=columns_donator_classification, inplace=True)\n",
    "df = pd.concat([df, dummies], axis=1)"
   ]
  },
  {
   "cell_type": "code",
   "execution_count": null,
   "metadata": {},
   "outputs": [],
   "source": [
    "columns_donator_classification = list(dummies.columns.values)\n",
    "columns_donator_classification"
   ]
  },
  {
   "source": [
    "## Small Recap"
   ],
   "cell_type": "markdown",
   "metadata": {}
  },
  {
   "cell_type": "code",
   "execution_count": null,
   "metadata": {},
   "outputs": [],
   "source": [
    "modified_columns =\\\n",
    "    columns_donator_classification +\\\n",
    "    columns_donation_history +\\\n",
    "    columns_nr_donations_perYear +\\\n",
    "    columns_total_donation_amount_perYear +\\\n",
    "    columns_return_rates\n",
    "\n",
    "df[modified_columns].head()"
   ]
  },
  {
   "cell_type": "code",
   "execution_count": null,
   "metadata": {},
   "outputs": [],
   "source": [
    "corr = df[modified_columns].corr()\n",
    "\n",
    "plt.figure(figsize=(30,30))\n",
    "sns.heatmap(corr, annot=True, linewidths=0.25)\n",
    "plt.show()"
   ]
  },
  {
   "cell_type": "code",
   "execution_count": null,
   "metadata": {},
   "outputs": [],
   "source": [
    "# columns_to_drop = [\n",
    "#     'RAMNTALL',\n",
    "#     'AVGGIFT',\n",
    "#     'GIFT_AVG_AMNT',\n",
    "#     'NGIFTALL',\n",
    "#     'AVG_GIFT_VAL',\n",
    "#     'TIMEDELTA_FIRST_LAST_DONATION',\n",
    "#     'CARDGIFT',\n",
    "#     'TOT_DON_15',\n",
    "#     'TOT_DON_14'\n",
    "# ]\n",
    "\n",
    "# modified_columns = [col for col in modified_columns if col not in columns_to_drop]"
   ]
  },
  {
   "cell_type": "code",
   "execution_count": null,
   "metadata": {},
   "outputs": [],
   "source": [
    "# corr = df[modified_columns].corr()\n",
    "\n",
    "# plt.figure(figsize=(20,20))\n",
    "# sns.heatmap(corr, annot=True, linewidths=0.25)\n",
    "# plt.show()"
   ]
  },
  {
   "source": [
    "## Normalizing Data"
   ],
   "cell_type": "markdown",
   "metadata": {}
  },
  {
   "cell_type": "code",
   "execution_count": null,
   "metadata": {},
   "outputs": [],
   "source": [
    "from sklearn.preprocessing import MinMaxScaler"
   ]
  },
  {
   "cell_type": "code",
   "execution_count": null,
   "metadata": {},
   "outputs": [],
   "source": [
    "scaler = MinMaxScaler()\n",
    "scaler.fit(df[modified_columns])\n",
    "df[modified_columns] = scaler.transform(df[modified_columns])"
   ]
  },
  {
   "cell_type": "code",
   "execution_count": null,
   "metadata": {},
   "outputs": [],
   "source": [
    "df[modified_columns].head()"
   ]
  },
  {
   "source": [
    "## Trying clustering"
   ],
   "cell_type": "markdown",
   "metadata": {}
  },
  {
   "cell_type": "code",
   "execution_count": null,
   "metadata": {},
   "outputs": [],
   "source": [
    "from sklearn.cluster import KMeans"
   ]
  },
  {
   "cell_type": "code",
   "execution_count": null,
   "metadata": {},
   "outputs": [],
   "source": [
    "inertia = []\n",
    "k_range = range(1,15)"
   ]
  },
  {
   "cell_type": "code",
   "execution_count": null,
   "metadata": {},
   "outputs": [],
   "source": [
    "for k in k_range:\n",
    "    k_means = KMeans(n_clusters=k)\n",
    "    k_means.fit(df[modified_columns])\n",
    "    inertia.append(k_means.inertia_)"
   ]
  },
  {
   "cell_type": "code",
   "execution_count": null,
   "metadata": {},
   "outputs": [],
   "source": [
    "plt.figure(figsize=(16,8))\n",
    "plt.plot(k_range, inertia, 'bx-')\n",
    "plt.xlabel('k')\n",
    "plt.ylabel('Distortion')\n",
    "plt.title('The Elbow Method showing the optimal k')\n",
    "plt.show()"
   ]
  },
  {
   "source": [
    "    --> chosen: 3 clusters"
   ],
   "cell_type": "markdown",
   "metadata": {}
  },
  {
   "cell_type": "code",
   "execution_count": null,
   "metadata": {},
   "outputs": [],
   "source": [
    "k_means = KMeans(n_clusters=7)\n",
    "k_means.fit(df[modified_columns])\n",
    "\n",
    "new_column = 'cluster'\n",
    "df[new_column] = k_means.predict(df[modified_columns])\n",
    "modified_columns.append(new_column)"
   ]
  },
  {
   "cell_type": "code",
   "execution_count": null,
   "metadata": {},
   "outputs": [],
   "source": [
    "df[new_column].head()"
   ]
  },
  {
   "cell_type": "code",
   "execution_count": null,
   "metadata": {},
   "outputs": [],
   "source": [
    "df[modified_columns].groupby(new_column).max()"
   ]
  },
  {
   "source": [
    "## Cluster Analysis"
   ],
   "cell_type": "markdown",
   "metadata": {}
  },
  {
   "cell_type": "code",
   "execution_count": null,
   "metadata": {},
   "outputs": [],
   "source": [
    "sns.scatterplot(data=df, x='TOT_DON_AMNT_14', y='TOT_DON_AMNT_15', hue='cluster')"
   ]
  },
  {
   "cell_type": "code",
   "execution_count": null,
   "metadata": {},
   "outputs": [],
   "source": [
    "sns.scatterplot(data=df, x='MINRAMNT', y='MAXRAMNT', hue='cluster')"
   ]
  },
  {
   "cell_type": "code",
   "execution_count": null,
   "metadata": {},
   "outputs": [],
   "source": [
    "sns.scatterplot(data=df, x='MAXRAMNT', y='CONVERSION_RATE', hue='cluster')"
   ]
  },
  {
   "cell_type": "code",
   "execution_count": null,
   "metadata": {},
   "outputs": [],
   "source": [
    "df['RFA_3'].str[0].value_counts()"
   ]
  }
 ]
}