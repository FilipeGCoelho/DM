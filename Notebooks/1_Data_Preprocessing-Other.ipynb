{
 "metadata": {
  "language_info": {
   "codemirror_mode": {
    "name": "ipython",
    "version": 3
   },
   "file_extension": ".py",
   "mimetype": "text/x-python",
   "name": "python",
   "nbconvert_exporter": "python",
   "pygments_lexer": "ipython3",
   "version": "3.8.6-final"
  },
  "orig_nbformat": 2,
  "kernelspec": {
   "name": "python3",
   "display_name": "Python 3",
   "language": "python"
  }
 },
 "nbformat": 4,
 "nbformat_minor": 2,
 "cells": [
  {
   "source": [
    "# Data Mining Project\n",
    "- Filipe Coelho - id: m20200580\n",
    "- Ivan Kisialiou - id: m20200998\n",
    "- Jose Quintas - id: m20200673\n",
    "\n",
    "## <br/>      \n",
    "\n",
    "## Phase 1: Data Pre-Processing (Other columns)"
   ],
   "cell_type": "markdown",
   "metadata": {}
  },
  {
   "source": [
    "## Imports"
   ],
   "cell_type": "markdown",
   "metadata": {}
  },
  {
   "cell_type": "code",
   "execution_count": null,
   "metadata": {},
   "outputs": [],
   "source": [
    "import pandas as pd\n",
    "import matplotlib.pyplot as plt\n",
    "import numpy as np\n",
    "import scipy\n",
    "import seaborn as sns"
   ]
  },
  {
   "source": [
    "### Config some libraries"
   ],
   "cell_type": "markdown",
   "metadata": {}
  },
  {
   "cell_type": "code",
   "execution_count": null,
   "metadata": {},
   "outputs": [],
   "source": [
    "pd.options.display.max_columns = 500\n",
    "pd.options.display.max_rows = 50"
   ]
  },
  {
   "source": [
    "## <br/>\n",
    "## <br/>\n",
    "## Data Read"
   ],
   "cell_type": "markdown",
   "metadata": {}
  },
  {
   "cell_type": "code",
   "execution_count": null,
   "metadata": {},
   "outputs": [],
   "source": [
    "df = pd.read_csv('../Data/donors.csv', index_col=0)\n",
    "df.head()"
   ]
  },
  {
   "cell_type": "code",
   "execution_count": null,
   "metadata": {},
   "outputs": [],
   "source": [
    "df.shape"
   ]
  },
  {
   "source": [
    "## <br/>\n",
    "## <br/>\n",
    "## Data Selection"
   ],
   "cell_type": "markdown",
   "metadata": {}
  },
  {
   "source": [
    " ## Donation history\n",
    "\n",
    "- RAMNTALL  -->  Dollar amount of lifetime gifts to date\n",
    "- NGIFTALL  -->  Number of lifetime gifts to date\n",
    "- AVGGIFT  -->   Average dollar amount of gifts to date\n",
    "- NUMPROM  -->   Lifetime number of promotions received to date\n",
    "- NUMPRM12 -->   Number of promotions received in the last 12 months\n",
    "- CARDPROM -->   Lifetime number of card promotions received to date\n",
    "- CARDPRM12 -->  Number of card promotions received in the last 12 months\n",
    "- CARDGIFT -->   Number of lifetime gifts to card promotions to date\n",
    "- MINRAMNT -->   Dollar amount of smallest gift to date\n",
    "- MAXRAMNT -->   Dollar amount of largest gift to date\n",
    "\n",
    "\n",
    "### Data to generate/keep\n",
    "- AVGGIFT - Average donated amount\n",
    "- NGIFTALL / NUMPROM - Success percentage"
   ],
   "cell_type": "markdown",
   "metadata": {}
  },
  {
   "cell_type": "code",
   "execution_count": null,
   "metadata": {},
   "outputs": [],
   "source": [
    "selected_features = [\n",
    "    'RAMNTALL',\n",
    "    'NGIFTALL',\n",
    "    'AVGGIFT',\n",
    "    'NUMPROM',\n",
    "    'NUMPRM12',\n",
    "    'CARDPROM',\n",
    "    'CARDPM12',\n",
    "    'CARDGIFT', \n",
    "    'MINRAMNT', \n",
    "    'MAXRAMNT',\n",
    "    'LASTGIFT', \n",
    "    'TIMELAG', \n",
    "]"
   ]
  },
  {
   "source": [
    "## <br/>\n",
    "## <br/>\n",
    "\n",
    "### Checking DTypes and fix case necessary"
   ],
   "cell_type": "markdown",
   "metadata": {}
  },
  {
   "cell_type": "code",
   "execution_count": null,
   "metadata": {},
   "outputs": [],
   "source": [
    "df[selected_features].dtypes"
   ]
  },
  {
   "cell_type": "code",
   "execution_count": null,
   "metadata": {},
   "outputs": [],
   "source": [
    "#fix dtypes\n",
    "df['RAMNTALL'] = df['RAMNTALL'].astype('int64')"
   ]
  },
  {
   "cell_type": "code",
   "execution_count": null,
   "metadata": {},
   "outputs": [],
   "source": [
    "df[selected_features].head()"
   ]
  },
  {
   "source": [
    "## <br/>\n",
    "## <br/>\n",
    "## Data Engineering"
   ],
   "cell_type": "markdown",
   "metadata": {}
  },
  {
   "cell_type": "code",
   "execution_count": null,
   "metadata": {},
   "outputs": [],
   "source": [
    "modified_df = df[selected_features].copy()"
   ]
  },
  {
   "source": [
    "### Applying Log10 on filtered features"
   ],
   "cell_type": "markdown",
   "metadata": {}
  },
  {
   "cell_type": "code",
   "execution_count": null,
   "metadata": {},
   "outputs": [],
   "source": [
    "def log10_cheat(n):\n",
    "    if n < 1: \n",
    "        return -1\n",
    "        \n",
    "    elif n >=1: \n",
    "        return(np.log10(n))"
   ]
  },
  {
   "cell_type": "code",
   "execution_count": null,
   "metadata": {},
   "outputs": [],
   "source": [
    "for column in selected_features: \n",
    "    modified_df[column] = modified_df[column].apply(lambda x: log10_cheat(x))\n",
    "    \n",
    "    #Plotting Before + After\n",
    "    fig, ax = plt.subplots(2,1, figsize=(10,10))\n",
    "    fig.suptitle('Before and after applying log10')\n",
    "    sns.boxplot(df[column], ax = ax[0], color = 'red')\n",
    "    sns.boxplot(modified_df[column], ax = ax[1], color ='blue')\n",
    "    \n",
    "    fig.show()"
   ]
  },
  {
   "source": [
    "## <br/>\n",
    "## <br/>\n",
    "### Generating Time Based columns"
   ],
   "cell_type": "markdown",
   "metadata": {}
  },
  {
   "source": [
    "# </br>\n",
    "#### Time between minimum and maximum donation"
   ],
   "cell_type": "markdown",
   "metadata": {}
  },
  {
   "cell_type": "code",
   "execution_count": null,
   "metadata": {},
   "outputs": [],
   "source": [
    "MINRDATE_datetime = pd.to_datetime(df['MINRDATE'], infer_datetime_format=True)\n",
    "MAXRDATE_datetime = pd.to_datetime(df['MAXRDATE'], infer_datetime_format=True)\n",
    "\n",
    "modified_df['minmax_time_delta'] = (MINRDATE_datetime - MAXRDATE_datetime).dt.days"
   ]
  },
  {
   "source": [
    "# </br>\n",
    "#### Time between last donation and the closest day to present"
   ],
   "cell_type": "markdown",
   "metadata": {}
  },
  {
   "cell_type": "code",
   "execution_count": null,
   "metadata": {},
   "outputs": [],
   "source": [
    "last_datetime = pd.to_datetime('2017-06-01', infer_datetime_format=True)"
   ]
  },
  {
   "cell_type": "code",
   "execution_count": null,
   "metadata": {},
   "outputs": [],
   "source": [
    "last_dates = pd.to_datetime(df['LASTDATE'], infer_datetime_format=True)\n",
    "delta = last_dates.apply(lambda date: (last_datetime - date).days )\n",
    "\n",
    "modified_df['last_gift'] = delta.apply(lambda x: log10_cheat(x))"
   ]
  },
  {
   "source": [
    "# </br>\n",
    "#### Customer Loyalty to PVA"
   ],
   "cell_type": "markdown",
   "metadata": {}
  },
  {
   "cell_type": "code",
   "execution_count": null,
   "metadata": {},
   "outputs": [],
   "source": [
    "first_dates = pd.to_datetime(df['FISTDATE'], infer_datetime_format=True)\n",
    "delta = first_dates.apply(lambda date: (last_datetime - date).days)"
   ]
  },
  {
   "cell_type": "code",
   "execution_count": null,
   "metadata": {},
   "outputs": [],
   "source": [
    "modified_df['customer_age'] = delta.apply(lambda x: log10_cheat(x))"
   ]
  },
  {
   "source": [
    "## </br>\n",
    "## </br>\n",
    "### Generating Money based columns"
   ],
   "cell_type": "markdown",
   "metadata": {}
  },
  {
   "cell_type": "code",
   "execution_count": null,
   "metadata": {},
   "outputs": [],
   "source": [
    "def log2_cheat(n):\n",
    "    \n",
    "    if n < 1: \n",
    "        return -1\n",
    "\n",
    "    elif n >=1: \n",
    "        return(np.log2(n))"
   ]
  },
  {
   "cell_type": "code",
   "execution_count": null,
   "metadata": {},
   "outputs": [],
   "source": [
    "modified_df['maxmin_dollar_diff'] = modified_df['MAXRAMNT'] - modified_df['MINRAMNT']\n",
    "modified_df['maxmin_dollar_diff'] = modified_df['maxmin_dollar_diff'].apply(lambda x: log2_cheat(x))"
   ]
  },
  {
   "source": [
    "## </br>\n",
    "## </br>\n",
    "\n",
    "### Success Percentage (Number donation vs number of promotions targeted)"
   ],
   "cell_type": "markdown",
   "metadata": {}
  },
  {
   "cell_type": "code",
   "execution_count": null,
   "metadata": {},
   "outputs": [],
   "source": [
    "# NGIFTALL / NUMPROM - Success percentage\n",
    "def promotions_conversion_rate(row): \n",
    "    \n",
    "    if row['NUMPROM'] != 0: \n",
    "        val =row['NGIFTALL'] / row['NUMPROM']\n",
    "    else:\n",
    "        val = 0 \n",
    "        \n",
    "    return val \n",
    "\n",
    "\n",
    "modified_df['SUCCESS_PCT'] = df.apply(promotions_conversion_rate, axis = 1)\n",
    "modified_df['SUCCESS_PCT'].head()"
   ]
  },
  {
   "source": [
    "## </br>\n",
    "## </br>\n",
    "\n",
    "### Percentage Time Lapsed (Column that contains percentage of time passed on a certain category)"
   ],
   "cell_type": "markdown",
   "metadata": {}
  },
  {
   "cell_type": "code",
   "execution_count": null,
   "metadata": {},
   "outputs": [],
   "source": [
    "import re\n",
    "\n",
    "def get_percentage_as_category(source_dataframe, target_df, category):\n",
    "    re_expression = re.compile('^RFA_\\d{1,2}$')\n",
    "\n",
    "    rfa_columns = [column for column in source_dataframe.columns.values if re_expression.match(column)]\n",
    "\n",
    "    rfas = source_dataframe[rfa_columns].copy()\n",
    "\n",
    "    rfas = rfas.applymap(lambda val: 1 if val[0] == category else 0)\n",
    "    \n",
    "    target_df['PCT_TIME_LAPSED_%s' % category] =  rfas.sum(axis=1) / df['NUMPROM']\n",
    "\n",
    "    return target_df"
   ]
  },
  {
   "cell_type": "code",
   "execution_count": null,
   "metadata": {},
   "outputs": [],
   "source": [
    "categories = ['F','N','A','L','I','S']"
   ]
  },
  {
   "cell_type": "code",
   "execution_count": null,
   "metadata": {},
   "outputs": [],
   "source": [
    "for category in categories:\n",
    "    modified_df = get_percentage_as_category(df, modified_df, category)\n",
    "    \n",
    "modified_df.head()"
   ]
  },
  {
   "source": [
    "## </br>\n",
    "## </br>\n",
    "\n",
    "## Creating columns from *RAMNT* and *RFA* features"
   ],
   "cell_type": "markdown",
   "metadata": {}
  },
  {
   "source": [
    "re_expression = re.compile('^RFA_\\d{1,2}$')\n",
    "rfa_columns = [column for column in df.columns.values if re_expression.match(column)]"
   ],
   "cell_type": "code",
   "metadata": {},
   "execution_count": null,
   "outputs": []
  },
  {
   "cell_type": "code",
   "execution_count": null,
   "metadata": {},
   "outputs": [],
   "source": [
    "re_expression = re.compile('^RAMNT_\\d{1,2}$')\n",
    "ramnt_columns = [column for column in df.columns.values if re_expression.match(column)]"
   ]
  },
  {
   "source": [
    "## </br>\n",
    "\n",
    "### Variance on donation value"
   ],
   "cell_type": "markdown",
   "metadata": {}
  },
  {
   "cell_type": "code",
   "execution_count": null,
   "metadata": {},
   "outputs": [],
   "source": [
    "#Calculate variance\n",
    "modified_df['GIFT_VAR'] = df[ramnt_columns].var(axis=1)\n",
    "#Fill NaN's\n",
    "modified_df['GIFT_VAR'].fillna(0, inplace=True)\n",
    "#Apply log10\n",
    "modified_df['GIFT_VAR'] = modified_df['GIFT_VAR'].apply(lambda x: log10_cheat(x))\n",
    "\n",
    "modified_df['GIFT_VAR'].head()"
   ]
  },
  {
   "source": [
    "## </br>\n",
    "## </br>\n",
    "\n",
    "## Creating Wealth and County features"
   ],
   "cell_type": "markdown",
   "metadata": {}
  },
  {
   "source": [
    "#### GEOCODE"
   ],
   "cell_type": "markdown",
   "metadata": {}
  },
  {
   "cell_type": "code",
   "execution_count": null,
   "metadata": {},
   "outputs": [],
   "source": [
    "temp_df = df[['GEOCODE','GEOCODE2']].copy()\n",
    "\n",
    "#Re-map values\n",
    "temp_df['GEOCODE2'].replace({'A':1, 'B':2, 'C':3, 'D':4, ' ': np.NaN}, inplace=True)\n",
    "temp_df['GEOCODE'] = temp_df['GEOCODE'].apply(lambda x: int(x) if x != ' ' else np.NaN)\n",
    "\n",
    "#Choosing maximum value between the 2 features\n",
    "modified_df['county_size'] = temp_df.max(axis=1)\n",
    "del temp_df\n",
    "\n",
    "modified_df['county_size'].head()"
   ]
  },
  {
   "source": [
    "#### WEALTH"
   ],
   "cell_type": "markdown",
   "metadata": {}
  },
  {
   "cell_type": "code",
   "execution_count": null,
   "metadata": {},
   "outputs": [],
   "source": [
    "print(\"WEALTH1 count:\", df['WEALTH1'].count())\n",
    "print(\"WEALTH1 NaN:\",df['WEALTH1'].isna().sum())\n",
    "\n",
    "print(\"\\nWEALTH2 count:\", df['WEALTH2'].count())\n",
    "print(\"WEALTH2 NaN:\",df['WEALTH2'].isna().sum())"
   ]
  },
  {
   "cell_type": "code",
   "execution_count": null,
   "metadata": {},
   "outputs": [],
   "source": [
    "print(\"WEALTH1 scale:\", df.WEALTH1.max(), df.WEALTH1.min())\n",
    "\n",
    "print(\"\\nWEALTH2 count:\", df.WEALTH2.max(), df.WEALTH2.min())"
   ]
  },
  {
   "cell_type": "code",
   "execution_count": null,
   "metadata": {},
   "outputs": [],
   "source": [
    "temp_df = df[['WEALTH1','WEALTH2']].copy()\n",
    "\n",
    "#calculate nr rows with NaN after merge\n",
    "pct_non_NaN = temp_df.mean(axis=1).count() / temp_df.shape[0]\n",
    "print('Percentage of columns with value after merge: %1.2f%%' % (pct_non_NaN *100))\n",
    "\n",
    "#Merge by maximum value\n",
    "modified_df['WEALTH'] = temp_df.max(axis=1)\n",
    "del temp_df\n",
    "\n",
    "modified_df['WEALTH'].head()"
   ]
  },
  {
   "source": [
    "## </br>\n",
    "## </br>\n",
    "\n",
    "## Adding *INCOME*, *GENDER*, *AGE* & *HOMEOWNR*"
   ],
   "cell_type": "markdown",
   "metadata": {}
  },
  {
   "cell_type": "code",
   "execution_count": null,
   "metadata": {},
   "outputs": [],
   "source": [
    "temp_df = df[['GENDER','INCOME','HOMEOWNR']].copy()"
   ]
  },
  {
   "source": [
    "#### HOMEOWNR"
   ],
   "cell_type": "markdown",
   "metadata": {}
  },
  {
   "cell_type": "code",
   "execution_count": null,
   "metadata": {},
   "outputs": [],
   "source": [
    "#Re-map\n",
    "temp_df.HOMEOWNR.replace(['',' '], 'U', inplace=True)\n",
    "temp_df.HOMEOWNR.replace(['U'], 0, inplace=True)\n",
    "temp_df.HOMEOWNR.replace(['H'], 1, inplace=True)"
   ]
  },
  {
   "source": [
    "#### GENDER"
   ],
   "cell_type": "markdown",
   "metadata": {}
  },
  {
   "cell_type": "code",
   "execution_count": null,
   "metadata": {},
   "outputs": [],
   "source": [
    "#Re-map\n",
    "temp_df.GENDER.replace(['A','C'],'J', inplace=True)\n",
    "temp_df.GENDER.replace(' ','U', inplace=True)\n",
    "\n",
    "#Creating binary columns and appending\n",
    "gender_dummies = pd.get_dummies(temp_df.GENDER, prefix='GENDER')\n",
    "temp_df = temp_df.join(gender_dummies)\n",
    "\n",
    "#Cleaning\n",
    "del gender_dummies\n",
    "temp_df.drop(columns='GENDER', inplace=True)"
   ]
  },
  {
   "cell_type": "code",
   "execution_count": null,
   "metadata": {},
   "outputs": [],
   "source": [
    "temp_df.head()"
   ]
  },
  {
   "cell_type": "code",
   "execution_count": null,
   "metadata": {},
   "outputs": [],
   "source": [
    "#Concatenate new columns\n",
    "modified_df = pd.concat([modified_df, temp_df], axis=1)\n",
    "del temp_df\n",
    "\n",
    "modified_df.head()"
   ]
  },
  {
   "source": [
    "#### AGE"
   ],
   "cell_type": "markdown",
   "metadata": {}
  },
  {
   "cell_type": "code",
   "execution_count": null,
   "metadata": {},
   "outputs": [],
   "source": [
    "df['DOB'] = pd.to_datetime(df['DOB'])\n",
    "df['DOB_year'] = df['DOB'].apply(lambda x: x.year if x!= None else 0)\n",
    "df['DOB_year']\n",
    "\n",
    "modified_df['age'] = df['DOB_year']\\\n",
    "    .apply(lambda x: 2016-x if x != None else None)\\\n",
    "    .apply(lambda x: log2_cheat(x))\n",
    "\n",
    "modified_df['age'].head()"
   ]
  },
  {
   "source": [
    "## </br>\n",
    "## </br>\n",
    "\n",
    "## Adding children features"
   ],
   "cell_type": "markdown",
   "metadata": {}
  },
  {
   "cell_type": "code",
   "execution_count": null,
   "metadata": {},
   "outputs": [],
   "source": [
    "children_columns = [\n",
    "    'CHILD03',\n",
    "    'CHILD07',\n",
    "    'CHILD12',\n",
    "    'CHILD18',\n",
    "    'NUMCHLD'\n",
    "]"
   ]
  },
  {
   "cell_type": "code",
   "execution_count": null,
   "metadata": {},
   "outputs": [],
   "source": [
    "children_df = df[children_columns].copy()\n",
    "children_df.head()"
   ]
  },
  {
   "cell_type": "code",
   "execution_count": null,
   "metadata": {},
   "outputs": [],
   "source": [
    "#Re-map values\n",
    "children_df.replace(' ', 0, inplace=True)\n",
    "children_df.replace('', 0, inplace=True)\n",
    "children_df.replace(['M','F','B'], 1, inplace=True)\n",
    "children_df.fillna(0, inplace=True)\n",
    "\n",
    "#Changing DType\n",
    "children_df = children_df.astype('int64')\n",
    "children_df.head()"
   ]
  },
  {
   "cell_type": "code",
   "execution_count": null,
   "metadata": {},
   "outputs": [],
   "source": [
    "#Creating column with SUM of other cols\n",
    "children_df['SUM_ageGap_columns'] = children_df[children_columns[:-1]].sum(axis=1)\n",
    "children_df.drop(columns=children_columns[:-1], inplace=True)\n",
    "\n",
    "children_df.head()"
   ]
  },
  {
   "cell_type": "code",
   "execution_count": null,
   "metadata": {},
   "outputs": [],
   "source": [
    "modified_df['CHILDREN'] = children_df.max(axis=1)\n",
    "del children_df\n",
    "\n",
    "modified_df.head()"
   ]
  },
  {
   "source": [
    "## </br>\n",
    "## </br>\n",
    "\n",
    "## Adding Neighborhood Socio Economic Status"
   ],
   "cell_type": "markdown",
   "metadata": {}
  },
  {
   "cell_type": "code",
   "execution_count": null,
   "metadata": {},
   "outputs": [],
   "source": [
    "domain_mode_0 = df['DOMAIN'].mode()[0][0]\n",
    "domain_mode_1 = int(df['DOMAIN'].mode()[0][1])\n",
    "\n",
    "domain_mode_0, domain_mode_1"
   ]
  },
  {
   "cell_type": "code",
   "execution_count": null,
   "metadata": {},
   "outputs": [],
   "source": [
    "socio_economic_status = df['DOMAIN'].apply(lambda x : int(x[1]) if x != ' ' else domain_mode_1)\n",
    "socio_economic_status.head()"
   ]
  },
  {
   "cell_type": "code",
   "execution_count": null,
   "metadata": {},
   "outputs": [],
   "source": [
    "rurality = df['DOMAIN'].apply(lambda x : x[0] if x != ' ' else domain_mode_0)\n",
    "\n",
    "#Re-map\n",
    "mapping = {\n",
    "    'U':0,\n",
    "    'C':1,\n",
    "    'S':2, \n",
    "    'T':3,\n",
    "    'R':4\n",
    "}\n",
    "rurality.replace(mapping, inplace=True)\n",
    "rurality.head()"
   ]
  },
  {
   "cell_type": "code",
   "execution_count": null,
   "metadata": {},
   "outputs": [],
   "source": [
    "socio_economic_status.shape, rurality.shape"
   ]
  },
  {
   "cell_type": "code",
   "execution_count": null,
   "metadata": {},
   "outputs": [],
   "source": [
    "modified_df['ses'] = socio_economic_status\n",
    "modified_df['rurality'] = rurality\n",
    "\n",
    "modified_df[['rurality','ses']].head()"
   ]
  },
  {
   "source": [
    "## </br>\n",
    "## </br>\n",
    "\n",
    "## Adding some extra columns"
   ],
   "cell_type": "markdown",
   "metadata": {}
  },
  {
   "cell_type": "code",
   "execution_count": null,
   "metadata": {},
   "outputs": [],
   "source": [
    "modified_df['RECINHSE'] = df['RECINHSE'].apply(lambda x : 1 if x == 'X' else 0)"
   ]
  },
  {
   "cell_type": "code",
   "execution_count": null,
   "metadata": {},
   "outputs": [],
   "source": [
    "modified_df['RECP3'] = df['RECP3'].apply(lambda x : 1 if x == 'X' else 0)"
   ]
  },
  {
   "cell_type": "code",
   "execution_count": null,
   "metadata": {},
   "outputs": [],
   "source": [
    "modified_df['RECPGVG'] = df['RECPGVG'].apply(lambda x : 1 if x == 'X' else 0)"
   ]
  },
  {
   "cell_type": "code",
   "execution_count": null,
   "metadata": {},
   "outputs": [],
   "source": [
    "modified_df['RECSWEEP'] = df['RECSWEEP'].apply(lambda x : 1 if x == 'X' else 0)"
   ]
  },
  {
   "cell_type": "code",
   "execution_count": null,
   "metadata": {},
   "outputs": [],
   "source": [
    "modified_df['HIT'] = df['HIT'].apply(lambda x : 1 if x == 'X' else 0).apply(lambda x: log2_cheat(x))"
   ]
  },
  {
   "cell_type": "code",
   "execution_count": null,
   "metadata": {},
   "outputs": [],
   "source": [
    "modified_df['MAJOR'] = df['MAJOR'].apply(lambda x : 1 if x == 'X' else 0)"
   ]
  },
  {
   "source": [
    "## </br>\n",
    "## </br>\n",
    "\n",
    "## Removing NaN\n",
    "Since the dimensionality of the dataframe is substantial, it was decided to drop every row with NaN cells, since it's preferable not to impute values"
   ],
   "cell_type": "markdown",
   "metadata": {}
  },
  {
   "cell_type": "code",
   "execution_count": null,
   "metadata": {},
   "outputs": [],
   "source": [
    "modified_df.shape"
   ]
  },
  {
   "cell_type": "code",
   "execution_count": null,
   "metadata": {},
   "outputs": [],
   "source": [
    "modified_df.isna().sum()"
   ]
  },
  {
   "cell_type": "code",
   "execution_count": null,
   "metadata": {},
   "outputs": [],
   "source": [
    "modified_df.dropna(inplace=True)\n",
    "modified_df.shape"
   ]
  },
  {
   "source": [
    "## </br>\n",
    "## </br>\n",
    "\n",
    "## Checking correlation between created/selected features"
   ],
   "cell_type": "markdown",
   "metadata": {}
  },
  {
   "cell_type": "code",
   "execution_count": null,
   "metadata": {},
   "outputs": [],
   "source": [
    "corr = modified_df.corr()\n",
    "corr = corr[np.abs(corr) > 0.45]\n",
    "\n",
    "\n",
    "plt.figure(figsize=(30,30))\n",
    "sns.heatmap(corr, annot=True)\n",
    "plt.show()"
   ]
  },
  {
   "source": [
    "## </br>\n",
    "## </br>\n",
    "\n",
    "## Save final Dataframe into CSV"
   ],
   "cell_type": "markdown",
   "metadata": {}
  },
  {
   "cell_type": "code",
   "execution_count": null,
   "metadata": {},
   "outputs": [],
   "source": [
    "modified_df.head()"
   ]
  },
  {
   "cell_type": "code",
   "execution_count": null,
   "metadata": {},
   "outputs": [],
   "source": [
    "modified_df.to_csv('../Exports/CSV/other_columns.csv')"
   ]
  }
 ]
}