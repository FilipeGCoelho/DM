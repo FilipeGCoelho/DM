{
 "metadata": {
  "language_info": {
   "codemirror_mode": {
    "name": "ipython",
    "version": 3
   },
   "file_extension": ".py",
   "mimetype": "text/x-python",
   "name": "python",
   "nbconvert_exporter": "python",
   "pygments_lexer": "ipython3",
   "version": "3.8.3-final"
  },
  "orig_nbformat": 2,
  "kernelspec": {
   "name": "python3",
   "display_name": "Python 3"
  }
 },
 "nbformat": 4,
 "nbformat_minor": 2,
 "cells": [
  {
   "cell_type": "code",
   "execution_count": 6,
   "metadata": {},
   "outputs": [],
   "source": [
    "import pandas as pd\n",
    "import re"
   ]
  },
  {
   "cell_type": "code",
   "execution_count": 5,
   "metadata": {},
   "outputs": [],
   "source": [
    "df = pd.read_csv('../Data/donors.csv', low_memory=False)"
   ]
  },
  {
   "source": [
    "## ADATE SELECTION (PROMOTION START)"
   ],
   "cell_type": "markdown",
   "metadata": {}
  },
  {
   "cell_type": "code",
   "execution_count": 8,
   "metadata": {},
   "outputs": [],
   "source": [
    "adate_re = re.compile(pattern='^ADATE_\\d{1,2}')"
   ]
  },
  {
   "cell_type": "code",
   "execution_count": 11,
   "metadata": {},
   "outputs": [
    {
     "output_type": "execute_result",
     "data": {
      "text/plain": [
       "          ADATE_2     ADATE_3     ADATE_4     ADATE_5     ADATE_6     ADATE_7  \\\n",
       "0      2017-06-01  2016-06-01  2016-04-01  2016-04-01  2016-03-01  2016-02-01   \n",
       "1      2017-06-01  2016-06-01  2016-04-01  2016-04-01  2016-03-01  2016-02-01   \n",
       "2      2017-06-01  2016-06-01  2016-04-01  2016-04-01  2016-03-01  2016-02-01   \n",
       "3      2017-06-01  2016-06-01  2016-04-01  2016-04-01  2016-03-01  2016-02-01   \n",
       "4      2017-06-01  2016-06-01  2016-04-01  2016-04-01  2016-03-01  2015-12-01   \n",
       "...           ...         ...         ...         ...         ...         ...   \n",
       "95407  2017-06-01  2016-06-01  2016-04-01         NaN  2016-03-01  2016-01-01   \n",
       "95408  2017-06-01         NaN         NaN         NaN         NaN  2016-01-01   \n",
       "95409  2017-06-01  2016-06-01  2016-04-01  2016-04-01  2016-03-01         NaN   \n",
       "95410  2017-06-01  2016-06-01  2016-09-01  2016-04-01  2016-03-01  2016-02-01   \n",
       "95411  2017-06-01  2016-06-01  2016-04-01  2016-04-01  2016-03-01  2016-02-01   \n",
       "\n",
       "          ADATE_8     ADATE_9    ADATE_10    ADATE_11  ...    ADATE_15  \\\n",
       "0      2016-01-01  2015-11-01  2015-10-01  2015-10-01  ...  2015-04-01   \n",
       "1      2016-01-01  2015-11-01  2015-10-01  2015-10-01  ...         NaN   \n",
       "2      2016-01-01  2015-11-01         NaN  2015-10-01  ...  2015-04-01   \n",
       "3      2016-01-01  2015-11-01         NaN  2015-10-01  ...  2015-04-01   \n",
       "4      2016-01-01  2015-11-01  2015-10-01  2015-09-01  ...         NaN   \n",
       "...           ...         ...         ...         ...  ...         ...   \n",
       "95407  2015-12-01         NaN         NaN         NaN  ...         NaN   \n",
       "95408  2016-01-01         NaN         NaN         NaN  ...         NaN   \n",
       "95409  2016-01-01  2015-11-01  2015-10-01  2015-10-01  ...  2015-04-01   \n",
       "95410  2016-01-01  2015-11-01  2015-10-01  2015-10-01  ...  2015-04-01   \n",
       "95411  2016-01-01  2015-11-01  2015-11-01  2015-11-01  ...  2015-04-01   \n",
       "\n",
       "         ADATE_16    ADATE_17    ADATE_18    ADATE_19    ADATE_20    ADATE_21  \\\n",
       "0      2015-03-01  2015-02-01  2015-01-01  2014-11-01  2014-11-01  2014-10-01   \n",
       "1      2015-03-01         NaN         NaN  2014-11-01  2014-11-01  2014-10-01   \n",
       "2      2015-03-01         NaN  2015-01-01  2014-11-01         NaN         NaN   \n",
       "3      2015-03-01  2015-02-01  2015-01-01  2014-11-01  2014-11-01  2014-10-01   \n",
       "4      2015-03-01  2015-02-01  2014-12-01  2014-11-01  2014-11-01  2014-10-01   \n",
       "...           ...         ...         ...         ...         ...         ...   \n",
       "95407         NaN         NaN         NaN         NaN         NaN         NaN   \n",
       "95408         NaN         NaN         NaN         NaN         NaN         NaN   \n",
       "95409  2015-03-01         NaN  2015-01-01         NaN         NaN  2014-09-01   \n",
       "95410  2015-03-01  2015-02-01  2015-01-01  2014-11-01  2014-11-01  2014-10-01   \n",
       "95411  2015-03-01  2015-02-01  2015-01-01  2014-11-01  2014-11-01  2014-10-01   \n",
       "\n",
       "         ADATE_22    ADATE_23    ADATE_24  \n",
       "0      2014-09-01  2014-07-01  2014-06-01  \n",
       "1      2014-09-01         NaN  2014-06-01  \n",
       "2      2014-09-01  2014-07-01  2014-06-01  \n",
       "3      2014-09-01         NaN         NaN  \n",
       "4      2015-06-01  2014-07-01  2014-06-01  \n",
       "...           ...         ...         ...  \n",
       "95407         NaN         NaN         NaN  \n",
       "95408         NaN         NaN         NaN  \n",
       "95409  2014-08-01         NaN         NaN  \n",
       "95410  2014-09-01  2014-07-01  2014-06-01  \n",
       "95411  2014-09-01  2014-07-01  2014-06-01  \n",
       "\n",
       "[95412 rows x 23 columns]"
      ],
      "text/html": "<div>\n<style scoped>\n    .dataframe tbody tr th:only-of-type {\n        vertical-align: middle;\n    }\n\n    .dataframe tbody tr th {\n        vertical-align: top;\n    }\n\n    .dataframe thead th {\n        text-align: right;\n    }\n</style>\n<table border=\"1\" class=\"dataframe\">\n  <thead>\n    <tr style=\"text-align: right;\">\n      <th></th>\n      <th>ADATE_2</th>\n      <th>ADATE_3</th>\n      <th>ADATE_4</th>\n      <th>ADATE_5</th>\n      <th>ADATE_6</th>\n      <th>ADATE_7</th>\n      <th>ADATE_8</th>\n      <th>ADATE_9</th>\n      <th>ADATE_10</th>\n      <th>ADATE_11</th>\n      <th>...</th>\n      <th>ADATE_15</th>\n      <th>ADATE_16</th>\n      <th>ADATE_17</th>\n      <th>ADATE_18</th>\n      <th>ADATE_19</th>\n      <th>ADATE_20</th>\n      <th>ADATE_21</th>\n      <th>ADATE_22</th>\n      <th>ADATE_23</th>\n      <th>ADATE_24</th>\n    </tr>\n  </thead>\n  <tbody>\n    <tr>\n      <th>0</th>\n      <td>2017-06-01</td>\n      <td>2016-06-01</td>\n      <td>2016-04-01</td>\n      <td>2016-04-01</td>\n      <td>2016-03-01</td>\n      <td>2016-02-01</td>\n      <td>2016-01-01</td>\n      <td>2015-11-01</td>\n      <td>2015-10-01</td>\n      <td>2015-10-01</td>\n      <td>...</td>\n      <td>2015-04-01</td>\n      <td>2015-03-01</td>\n      <td>2015-02-01</td>\n      <td>2015-01-01</td>\n      <td>2014-11-01</td>\n      <td>2014-11-01</td>\n      <td>2014-10-01</td>\n      <td>2014-09-01</td>\n      <td>2014-07-01</td>\n      <td>2014-06-01</td>\n    </tr>\n    <tr>\n      <th>1</th>\n      <td>2017-06-01</td>\n      <td>2016-06-01</td>\n      <td>2016-04-01</td>\n      <td>2016-04-01</td>\n      <td>2016-03-01</td>\n      <td>2016-02-01</td>\n      <td>2016-01-01</td>\n      <td>2015-11-01</td>\n      <td>2015-10-01</td>\n      <td>2015-10-01</td>\n      <td>...</td>\n      <td>NaN</td>\n      <td>2015-03-01</td>\n      <td>NaN</td>\n      <td>NaN</td>\n      <td>2014-11-01</td>\n      <td>2014-11-01</td>\n      <td>2014-10-01</td>\n      <td>2014-09-01</td>\n      <td>NaN</td>\n      <td>2014-06-01</td>\n    </tr>\n    <tr>\n      <th>2</th>\n      <td>2017-06-01</td>\n      <td>2016-06-01</td>\n      <td>2016-04-01</td>\n      <td>2016-04-01</td>\n      <td>2016-03-01</td>\n      <td>2016-02-01</td>\n      <td>2016-01-01</td>\n      <td>2015-11-01</td>\n      <td>NaN</td>\n      <td>2015-10-01</td>\n      <td>...</td>\n      <td>2015-04-01</td>\n      <td>2015-03-01</td>\n      <td>NaN</td>\n      <td>2015-01-01</td>\n      <td>2014-11-01</td>\n      <td>NaN</td>\n      <td>NaN</td>\n      <td>2014-09-01</td>\n      <td>2014-07-01</td>\n      <td>2014-06-01</td>\n    </tr>\n    <tr>\n      <th>3</th>\n      <td>2017-06-01</td>\n      <td>2016-06-01</td>\n      <td>2016-04-01</td>\n      <td>2016-04-01</td>\n      <td>2016-03-01</td>\n      <td>2016-02-01</td>\n      <td>2016-01-01</td>\n      <td>2015-11-01</td>\n      <td>NaN</td>\n      <td>2015-10-01</td>\n      <td>...</td>\n      <td>2015-04-01</td>\n      <td>2015-03-01</td>\n      <td>2015-02-01</td>\n      <td>2015-01-01</td>\n      <td>2014-11-01</td>\n      <td>2014-11-01</td>\n      <td>2014-10-01</td>\n      <td>2014-09-01</td>\n      <td>NaN</td>\n      <td>NaN</td>\n    </tr>\n    <tr>\n      <th>4</th>\n      <td>2017-06-01</td>\n      <td>2016-06-01</td>\n      <td>2016-04-01</td>\n      <td>2016-04-01</td>\n      <td>2016-03-01</td>\n      <td>2015-12-01</td>\n      <td>2016-01-01</td>\n      <td>2015-11-01</td>\n      <td>2015-10-01</td>\n      <td>2015-09-01</td>\n      <td>...</td>\n      <td>NaN</td>\n      <td>2015-03-01</td>\n      <td>2015-02-01</td>\n      <td>2014-12-01</td>\n      <td>2014-11-01</td>\n      <td>2014-11-01</td>\n      <td>2014-10-01</td>\n      <td>2015-06-01</td>\n      <td>2014-07-01</td>\n      <td>2014-06-01</td>\n    </tr>\n    <tr>\n      <th>...</th>\n      <td>...</td>\n      <td>...</td>\n      <td>...</td>\n      <td>...</td>\n      <td>...</td>\n      <td>...</td>\n      <td>...</td>\n      <td>...</td>\n      <td>...</td>\n      <td>...</td>\n      <td>...</td>\n      <td>...</td>\n      <td>...</td>\n      <td>...</td>\n      <td>...</td>\n      <td>...</td>\n      <td>...</td>\n      <td>...</td>\n      <td>...</td>\n      <td>...</td>\n      <td>...</td>\n    </tr>\n    <tr>\n      <th>95407</th>\n      <td>2017-06-01</td>\n      <td>2016-06-01</td>\n      <td>2016-04-01</td>\n      <td>NaN</td>\n      <td>2016-03-01</td>\n      <td>2016-01-01</td>\n      <td>2015-12-01</td>\n      <td>NaN</td>\n      <td>NaN</td>\n      <td>NaN</td>\n      <td>...</td>\n      <td>NaN</td>\n      <td>NaN</td>\n      <td>NaN</td>\n      <td>NaN</td>\n      <td>NaN</td>\n      <td>NaN</td>\n      <td>NaN</td>\n      <td>NaN</td>\n      <td>NaN</td>\n      <td>NaN</td>\n    </tr>\n    <tr>\n      <th>95408</th>\n      <td>2017-06-01</td>\n      <td>NaN</td>\n      <td>NaN</td>\n      <td>NaN</td>\n      <td>NaN</td>\n      <td>2016-01-01</td>\n      <td>2016-01-01</td>\n      <td>NaN</td>\n      <td>NaN</td>\n      <td>NaN</td>\n      <td>...</td>\n      <td>NaN</td>\n      <td>NaN</td>\n      <td>NaN</td>\n      <td>NaN</td>\n      <td>NaN</td>\n      <td>NaN</td>\n      <td>NaN</td>\n      <td>NaN</td>\n      <td>NaN</td>\n      <td>NaN</td>\n    </tr>\n    <tr>\n      <th>95409</th>\n      <td>2017-06-01</td>\n      <td>2016-06-01</td>\n      <td>2016-04-01</td>\n      <td>2016-04-01</td>\n      <td>2016-03-01</td>\n      <td>NaN</td>\n      <td>2016-01-01</td>\n      <td>2015-11-01</td>\n      <td>2015-10-01</td>\n      <td>2015-10-01</td>\n      <td>...</td>\n      <td>2015-04-01</td>\n      <td>2015-03-01</td>\n      <td>NaN</td>\n      <td>2015-01-01</td>\n      <td>NaN</td>\n      <td>NaN</td>\n      <td>2014-09-01</td>\n      <td>2014-08-01</td>\n      <td>NaN</td>\n      <td>NaN</td>\n    </tr>\n    <tr>\n      <th>95410</th>\n      <td>2017-06-01</td>\n      <td>2016-06-01</td>\n      <td>2016-09-01</td>\n      <td>2016-04-01</td>\n      <td>2016-03-01</td>\n      <td>2016-02-01</td>\n      <td>2016-01-01</td>\n      <td>2015-11-01</td>\n      <td>2015-10-01</td>\n      <td>2015-10-01</td>\n      <td>...</td>\n      <td>2015-04-01</td>\n      <td>2015-03-01</td>\n      <td>2015-02-01</td>\n      <td>2015-01-01</td>\n      <td>2014-11-01</td>\n      <td>2014-11-01</td>\n      <td>2014-10-01</td>\n      <td>2014-09-01</td>\n      <td>2014-07-01</td>\n      <td>2014-06-01</td>\n    </tr>\n    <tr>\n      <th>95411</th>\n      <td>2017-06-01</td>\n      <td>2016-06-01</td>\n      <td>2016-04-01</td>\n      <td>2016-04-01</td>\n      <td>2016-03-01</td>\n      <td>2016-02-01</td>\n      <td>2016-01-01</td>\n      <td>2015-11-01</td>\n      <td>2015-11-01</td>\n      <td>2015-11-01</td>\n      <td>...</td>\n      <td>2015-04-01</td>\n      <td>2015-03-01</td>\n      <td>2015-02-01</td>\n      <td>2015-01-01</td>\n      <td>2014-11-01</td>\n      <td>2014-11-01</td>\n      <td>2014-10-01</td>\n      <td>2014-09-01</td>\n      <td>2014-07-01</td>\n      <td>2014-06-01</td>\n    </tr>\n  </tbody>\n</table>\n<p>95412 rows × 23 columns</p>\n</div>"
     },
     "metadata": {},
     "execution_count": 11
    }
   ],
   "source": [
    "ADATE_COLS = list(filter(adate_re.match, df.columns))\n",
    "df[ADATE_COLS]"
   ]
  },
  {
   "source": [
    "## RDATE SELECTION (DATE GIFT DELIVERY)"
   ],
   "cell_type": "markdown",
   "metadata": {}
  },
  {
   "cell_type": "code",
   "execution_count": 12,
   "metadata": {},
   "outputs": [],
   "source": [
    "rdate_re = re.compile(pattern='^RDATE_\\d{1,2}')"
   ]
  },
  {
   "cell_type": "code",
   "execution_count": 14,
   "metadata": {},
   "outputs": [
    {
     "output_type": "execute_result",
     "data": {
      "text/plain": [
       "      RDATE_3     RDATE_4 RDATE_5 RDATE_6     RDATE_7     RDATE_8     RDATE_9  \\\n",
       "0         NaN         NaN     NaN     NaN         NaN         NaN         NaN   \n",
       "1         NaN         NaN     NaN     NaN         NaN         NaN  2015-12-01   \n",
       "2         NaN         NaN     NaN     NaN         NaN         NaN         NaN   \n",
       "3         NaN         NaN     NaN     NaN         NaN         NaN         NaN   \n",
       "4         NaN         NaN     NaN     NaN         NaN  2016-01-01         NaN   \n",
       "...       ...         ...     ...     ...         ...         ...         ...   \n",
       "95407     NaN         NaN     NaN     NaN  2016-02-01         NaN         NaN   \n",
       "95408     NaN         NaN     NaN     NaN  2016-03-01         NaN         NaN   \n",
       "95409     NaN         NaN     NaN     NaN         NaN  2016-01-01         NaN   \n",
       "95410     NaN  2016-08-01     NaN     NaN         NaN         NaN         NaN   \n",
       "95411     NaN         NaN     NaN     NaN         NaN         NaN         NaN   \n",
       "\n",
       "         RDATE_10    RDATE_11    RDATE_12  ...    RDATE_15    RDATE_16  \\\n",
       "0      2015-12-01         NaN         NaN  ...  2015-05-01  2015-05-01   \n",
       "1             NaN         NaN         NaN  ...         NaN  2015-04-01   \n",
       "2             NaN         NaN  2015-09-01  ...         NaN  2015-04-01   \n",
       "3             NaN  2015-12-01  2015-09-01  ...         NaN  2015-05-01   \n",
       "4             NaN         NaN         NaN  ...         NaN         NaN   \n",
       "...           ...         ...         ...  ...         ...         ...   \n",
       "95407         NaN         NaN         NaN  ...         NaN         NaN   \n",
       "95408         NaN         NaN         NaN  ...         NaN         NaN   \n",
       "95409         NaN         NaN  2015-10-01  ...         NaN         NaN   \n",
       "95410  2015-12-01  2015-11-01         NaN  ...  2015-07-01  2015-06-01   \n",
       "95411         NaN  2015-11-01         NaN  ...         NaN         NaN   \n",
       "\n",
       "         RDATE_17    RDATE_18 RDATE_19    RDATE_20    RDATE_21    RDATE_22  \\\n",
       "0      2015-03-01         NaN      NaN         NaN         NaN         NaN   \n",
       "1             NaN         NaN      NaN         NaN         NaN         NaN   \n",
       "2             NaN  2015-01-01      NaN         NaN         NaN  2014-09-01   \n",
       "3      2015-03-01         NaN      NaN  2014-11-01  2014-11-01         NaN   \n",
       "4             NaN         NaN      NaN         NaN         NaN         NaN   \n",
       "...           ...         ...      ...         ...         ...         ...   \n",
       "95407         NaN         NaN      NaN         NaN         NaN         NaN   \n",
       "95408         NaN         NaN      NaN         NaN         NaN         NaN   \n",
       "95409         NaN  2015-01-01      NaN         NaN         NaN  2014-10-01   \n",
       "95410         NaN  2015-02-01      NaN         NaN  2015-01-01  2014-10-01   \n",
       "95411         NaN         NaN      NaN         NaN         NaN         NaN   \n",
       "\n",
       "         RDATE_23    RDATE_24  \n",
       "0      2014-08-01  2014-06-01  \n",
       "1             NaN         NaN  \n",
       "2      2014-07-01  2014-06-01  \n",
       "3             NaN         NaN  \n",
       "4             NaN         NaN  \n",
       "...           ...         ...  \n",
       "95407         NaN         NaN  \n",
       "95408         NaN         NaN  \n",
       "95409         NaN         NaN  \n",
       "95410         NaN         NaN  \n",
       "95411  2014-07-01         NaN  \n",
       "\n",
       "[95412 rows x 22 columns]"
      ],
      "text/html": "<div>\n<style scoped>\n    .dataframe tbody tr th:only-of-type {\n        vertical-align: middle;\n    }\n\n    .dataframe tbody tr th {\n        vertical-align: top;\n    }\n\n    .dataframe thead th {\n        text-align: right;\n    }\n</style>\n<table border=\"1\" class=\"dataframe\">\n  <thead>\n    <tr style=\"text-align: right;\">\n      <th></th>\n      <th>RDATE_3</th>\n      <th>RDATE_4</th>\n      <th>RDATE_5</th>\n      <th>RDATE_6</th>\n      <th>RDATE_7</th>\n      <th>RDATE_8</th>\n      <th>RDATE_9</th>\n      <th>RDATE_10</th>\n      <th>RDATE_11</th>\n      <th>RDATE_12</th>\n      <th>...</th>\n      <th>RDATE_15</th>\n      <th>RDATE_16</th>\n      <th>RDATE_17</th>\n      <th>RDATE_18</th>\n      <th>RDATE_19</th>\n      <th>RDATE_20</th>\n      <th>RDATE_21</th>\n      <th>RDATE_22</th>\n      <th>RDATE_23</th>\n      <th>RDATE_24</th>\n    </tr>\n  </thead>\n  <tbody>\n    <tr>\n      <th>0</th>\n      <td>NaN</td>\n      <td>NaN</td>\n      <td>NaN</td>\n      <td>NaN</td>\n      <td>NaN</td>\n      <td>NaN</td>\n      <td>NaN</td>\n      <td>2015-12-01</td>\n      <td>NaN</td>\n      <td>NaN</td>\n      <td>...</td>\n      <td>2015-05-01</td>\n      <td>2015-05-01</td>\n      <td>2015-03-01</td>\n      <td>NaN</td>\n      <td>NaN</td>\n      <td>NaN</td>\n      <td>NaN</td>\n      <td>NaN</td>\n      <td>2014-08-01</td>\n      <td>2014-06-01</td>\n    </tr>\n    <tr>\n      <th>1</th>\n      <td>NaN</td>\n      <td>NaN</td>\n      <td>NaN</td>\n      <td>NaN</td>\n      <td>NaN</td>\n      <td>NaN</td>\n      <td>2015-12-01</td>\n      <td>NaN</td>\n      <td>NaN</td>\n      <td>NaN</td>\n      <td>...</td>\n      <td>NaN</td>\n      <td>2015-04-01</td>\n      <td>NaN</td>\n      <td>NaN</td>\n      <td>NaN</td>\n      <td>NaN</td>\n      <td>NaN</td>\n      <td>NaN</td>\n      <td>NaN</td>\n      <td>NaN</td>\n    </tr>\n    <tr>\n      <th>2</th>\n      <td>NaN</td>\n      <td>NaN</td>\n      <td>NaN</td>\n      <td>NaN</td>\n      <td>NaN</td>\n      <td>NaN</td>\n      <td>NaN</td>\n      <td>NaN</td>\n      <td>NaN</td>\n      <td>2015-09-01</td>\n      <td>...</td>\n      <td>NaN</td>\n      <td>2015-04-01</td>\n      <td>NaN</td>\n      <td>2015-01-01</td>\n      <td>NaN</td>\n      <td>NaN</td>\n      <td>NaN</td>\n      <td>2014-09-01</td>\n      <td>2014-07-01</td>\n      <td>2014-06-01</td>\n    </tr>\n    <tr>\n      <th>3</th>\n      <td>NaN</td>\n      <td>NaN</td>\n      <td>NaN</td>\n      <td>NaN</td>\n      <td>NaN</td>\n      <td>NaN</td>\n      <td>NaN</td>\n      <td>NaN</td>\n      <td>2015-12-01</td>\n      <td>2015-09-01</td>\n      <td>...</td>\n      <td>NaN</td>\n      <td>2015-05-01</td>\n      <td>2015-03-01</td>\n      <td>NaN</td>\n      <td>NaN</td>\n      <td>2014-11-01</td>\n      <td>2014-11-01</td>\n      <td>NaN</td>\n      <td>NaN</td>\n      <td>NaN</td>\n    </tr>\n    <tr>\n      <th>4</th>\n      <td>NaN</td>\n      <td>NaN</td>\n      <td>NaN</td>\n      <td>NaN</td>\n      <td>NaN</td>\n      <td>2016-01-01</td>\n      <td>NaN</td>\n      <td>NaN</td>\n      <td>NaN</td>\n      <td>NaN</td>\n      <td>...</td>\n      <td>NaN</td>\n      <td>NaN</td>\n      <td>NaN</td>\n      <td>NaN</td>\n      <td>NaN</td>\n      <td>NaN</td>\n      <td>NaN</td>\n      <td>NaN</td>\n      <td>NaN</td>\n      <td>NaN</td>\n    </tr>\n    <tr>\n      <th>...</th>\n      <td>...</td>\n      <td>...</td>\n      <td>...</td>\n      <td>...</td>\n      <td>...</td>\n      <td>...</td>\n      <td>...</td>\n      <td>...</td>\n      <td>...</td>\n      <td>...</td>\n      <td>...</td>\n      <td>...</td>\n      <td>...</td>\n      <td>...</td>\n      <td>...</td>\n      <td>...</td>\n      <td>...</td>\n      <td>...</td>\n      <td>...</td>\n      <td>...</td>\n      <td>...</td>\n    </tr>\n    <tr>\n      <th>95407</th>\n      <td>NaN</td>\n      <td>NaN</td>\n      <td>NaN</td>\n      <td>NaN</td>\n      <td>2016-02-01</td>\n      <td>NaN</td>\n      <td>NaN</td>\n      <td>NaN</td>\n      <td>NaN</td>\n      <td>NaN</td>\n      <td>...</td>\n      <td>NaN</td>\n      <td>NaN</td>\n      <td>NaN</td>\n      <td>NaN</td>\n      <td>NaN</td>\n      <td>NaN</td>\n      <td>NaN</td>\n      <td>NaN</td>\n      <td>NaN</td>\n      <td>NaN</td>\n    </tr>\n    <tr>\n      <th>95408</th>\n      <td>NaN</td>\n      <td>NaN</td>\n      <td>NaN</td>\n      <td>NaN</td>\n      <td>2016-03-01</td>\n      <td>NaN</td>\n      <td>NaN</td>\n      <td>NaN</td>\n      <td>NaN</td>\n      <td>NaN</td>\n      <td>...</td>\n      <td>NaN</td>\n      <td>NaN</td>\n      <td>NaN</td>\n      <td>NaN</td>\n      <td>NaN</td>\n      <td>NaN</td>\n      <td>NaN</td>\n      <td>NaN</td>\n      <td>NaN</td>\n      <td>NaN</td>\n    </tr>\n    <tr>\n      <th>95409</th>\n      <td>NaN</td>\n      <td>NaN</td>\n      <td>NaN</td>\n      <td>NaN</td>\n      <td>NaN</td>\n      <td>2016-01-01</td>\n      <td>NaN</td>\n      <td>NaN</td>\n      <td>NaN</td>\n      <td>2015-10-01</td>\n      <td>...</td>\n      <td>NaN</td>\n      <td>NaN</td>\n      <td>NaN</td>\n      <td>2015-01-01</td>\n      <td>NaN</td>\n      <td>NaN</td>\n      <td>NaN</td>\n      <td>2014-10-01</td>\n      <td>NaN</td>\n      <td>NaN</td>\n    </tr>\n    <tr>\n      <th>95410</th>\n      <td>NaN</td>\n      <td>2016-08-01</td>\n      <td>NaN</td>\n      <td>NaN</td>\n      <td>NaN</td>\n      <td>NaN</td>\n      <td>NaN</td>\n      <td>2015-12-01</td>\n      <td>2015-11-01</td>\n      <td>NaN</td>\n      <td>...</td>\n      <td>2015-07-01</td>\n      <td>2015-06-01</td>\n      <td>NaN</td>\n      <td>2015-02-01</td>\n      <td>NaN</td>\n      <td>NaN</td>\n      <td>2015-01-01</td>\n      <td>2014-10-01</td>\n      <td>NaN</td>\n      <td>NaN</td>\n    </tr>\n    <tr>\n      <th>95411</th>\n      <td>NaN</td>\n      <td>NaN</td>\n      <td>NaN</td>\n      <td>NaN</td>\n      <td>NaN</td>\n      <td>NaN</td>\n      <td>NaN</td>\n      <td>NaN</td>\n      <td>2015-11-01</td>\n      <td>NaN</td>\n      <td>...</td>\n      <td>NaN</td>\n      <td>NaN</td>\n      <td>NaN</td>\n      <td>NaN</td>\n      <td>NaN</td>\n      <td>NaN</td>\n      <td>NaN</td>\n      <td>NaN</td>\n      <td>2014-07-01</td>\n      <td>NaN</td>\n    </tr>\n  </tbody>\n</table>\n<p>95412 rows × 22 columns</p>\n</div>"
     },
     "metadata": {},
     "execution_count": 14
    }
   ],
   "source": [
    "RDATE_COLS = list(filter(rdate_re.match, df.columns))\n",
    "df[RDATE_COLS]"
   ]
  },
  {
   "source": [
    "## RFA COLS (PVA ANALYSIS)"
   ],
   "cell_type": "markdown",
   "metadata": {}
  },
  {
   "cell_type": "code",
   "execution_count": 16,
   "metadata": {},
   "outputs": [],
   "source": [
    "rfa_re = re.compile(pattern='^RFA_\\d{1,2}')"
   ]
  },
  {
   "cell_type": "code",
   "execution_count": 17,
   "metadata": {},
   "outputs": [
    {
     "output_type": "execute_result",
     "data": {
      "text/plain": [
       "      RFA_2 RFA_3 RFA_4 RFA_5 RFA_6 RFA_7 RFA_8 RFA_9 RFA_10 RFA_11  ...  \\\n",
       "0       L4E   S4E   S4E   S4E   S4E   S4E   S4E   S4E    S4E    S4E  ...   \n",
       "1       L2G   A2G   A2G   A2G   A2G   A1E   A1E   A1E    A1E    A1E  ...   \n",
       "2       L4E   S4E   S4E   S4E   S4E   S4F   S4F   S4F           S4F  ...   \n",
       "3       L4E   S4E   S4E   S4E   S4E   S4E   S4E   S4E           S4E  ...   \n",
       "4       L2F   A2F   A2F   A2F   A1D   I2D   A1E   A1E    L1D    A1E  ...   \n",
       "...     ...   ...   ...   ...   ...   ...   ...   ...    ...    ...  ...   \n",
       "95407   L1G   F1G   F1G         F1G   P1G   P1G                      ...   \n",
       "95408   L1F                           P1F   P1F                      ...   \n",
       "95409   L3E   S4E   S4E   S3E   S3E         A2E   N3E    N3E    N3E  ...   \n",
       "95410   L4F   S4F   A3F   S4F   S4F   S4F   S4F   S4F    S4F    S4F  ...   \n",
       "95411   L1G   A1G   A1G   A1G   A1G   L3G   L3G   L4G    A1G    A1G  ...   \n",
       "\n",
       "      RFA_18 RFA_19 RFA_20 RFA_21 RFA_22 RFA_23 RFA_24 RFA_2R RFA_2F RFA_2A  \n",
       "0        S4E    S4E    S4E    S4E    S4E    S4E    S4E      L      4      E  \n",
       "1               N1E    N1E    N1E    N1E           F1E      L      2      G  \n",
       "2        S4D    S4D                  S4D    S4D    S3D      L      4      E  \n",
       "3        S2D    A1D    A1D    A1D    A1D                    L      4      E  \n",
       "4        A2D    A3D    A3D    A3D    I4E    A3D    A3D      L      2      F  \n",
       "...      ...    ...    ...    ...    ...    ...    ...    ...    ...    ...  \n",
       "95407                                                       L      1      G  \n",
       "95408                                                       L      1      F  \n",
       "95409    F1D                  P1D    P1D                    L      3      E  \n",
       "95410    S2F    A1F    A1F    A1F    A1F    S2F    S3F      L      4      F  \n",
       "95411    S3G    S4G    S3G    S3G    S3G    S3G    S3G      L      1      G  \n",
       "\n",
       "[95412 rows x 26 columns]"
      ],
      "text/html": "<div>\n<style scoped>\n    .dataframe tbody tr th:only-of-type {\n        vertical-align: middle;\n    }\n\n    .dataframe tbody tr th {\n        vertical-align: top;\n    }\n\n    .dataframe thead th {\n        text-align: right;\n    }\n</style>\n<table border=\"1\" class=\"dataframe\">\n  <thead>\n    <tr style=\"text-align: right;\">\n      <th></th>\n      <th>RFA_2</th>\n      <th>RFA_3</th>\n      <th>RFA_4</th>\n      <th>RFA_5</th>\n      <th>RFA_6</th>\n      <th>RFA_7</th>\n      <th>RFA_8</th>\n      <th>RFA_9</th>\n      <th>RFA_10</th>\n      <th>RFA_11</th>\n      <th>...</th>\n      <th>RFA_18</th>\n      <th>RFA_19</th>\n      <th>RFA_20</th>\n      <th>RFA_21</th>\n      <th>RFA_22</th>\n      <th>RFA_23</th>\n      <th>RFA_24</th>\n      <th>RFA_2R</th>\n      <th>RFA_2F</th>\n      <th>RFA_2A</th>\n    </tr>\n  </thead>\n  <tbody>\n    <tr>\n      <th>0</th>\n      <td>L4E</td>\n      <td>S4E</td>\n      <td>S4E</td>\n      <td>S4E</td>\n      <td>S4E</td>\n      <td>S4E</td>\n      <td>S4E</td>\n      <td>S4E</td>\n      <td>S4E</td>\n      <td>S4E</td>\n      <td>...</td>\n      <td>S4E</td>\n      <td>S4E</td>\n      <td>S4E</td>\n      <td>S4E</td>\n      <td>S4E</td>\n      <td>S4E</td>\n      <td>S4E</td>\n      <td>L</td>\n      <td>4</td>\n      <td>E</td>\n    </tr>\n    <tr>\n      <th>1</th>\n      <td>L2G</td>\n      <td>A2G</td>\n      <td>A2G</td>\n      <td>A2G</td>\n      <td>A2G</td>\n      <td>A1E</td>\n      <td>A1E</td>\n      <td>A1E</td>\n      <td>A1E</td>\n      <td>A1E</td>\n      <td>...</td>\n      <td></td>\n      <td>N1E</td>\n      <td>N1E</td>\n      <td>N1E</td>\n      <td>N1E</td>\n      <td></td>\n      <td>F1E</td>\n      <td>L</td>\n      <td>2</td>\n      <td>G</td>\n    </tr>\n    <tr>\n      <th>2</th>\n      <td>L4E</td>\n      <td>S4E</td>\n      <td>S4E</td>\n      <td>S4E</td>\n      <td>S4E</td>\n      <td>S4F</td>\n      <td>S4F</td>\n      <td>S4F</td>\n      <td></td>\n      <td>S4F</td>\n      <td>...</td>\n      <td>S4D</td>\n      <td>S4D</td>\n      <td></td>\n      <td></td>\n      <td>S4D</td>\n      <td>S4D</td>\n      <td>S3D</td>\n      <td>L</td>\n      <td>4</td>\n      <td>E</td>\n    </tr>\n    <tr>\n      <th>3</th>\n      <td>L4E</td>\n      <td>S4E</td>\n      <td>S4E</td>\n      <td>S4E</td>\n      <td>S4E</td>\n      <td>S4E</td>\n      <td>S4E</td>\n      <td>S4E</td>\n      <td></td>\n      <td>S4E</td>\n      <td>...</td>\n      <td>S2D</td>\n      <td>A1D</td>\n      <td>A1D</td>\n      <td>A1D</td>\n      <td>A1D</td>\n      <td></td>\n      <td></td>\n      <td>L</td>\n      <td>4</td>\n      <td>E</td>\n    </tr>\n    <tr>\n      <th>4</th>\n      <td>L2F</td>\n      <td>A2F</td>\n      <td>A2F</td>\n      <td>A2F</td>\n      <td>A1D</td>\n      <td>I2D</td>\n      <td>A1E</td>\n      <td>A1E</td>\n      <td>L1D</td>\n      <td>A1E</td>\n      <td>...</td>\n      <td>A2D</td>\n      <td>A3D</td>\n      <td>A3D</td>\n      <td>A3D</td>\n      <td>I4E</td>\n      <td>A3D</td>\n      <td>A3D</td>\n      <td>L</td>\n      <td>2</td>\n      <td>F</td>\n    </tr>\n    <tr>\n      <th>...</th>\n      <td>...</td>\n      <td>...</td>\n      <td>...</td>\n      <td>...</td>\n      <td>...</td>\n      <td>...</td>\n      <td>...</td>\n      <td>...</td>\n      <td>...</td>\n      <td>...</td>\n      <td>...</td>\n      <td>...</td>\n      <td>...</td>\n      <td>...</td>\n      <td>...</td>\n      <td>...</td>\n      <td>...</td>\n      <td>...</td>\n      <td>...</td>\n      <td>...</td>\n      <td>...</td>\n    </tr>\n    <tr>\n      <th>95407</th>\n      <td>L1G</td>\n      <td>F1G</td>\n      <td>F1G</td>\n      <td></td>\n      <td>F1G</td>\n      <td>P1G</td>\n      <td>P1G</td>\n      <td></td>\n      <td></td>\n      <td></td>\n      <td>...</td>\n      <td></td>\n      <td></td>\n      <td></td>\n      <td></td>\n      <td></td>\n      <td></td>\n      <td></td>\n      <td>L</td>\n      <td>1</td>\n      <td>G</td>\n    </tr>\n    <tr>\n      <th>95408</th>\n      <td>L1F</td>\n      <td></td>\n      <td></td>\n      <td></td>\n      <td></td>\n      <td>P1F</td>\n      <td>P1F</td>\n      <td></td>\n      <td></td>\n      <td></td>\n      <td>...</td>\n      <td></td>\n      <td></td>\n      <td></td>\n      <td></td>\n      <td></td>\n      <td></td>\n      <td></td>\n      <td>L</td>\n      <td>1</td>\n      <td>F</td>\n    </tr>\n    <tr>\n      <th>95409</th>\n      <td>L3E</td>\n      <td>S4E</td>\n      <td>S4E</td>\n      <td>S3E</td>\n      <td>S3E</td>\n      <td></td>\n      <td>A2E</td>\n      <td>N3E</td>\n      <td>N3E</td>\n      <td>N3E</td>\n      <td>...</td>\n      <td>F1D</td>\n      <td></td>\n      <td></td>\n      <td>P1D</td>\n      <td>P1D</td>\n      <td></td>\n      <td></td>\n      <td>L</td>\n      <td>3</td>\n      <td>E</td>\n    </tr>\n    <tr>\n      <th>95410</th>\n      <td>L4F</td>\n      <td>S4F</td>\n      <td>A3F</td>\n      <td>S4F</td>\n      <td>S4F</td>\n      <td>S4F</td>\n      <td>S4F</td>\n      <td>S4F</td>\n      <td>S4F</td>\n      <td>S4F</td>\n      <td>...</td>\n      <td>S2F</td>\n      <td>A1F</td>\n      <td>A1F</td>\n      <td>A1F</td>\n      <td>A1F</td>\n      <td>S2F</td>\n      <td>S3F</td>\n      <td>L</td>\n      <td>4</td>\n      <td>F</td>\n    </tr>\n    <tr>\n      <th>95411</th>\n      <td>L1G</td>\n      <td>A1G</td>\n      <td>A1G</td>\n      <td>A1G</td>\n      <td>A1G</td>\n      <td>L3G</td>\n      <td>L3G</td>\n      <td>L4G</td>\n      <td>A1G</td>\n      <td>A1G</td>\n      <td>...</td>\n      <td>S3G</td>\n      <td>S4G</td>\n      <td>S3G</td>\n      <td>S3G</td>\n      <td>S3G</td>\n      <td>S3G</td>\n      <td>S3G</td>\n      <td>L</td>\n      <td>1</td>\n      <td>G</td>\n    </tr>\n  </tbody>\n</table>\n<p>95412 rows × 26 columns</p>\n</div>"
     },
     "metadata": {},
     "execution_count": 17
    }
   ],
   "source": [
    "RFA_COLS = list(filter(rfa_re.match, df.columns))\n",
    "df[RFA_COLS]"
   ]
  },
  {
   "source": [
    "## RAMNT SELECTION (AMOUNT DONATED)"
   ],
   "cell_type": "markdown",
   "metadata": {}
  },
  {
   "cell_type": "code",
   "execution_count": 18,
   "metadata": {},
   "outputs": [],
   "source": [
    "ramnt_re = re.compile(pattern='^RAMNT_\\d{1,2}')"
   ]
  },
  {
   "cell_type": "code",
   "execution_count": 19,
   "metadata": {},
   "outputs": [
    {
     "output_type": "execute_result",
     "data": {
      "text/plain": [
       "       RAMNT_3  RAMNT_4  RAMNT_5  RAMNT_6  RAMNT_7  RAMNT_8  RAMNT_9  \\\n",
       "0          NaN      NaN      NaN      NaN      NaN      NaN      NaN   \n",
       "1          NaN      NaN      NaN      NaN      NaN      NaN     25.0   \n",
       "2          NaN      NaN      NaN      NaN      NaN      NaN      NaN   \n",
       "3          NaN      NaN      NaN      NaN      NaN      NaN      NaN   \n",
       "4          NaN      NaN      NaN      NaN      NaN     15.0      NaN   \n",
       "...        ...      ...      ...      ...      ...      ...      ...   \n",
       "95407      NaN      NaN      NaN      NaN     25.0      NaN      NaN   \n",
       "95408      NaN      NaN      NaN      NaN     20.0      NaN      NaN   \n",
       "95409      NaN      NaN      NaN      NaN      NaN     10.0      NaN   \n",
       "95410      NaN     15.0      NaN      NaN      NaN      NaN      NaN   \n",
       "95411      NaN      NaN      NaN      NaN      NaN      NaN      NaN   \n",
       "\n",
       "       RAMNT_10  RAMNT_11  RAMNT_12  ...  RAMNT_15  RAMNT_16  RAMNT_17  \\\n",
       "0          10.0       NaN       NaN  ...      11.0      11.0      11.0   \n",
       "1           NaN       NaN       NaN  ...       NaN      12.0       NaN   \n",
       "2           NaN       NaN      11.0  ...       NaN       9.0       NaN   \n",
       "3           NaN      10.0      10.0  ...       NaN       7.0      11.0   \n",
       "4           NaN       NaN       NaN  ...       NaN       NaN       NaN   \n",
       "...         ...       ...       ...  ...       ...       ...       ...   \n",
       "95407       NaN       NaN       NaN  ...       NaN       NaN       NaN   \n",
       "95408       NaN       NaN       NaN  ...       NaN       NaN       NaN   \n",
       "95409       NaN       NaN      10.0  ...       NaN       NaN       NaN   \n",
       "95410      18.0      18.0       NaN  ...      18.0      18.0       NaN   \n",
       "95411       NaN     200.0       NaN  ...       NaN       NaN       NaN   \n",
       "\n",
       "       RAMNT_18  RAMNT_19  RAMNT_20  RAMNT_21  RAMNT_22  RAMNT_23  RAMNT_24  \n",
       "0           NaN       NaN       NaN       NaN       NaN      11.0       9.0  \n",
       "1           NaN       NaN       NaN       NaN       NaN       NaN       NaN  \n",
       "2           8.0       NaN       NaN       NaN       8.0       7.0       6.0  \n",
       "3           NaN       NaN       6.0      11.0       NaN       NaN       NaN  \n",
       "4           NaN       NaN       NaN       NaN       NaN       NaN       NaN  \n",
       "...         ...       ...       ...       ...       ...       ...       ...  \n",
       "95407       NaN       NaN       NaN       NaN       NaN       NaN       NaN  \n",
       "95408       NaN       NaN       NaN       NaN       NaN       NaN       NaN  \n",
       "95409      10.0       NaN       NaN       NaN       5.0       NaN       NaN  \n",
       "95410      15.0       NaN       NaN      15.0      20.0       NaN       NaN  \n",
       "95411       NaN       NaN       NaN       NaN       NaN     125.0       NaN  \n",
       "\n",
       "[95412 rows x 22 columns]"
      ],
      "text/html": "<div>\n<style scoped>\n    .dataframe tbody tr th:only-of-type {\n        vertical-align: middle;\n    }\n\n    .dataframe tbody tr th {\n        vertical-align: top;\n    }\n\n    .dataframe thead th {\n        text-align: right;\n    }\n</style>\n<table border=\"1\" class=\"dataframe\">\n  <thead>\n    <tr style=\"text-align: right;\">\n      <th></th>\n      <th>RAMNT_3</th>\n      <th>RAMNT_4</th>\n      <th>RAMNT_5</th>\n      <th>RAMNT_6</th>\n      <th>RAMNT_7</th>\n      <th>RAMNT_8</th>\n      <th>RAMNT_9</th>\n      <th>RAMNT_10</th>\n      <th>RAMNT_11</th>\n      <th>RAMNT_12</th>\n      <th>...</th>\n      <th>RAMNT_15</th>\n      <th>RAMNT_16</th>\n      <th>RAMNT_17</th>\n      <th>RAMNT_18</th>\n      <th>RAMNT_19</th>\n      <th>RAMNT_20</th>\n      <th>RAMNT_21</th>\n      <th>RAMNT_22</th>\n      <th>RAMNT_23</th>\n      <th>RAMNT_24</th>\n    </tr>\n  </thead>\n  <tbody>\n    <tr>\n      <th>0</th>\n      <td>NaN</td>\n      <td>NaN</td>\n      <td>NaN</td>\n      <td>NaN</td>\n      <td>NaN</td>\n      <td>NaN</td>\n      <td>NaN</td>\n      <td>10.0</td>\n      <td>NaN</td>\n      <td>NaN</td>\n      <td>...</td>\n      <td>11.0</td>\n      <td>11.0</td>\n      <td>11.0</td>\n      <td>NaN</td>\n      <td>NaN</td>\n      <td>NaN</td>\n      <td>NaN</td>\n      <td>NaN</td>\n      <td>11.0</td>\n      <td>9.0</td>\n    </tr>\n    <tr>\n      <th>1</th>\n      <td>NaN</td>\n      <td>NaN</td>\n      <td>NaN</td>\n      <td>NaN</td>\n      <td>NaN</td>\n      <td>NaN</td>\n      <td>25.0</td>\n      <td>NaN</td>\n      <td>NaN</td>\n      <td>NaN</td>\n      <td>...</td>\n      <td>NaN</td>\n      <td>12.0</td>\n      <td>NaN</td>\n      <td>NaN</td>\n      <td>NaN</td>\n      <td>NaN</td>\n      <td>NaN</td>\n      <td>NaN</td>\n      <td>NaN</td>\n      <td>NaN</td>\n    </tr>\n    <tr>\n      <th>2</th>\n      <td>NaN</td>\n      <td>NaN</td>\n      <td>NaN</td>\n      <td>NaN</td>\n      <td>NaN</td>\n      <td>NaN</td>\n      <td>NaN</td>\n      <td>NaN</td>\n      <td>NaN</td>\n      <td>11.0</td>\n      <td>...</td>\n      <td>NaN</td>\n      <td>9.0</td>\n      <td>NaN</td>\n      <td>8.0</td>\n      <td>NaN</td>\n      <td>NaN</td>\n      <td>NaN</td>\n      <td>8.0</td>\n      <td>7.0</td>\n      <td>6.0</td>\n    </tr>\n    <tr>\n      <th>3</th>\n      <td>NaN</td>\n      <td>NaN</td>\n      <td>NaN</td>\n      <td>NaN</td>\n      <td>NaN</td>\n      <td>NaN</td>\n      <td>NaN</td>\n      <td>NaN</td>\n      <td>10.0</td>\n      <td>10.0</td>\n      <td>...</td>\n      <td>NaN</td>\n      <td>7.0</td>\n      <td>11.0</td>\n      <td>NaN</td>\n      <td>NaN</td>\n      <td>6.0</td>\n      <td>11.0</td>\n      <td>NaN</td>\n      <td>NaN</td>\n      <td>NaN</td>\n    </tr>\n    <tr>\n      <th>4</th>\n      <td>NaN</td>\n      <td>NaN</td>\n      <td>NaN</td>\n      <td>NaN</td>\n      <td>NaN</td>\n      <td>15.0</td>\n      <td>NaN</td>\n      <td>NaN</td>\n      <td>NaN</td>\n      <td>NaN</td>\n      <td>...</td>\n      <td>NaN</td>\n      <td>NaN</td>\n      <td>NaN</td>\n      <td>NaN</td>\n      <td>NaN</td>\n      <td>NaN</td>\n      <td>NaN</td>\n      <td>NaN</td>\n      <td>NaN</td>\n      <td>NaN</td>\n    </tr>\n    <tr>\n      <th>...</th>\n      <td>...</td>\n      <td>...</td>\n      <td>...</td>\n      <td>...</td>\n      <td>...</td>\n      <td>...</td>\n      <td>...</td>\n      <td>...</td>\n      <td>...</td>\n      <td>...</td>\n      <td>...</td>\n      <td>...</td>\n      <td>...</td>\n      <td>...</td>\n      <td>...</td>\n      <td>...</td>\n      <td>...</td>\n      <td>...</td>\n      <td>...</td>\n      <td>...</td>\n      <td>...</td>\n    </tr>\n    <tr>\n      <th>95407</th>\n      <td>NaN</td>\n      <td>NaN</td>\n      <td>NaN</td>\n      <td>NaN</td>\n      <td>25.0</td>\n      <td>NaN</td>\n      <td>NaN</td>\n      <td>NaN</td>\n      <td>NaN</td>\n      <td>NaN</td>\n      <td>...</td>\n      <td>NaN</td>\n      <td>NaN</td>\n      <td>NaN</td>\n      <td>NaN</td>\n      <td>NaN</td>\n      <td>NaN</td>\n      <td>NaN</td>\n      <td>NaN</td>\n      <td>NaN</td>\n      <td>NaN</td>\n    </tr>\n    <tr>\n      <th>95408</th>\n      <td>NaN</td>\n      <td>NaN</td>\n      <td>NaN</td>\n      <td>NaN</td>\n      <td>20.0</td>\n      <td>NaN</td>\n      <td>NaN</td>\n      <td>NaN</td>\n      <td>NaN</td>\n      <td>NaN</td>\n      <td>...</td>\n      <td>NaN</td>\n      <td>NaN</td>\n      <td>NaN</td>\n      <td>NaN</td>\n      <td>NaN</td>\n      <td>NaN</td>\n      <td>NaN</td>\n      <td>NaN</td>\n      <td>NaN</td>\n      <td>NaN</td>\n    </tr>\n    <tr>\n      <th>95409</th>\n      <td>NaN</td>\n      <td>NaN</td>\n      <td>NaN</td>\n      <td>NaN</td>\n      <td>NaN</td>\n      <td>10.0</td>\n      <td>NaN</td>\n      <td>NaN</td>\n      <td>NaN</td>\n      <td>10.0</td>\n      <td>...</td>\n      <td>NaN</td>\n      <td>NaN</td>\n      <td>NaN</td>\n      <td>10.0</td>\n      <td>NaN</td>\n      <td>NaN</td>\n      <td>NaN</td>\n      <td>5.0</td>\n      <td>NaN</td>\n      <td>NaN</td>\n    </tr>\n    <tr>\n      <th>95410</th>\n      <td>NaN</td>\n      <td>15.0</td>\n      <td>NaN</td>\n      <td>NaN</td>\n      <td>NaN</td>\n      <td>NaN</td>\n      <td>NaN</td>\n      <td>18.0</td>\n      <td>18.0</td>\n      <td>NaN</td>\n      <td>...</td>\n      <td>18.0</td>\n      <td>18.0</td>\n      <td>NaN</td>\n      <td>15.0</td>\n      <td>NaN</td>\n      <td>NaN</td>\n      <td>15.0</td>\n      <td>20.0</td>\n      <td>NaN</td>\n      <td>NaN</td>\n    </tr>\n    <tr>\n      <th>95411</th>\n      <td>NaN</td>\n      <td>NaN</td>\n      <td>NaN</td>\n      <td>NaN</td>\n      <td>NaN</td>\n      <td>NaN</td>\n      <td>NaN</td>\n      <td>NaN</td>\n      <td>200.0</td>\n      <td>NaN</td>\n      <td>...</td>\n      <td>NaN</td>\n      <td>NaN</td>\n      <td>NaN</td>\n      <td>NaN</td>\n      <td>NaN</td>\n      <td>NaN</td>\n      <td>NaN</td>\n      <td>NaN</td>\n      <td>125.0</td>\n      <td>NaN</td>\n    </tr>\n  </tbody>\n</table>\n<p>95412 rows × 22 columns</p>\n</div>"
     },
     "metadata": {},
     "execution_count": 19
    }
   ],
   "source": [
    "RAMNT_COLS = list(filter(ramnt_re.match, df.columns))\n",
    "df[RAMNT_COLS]"
   ]
  }
 ]
}