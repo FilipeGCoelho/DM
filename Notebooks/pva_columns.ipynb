{
 "cells": [
  {
   "cell_type": "code",
   "execution_count": 19,
   "metadata": {},
   "outputs": [],
   "source": [
    "import pandas as pd\n",
    "import re\n",
    "import numpy as np"
   ]
  },
  {
   "cell_type": "code",
   "execution_count": 59,
   "metadata": {},
   "outputs": [],
   "source": [
    "pd.set_option('display.max_rows', 500)\n",
    "pd.set_option('display.max_columns', 500)\n",
    "pd.set_option('display.width', 1000)"
   ]
  },
  {
   "cell_type": "markdown",
   "metadata": {},
   "source": [
    "## Auxiliary Methods"
   ]
  },
  {
   "cell_type": "code",
   "execution_count": 20,
   "metadata": {},
   "outputs": [],
   "source": [
    "pat = '\\s+'\n",
    "\n",
    "def fill_NaN(lst, df): \n",
    "    for col in lst : \n",
    "        df[col].replace(to_replace=pat, value=np.nan, regex=True, inplace=True)"
   ]
  },
  {
   "cell_type": "markdown",
   "metadata": {},
   "source": [
    "# Read Data "
   ]
  },
  {
   "cell_type": "code",
   "execution_count": 21,
   "metadata": {},
   "outputs": [
    {
     "output_type": "execute_result",
     "data": {
      "text/plain": [
       "       Unnamed: 0     ODATEDW OSOURCE  TCODE STATE    ZIP MAILCODE PVASTATE  \\\n",
       "0               0  2009-01-01     GRI      0    IL  61081                     \n",
       "1               1  2014-01-01     BOA      1    CA  91326                     \n",
       "2               2  2010-01-01     AMH      1    NC  27017                     \n",
       "3               3  2007-01-01     BRY      0    CA  95953                     \n",
       "4               4  2006-01-01              0    FL  33176                     \n",
       "...           ...         ...     ...    ...   ...    ...      ...      ...   \n",
       "95407       95407  2016-01-01     ASE      1    AK  99504                     \n",
       "95408       95408  2016-01-01     DCD      1    TX  77379                     \n",
       "95409       95409  2015-01-01     MBC      1    MI  48910                     \n",
       "95410       95410  2006-01-01     PRV      0    CA  91320                     \n",
       "95411       95411  2008-01-01     MCC      2    NC  28409                     \n",
       "\n",
       "              DOB NOEXCH  ...    AVGGIFT CONTROLN HPHONE_D RFA_2R RFA_2F  \\\n",
       "0      1957-12-01      0  ...   7.741935    95515        0      L      4   \n",
       "1      1972-02-01      0  ...  15.666667   148535        0      L      2   \n",
       "2             NaN      0  ...   7.481481    15078        1      L      4   \n",
       "3      1948-01-01      0  ...   6.812500   172556        1      L      4   \n",
       "4      1940-01-01      0  ...   6.864865     7112        1      L      2   \n",
       "...           ...    ...  ...        ...      ...      ...    ...    ...   \n",
       "95407         NaN      0  ...  25.000000   184568        0      L      1   \n",
       "95408  1970-01-01      0  ...  20.000000   122706        1      L      1   \n",
       "95409  1958-01-01      0  ...   8.285714   189641        1      L      3   \n",
       "95410  1960-05-01      0  ...  12.146341     4693        1      L      4   \n",
       "95411  1938-01-01      0  ...  96.794872   185114        1      L      1   \n",
       "\n",
       "      RFA_2A MDMAUD_R MDMAUD_F MDMAUD_A GEOCODE2  \n",
       "0          E        X        X        X        C  \n",
       "1          G        X        X        X        A  \n",
       "2          E        X        X        X        C  \n",
       "3          E        X        X        X        C  \n",
       "4          F        X        X        X        A  \n",
       "...      ...      ...      ...      ...      ...  \n",
       "95407      G        X        X        X        C  \n",
       "95408      F        X        X        X        A  \n",
       "95409      E        X        X        X        B  \n",
       "95410      F        X        X        X        A  \n",
       "95411      G        C        1        C        C  \n",
       "\n",
       "[95412 rows x 476 columns]"
      ],
      "text/html": "<div>\n<style scoped>\n    .dataframe tbody tr th:only-of-type {\n        vertical-align: middle;\n    }\n\n    .dataframe tbody tr th {\n        vertical-align: top;\n    }\n\n    .dataframe thead th {\n        text-align: right;\n    }\n</style>\n<table border=\"1\" class=\"dataframe\">\n  <thead>\n    <tr style=\"text-align: right;\">\n      <th></th>\n      <th>Unnamed: 0</th>\n      <th>ODATEDW</th>\n      <th>OSOURCE</th>\n      <th>TCODE</th>\n      <th>STATE</th>\n      <th>ZIP</th>\n      <th>MAILCODE</th>\n      <th>PVASTATE</th>\n      <th>DOB</th>\n      <th>NOEXCH</th>\n      <th>...</th>\n      <th>AVGGIFT</th>\n      <th>CONTROLN</th>\n      <th>HPHONE_D</th>\n      <th>RFA_2R</th>\n      <th>RFA_2F</th>\n      <th>RFA_2A</th>\n      <th>MDMAUD_R</th>\n      <th>MDMAUD_F</th>\n      <th>MDMAUD_A</th>\n      <th>GEOCODE2</th>\n    </tr>\n  </thead>\n  <tbody>\n    <tr>\n      <th>0</th>\n      <td>0</td>\n      <td>2009-01-01</td>\n      <td>GRI</td>\n      <td>0</td>\n      <td>IL</td>\n      <td>61081</td>\n      <td></td>\n      <td></td>\n      <td>1957-12-01</td>\n      <td>0</td>\n      <td>...</td>\n      <td>7.741935</td>\n      <td>95515</td>\n      <td>0</td>\n      <td>L</td>\n      <td>4</td>\n      <td>E</td>\n      <td>X</td>\n      <td>X</td>\n      <td>X</td>\n      <td>C</td>\n    </tr>\n    <tr>\n      <th>1</th>\n      <td>1</td>\n      <td>2014-01-01</td>\n      <td>BOA</td>\n      <td>1</td>\n      <td>CA</td>\n      <td>91326</td>\n      <td></td>\n      <td></td>\n      <td>1972-02-01</td>\n      <td>0</td>\n      <td>...</td>\n      <td>15.666667</td>\n      <td>148535</td>\n      <td>0</td>\n      <td>L</td>\n      <td>2</td>\n      <td>G</td>\n      <td>X</td>\n      <td>X</td>\n      <td>X</td>\n      <td>A</td>\n    </tr>\n    <tr>\n      <th>2</th>\n      <td>2</td>\n      <td>2010-01-01</td>\n      <td>AMH</td>\n      <td>1</td>\n      <td>NC</td>\n      <td>27017</td>\n      <td></td>\n      <td></td>\n      <td>NaN</td>\n      <td>0</td>\n      <td>...</td>\n      <td>7.481481</td>\n      <td>15078</td>\n      <td>1</td>\n      <td>L</td>\n      <td>4</td>\n      <td>E</td>\n      <td>X</td>\n      <td>X</td>\n      <td>X</td>\n      <td>C</td>\n    </tr>\n    <tr>\n      <th>3</th>\n      <td>3</td>\n      <td>2007-01-01</td>\n      <td>BRY</td>\n      <td>0</td>\n      <td>CA</td>\n      <td>95953</td>\n      <td></td>\n      <td></td>\n      <td>1948-01-01</td>\n      <td>0</td>\n      <td>...</td>\n      <td>6.812500</td>\n      <td>172556</td>\n      <td>1</td>\n      <td>L</td>\n      <td>4</td>\n      <td>E</td>\n      <td>X</td>\n      <td>X</td>\n      <td>X</td>\n      <td>C</td>\n    </tr>\n    <tr>\n      <th>4</th>\n      <td>4</td>\n      <td>2006-01-01</td>\n      <td></td>\n      <td>0</td>\n      <td>FL</td>\n      <td>33176</td>\n      <td></td>\n      <td></td>\n      <td>1940-01-01</td>\n      <td>0</td>\n      <td>...</td>\n      <td>6.864865</td>\n      <td>7112</td>\n      <td>1</td>\n      <td>L</td>\n      <td>2</td>\n      <td>F</td>\n      <td>X</td>\n      <td>X</td>\n      <td>X</td>\n      <td>A</td>\n    </tr>\n    <tr>\n      <th>...</th>\n      <td>...</td>\n      <td>...</td>\n      <td>...</td>\n      <td>...</td>\n      <td>...</td>\n      <td>...</td>\n      <td>...</td>\n      <td>...</td>\n      <td>...</td>\n      <td>...</td>\n      <td>...</td>\n      <td>...</td>\n      <td>...</td>\n      <td>...</td>\n      <td>...</td>\n      <td>...</td>\n      <td>...</td>\n      <td>...</td>\n      <td>...</td>\n      <td>...</td>\n      <td>...</td>\n    </tr>\n    <tr>\n      <th>95407</th>\n      <td>95407</td>\n      <td>2016-01-01</td>\n      <td>ASE</td>\n      <td>1</td>\n      <td>AK</td>\n      <td>99504</td>\n      <td></td>\n      <td></td>\n      <td>NaN</td>\n      <td>0</td>\n      <td>...</td>\n      <td>25.000000</td>\n      <td>184568</td>\n      <td>0</td>\n      <td>L</td>\n      <td>1</td>\n      <td>G</td>\n      <td>X</td>\n      <td>X</td>\n      <td>X</td>\n      <td>C</td>\n    </tr>\n    <tr>\n      <th>95408</th>\n      <td>95408</td>\n      <td>2016-01-01</td>\n      <td>DCD</td>\n      <td>1</td>\n      <td>TX</td>\n      <td>77379</td>\n      <td></td>\n      <td></td>\n      <td>1970-01-01</td>\n      <td>0</td>\n      <td>...</td>\n      <td>20.000000</td>\n      <td>122706</td>\n      <td>1</td>\n      <td>L</td>\n      <td>1</td>\n      <td>F</td>\n      <td>X</td>\n      <td>X</td>\n      <td>X</td>\n      <td>A</td>\n    </tr>\n    <tr>\n      <th>95409</th>\n      <td>95409</td>\n      <td>2015-01-01</td>\n      <td>MBC</td>\n      <td>1</td>\n      <td>MI</td>\n      <td>48910</td>\n      <td></td>\n      <td></td>\n      <td>1958-01-01</td>\n      <td>0</td>\n      <td>...</td>\n      <td>8.285714</td>\n      <td>189641</td>\n      <td>1</td>\n      <td>L</td>\n      <td>3</td>\n      <td>E</td>\n      <td>X</td>\n      <td>X</td>\n      <td>X</td>\n      <td>B</td>\n    </tr>\n    <tr>\n      <th>95410</th>\n      <td>95410</td>\n      <td>2006-01-01</td>\n      <td>PRV</td>\n      <td>0</td>\n      <td>CA</td>\n      <td>91320</td>\n      <td></td>\n      <td></td>\n      <td>1960-05-01</td>\n      <td>0</td>\n      <td>...</td>\n      <td>12.146341</td>\n      <td>4693</td>\n      <td>1</td>\n      <td>L</td>\n      <td>4</td>\n      <td>F</td>\n      <td>X</td>\n      <td>X</td>\n      <td>X</td>\n      <td>A</td>\n    </tr>\n    <tr>\n      <th>95411</th>\n      <td>95411</td>\n      <td>2008-01-01</td>\n      <td>MCC</td>\n      <td>2</td>\n      <td>NC</td>\n      <td>28409</td>\n      <td></td>\n      <td></td>\n      <td>1938-01-01</td>\n      <td>0</td>\n      <td>...</td>\n      <td>96.794872</td>\n      <td>185114</td>\n      <td>1</td>\n      <td>L</td>\n      <td>1</td>\n      <td>G</td>\n      <td>C</td>\n      <td>1</td>\n      <td>C</td>\n      <td>C</td>\n    </tr>\n  </tbody>\n</table>\n<p>95412 rows × 476 columns</p>\n</div>"
     },
     "metadata": {},
     "execution_count": 21
    }
   ],
   "source": [
    "df = pd.read_csv('../Data/donors.csv', low_memory=False)\n",
    "df"
   ]
  },
  {
   "cell_type": "markdown",
   "metadata": {},
   "source": [
    "## ADATE SELECTION (PROMOTION START)"
   ]
  },
  {
   "cell_type": "code",
   "execution_count": 22,
   "metadata": {},
   "outputs": [],
   "source": [
    "adate_re = re.compile(pattern='^ADATE_\\d{1,2}')"
   ]
  },
  {
   "cell_type": "code",
   "execution_count": 23,
   "metadata": {},
   "outputs": [
    {
     "output_type": "execute_result",
     "data": {
      "text/plain": [
       "          ADATE_2     ADATE_3     ADATE_4     ADATE_5     ADATE_6     ADATE_7  \\\n",
       "0      2017-06-01  2016-06-01  2016-04-01  2016-04-01  2016-03-01  2016-02-01   \n",
       "1      2017-06-01  2016-06-01  2016-04-01  2016-04-01  2016-03-01  2016-02-01   \n",
       "2      2017-06-01  2016-06-01  2016-04-01  2016-04-01  2016-03-01  2016-02-01   \n",
       "3      2017-06-01  2016-06-01  2016-04-01  2016-04-01  2016-03-01  2016-02-01   \n",
       "4      2017-06-01  2016-06-01  2016-04-01  2016-04-01  2016-03-01  2015-12-01   \n",
       "...           ...         ...         ...         ...         ...         ...   \n",
       "95407  2017-06-01  2016-06-01  2016-04-01         NaN  2016-03-01  2016-01-01   \n",
       "95408  2017-06-01         NaN         NaN         NaN         NaN  2016-01-01   \n",
       "95409  2017-06-01  2016-06-01  2016-04-01  2016-04-01  2016-03-01         NaN   \n",
       "95410  2017-06-01  2016-06-01  2016-09-01  2016-04-01  2016-03-01  2016-02-01   \n",
       "95411  2017-06-01  2016-06-01  2016-04-01  2016-04-01  2016-03-01  2016-02-01   \n",
       "\n",
       "          ADATE_8     ADATE_9    ADATE_10    ADATE_11  ...    ADATE_15  \\\n",
       "0      2016-01-01  2015-11-01  2015-10-01  2015-10-01  ...  2015-04-01   \n",
       "1      2016-01-01  2015-11-01  2015-10-01  2015-10-01  ...         NaN   \n",
       "2      2016-01-01  2015-11-01         NaN  2015-10-01  ...  2015-04-01   \n",
       "3      2016-01-01  2015-11-01         NaN  2015-10-01  ...  2015-04-01   \n",
       "4      2016-01-01  2015-11-01  2015-10-01  2015-09-01  ...         NaN   \n",
       "...           ...         ...         ...         ...  ...         ...   \n",
       "95407  2015-12-01         NaN         NaN         NaN  ...         NaN   \n",
       "95408  2016-01-01         NaN         NaN         NaN  ...         NaN   \n",
       "95409  2016-01-01  2015-11-01  2015-10-01  2015-10-01  ...  2015-04-01   \n",
       "95410  2016-01-01  2015-11-01  2015-10-01  2015-10-01  ...  2015-04-01   \n",
       "95411  2016-01-01  2015-11-01  2015-11-01  2015-11-01  ...  2015-04-01   \n",
       "\n",
       "         ADATE_16    ADATE_17    ADATE_18    ADATE_19    ADATE_20    ADATE_21  \\\n",
       "0      2015-03-01  2015-02-01  2015-01-01  2014-11-01  2014-11-01  2014-10-01   \n",
       "1      2015-03-01         NaN         NaN  2014-11-01  2014-11-01  2014-10-01   \n",
       "2      2015-03-01         NaN  2015-01-01  2014-11-01         NaN         NaN   \n",
       "3      2015-03-01  2015-02-01  2015-01-01  2014-11-01  2014-11-01  2014-10-01   \n",
       "4      2015-03-01  2015-02-01  2014-12-01  2014-11-01  2014-11-01  2014-10-01   \n",
       "...           ...         ...         ...         ...         ...         ...   \n",
       "95407         NaN         NaN         NaN         NaN         NaN         NaN   \n",
       "95408         NaN         NaN         NaN         NaN         NaN         NaN   \n",
       "95409  2015-03-01         NaN  2015-01-01         NaN         NaN  2014-09-01   \n",
       "95410  2015-03-01  2015-02-01  2015-01-01  2014-11-01  2014-11-01  2014-10-01   \n",
       "95411  2015-03-01  2015-02-01  2015-01-01  2014-11-01  2014-11-01  2014-10-01   \n",
       "\n",
       "         ADATE_22    ADATE_23    ADATE_24  \n",
       "0      2014-09-01  2014-07-01  2014-06-01  \n",
       "1      2014-09-01         NaN  2014-06-01  \n",
       "2      2014-09-01  2014-07-01  2014-06-01  \n",
       "3      2014-09-01         NaN         NaN  \n",
       "4      2015-06-01  2014-07-01  2014-06-01  \n",
       "...           ...         ...         ...  \n",
       "95407         NaN         NaN         NaN  \n",
       "95408         NaN         NaN         NaN  \n",
       "95409  2014-08-01         NaN         NaN  \n",
       "95410  2014-09-01  2014-07-01  2014-06-01  \n",
       "95411  2014-09-01  2014-07-01  2014-06-01  \n",
       "\n",
       "[95412 rows x 23 columns]"
      ],
      "text/html": "<div>\n<style scoped>\n    .dataframe tbody tr th:only-of-type {\n        vertical-align: middle;\n    }\n\n    .dataframe tbody tr th {\n        vertical-align: top;\n    }\n\n    .dataframe thead th {\n        text-align: right;\n    }\n</style>\n<table border=\"1\" class=\"dataframe\">\n  <thead>\n    <tr style=\"text-align: right;\">\n      <th></th>\n      <th>ADATE_2</th>\n      <th>ADATE_3</th>\n      <th>ADATE_4</th>\n      <th>ADATE_5</th>\n      <th>ADATE_6</th>\n      <th>ADATE_7</th>\n      <th>ADATE_8</th>\n      <th>ADATE_9</th>\n      <th>ADATE_10</th>\n      <th>ADATE_11</th>\n      <th>...</th>\n      <th>ADATE_15</th>\n      <th>ADATE_16</th>\n      <th>ADATE_17</th>\n      <th>ADATE_18</th>\n      <th>ADATE_19</th>\n      <th>ADATE_20</th>\n      <th>ADATE_21</th>\n      <th>ADATE_22</th>\n      <th>ADATE_23</th>\n      <th>ADATE_24</th>\n    </tr>\n  </thead>\n  <tbody>\n    <tr>\n      <th>0</th>\n      <td>2017-06-01</td>\n      <td>2016-06-01</td>\n      <td>2016-04-01</td>\n      <td>2016-04-01</td>\n      <td>2016-03-01</td>\n      <td>2016-02-01</td>\n      <td>2016-01-01</td>\n      <td>2015-11-01</td>\n      <td>2015-10-01</td>\n      <td>2015-10-01</td>\n      <td>...</td>\n      <td>2015-04-01</td>\n      <td>2015-03-01</td>\n      <td>2015-02-01</td>\n      <td>2015-01-01</td>\n      <td>2014-11-01</td>\n      <td>2014-11-01</td>\n      <td>2014-10-01</td>\n      <td>2014-09-01</td>\n      <td>2014-07-01</td>\n      <td>2014-06-01</td>\n    </tr>\n    <tr>\n      <th>1</th>\n      <td>2017-06-01</td>\n      <td>2016-06-01</td>\n      <td>2016-04-01</td>\n      <td>2016-04-01</td>\n      <td>2016-03-01</td>\n      <td>2016-02-01</td>\n      <td>2016-01-01</td>\n      <td>2015-11-01</td>\n      <td>2015-10-01</td>\n      <td>2015-10-01</td>\n      <td>...</td>\n      <td>NaN</td>\n      <td>2015-03-01</td>\n      <td>NaN</td>\n      <td>NaN</td>\n      <td>2014-11-01</td>\n      <td>2014-11-01</td>\n      <td>2014-10-01</td>\n      <td>2014-09-01</td>\n      <td>NaN</td>\n      <td>2014-06-01</td>\n    </tr>\n    <tr>\n      <th>2</th>\n      <td>2017-06-01</td>\n      <td>2016-06-01</td>\n      <td>2016-04-01</td>\n      <td>2016-04-01</td>\n      <td>2016-03-01</td>\n      <td>2016-02-01</td>\n      <td>2016-01-01</td>\n      <td>2015-11-01</td>\n      <td>NaN</td>\n      <td>2015-10-01</td>\n      <td>...</td>\n      <td>2015-04-01</td>\n      <td>2015-03-01</td>\n      <td>NaN</td>\n      <td>2015-01-01</td>\n      <td>2014-11-01</td>\n      <td>NaN</td>\n      <td>NaN</td>\n      <td>2014-09-01</td>\n      <td>2014-07-01</td>\n      <td>2014-06-01</td>\n    </tr>\n    <tr>\n      <th>3</th>\n      <td>2017-06-01</td>\n      <td>2016-06-01</td>\n      <td>2016-04-01</td>\n      <td>2016-04-01</td>\n      <td>2016-03-01</td>\n      <td>2016-02-01</td>\n      <td>2016-01-01</td>\n      <td>2015-11-01</td>\n      <td>NaN</td>\n      <td>2015-10-01</td>\n      <td>...</td>\n      <td>2015-04-01</td>\n      <td>2015-03-01</td>\n      <td>2015-02-01</td>\n      <td>2015-01-01</td>\n      <td>2014-11-01</td>\n      <td>2014-11-01</td>\n      <td>2014-10-01</td>\n      <td>2014-09-01</td>\n      <td>NaN</td>\n      <td>NaN</td>\n    </tr>\n    <tr>\n      <th>4</th>\n      <td>2017-06-01</td>\n      <td>2016-06-01</td>\n      <td>2016-04-01</td>\n      <td>2016-04-01</td>\n      <td>2016-03-01</td>\n      <td>2015-12-01</td>\n      <td>2016-01-01</td>\n      <td>2015-11-01</td>\n      <td>2015-10-01</td>\n      <td>2015-09-01</td>\n      <td>...</td>\n      <td>NaN</td>\n      <td>2015-03-01</td>\n      <td>2015-02-01</td>\n      <td>2014-12-01</td>\n      <td>2014-11-01</td>\n      <td>2014-11-01</td>\n      <td>2014-10-01</td>\n      <td>2015-06-01</td>\n      <td>2014-07-01</td>\n      <td>2014-06-01</td>\n    </tr>\n    <tr>\n      <th>...</th>\n      <td>...</td>\n      <td>...</td>\n      <td>...</td>\n      <td>...</td>\n      <td>...</td>\n      <td>...</td>\n      <td>...</td>\n      <td>...</td>\n      <td>...</td>\n      <td>...</td>\n      <td>...</td>\n      <td>...</td>\n      <td>...</td>\n      <td>...</td>\n      <td>...</td>\n      <td>...</td>\n      <td>...</td>\n      <td>...</td>\n      <td>...</td>\n      <td>...</td>\n      <td>...</td>\n    </tr>\n    <tr>\n      <th>95407</th>\n      <td>2017-06-01</td>\n      <td>2016-06-01</td>\n      <td>2016-04-01</td>\n      <td>NaN</td>\n      <td>2016-03-01</td>\n      <td>2016-01-01</td>\n      <td>2015-12-01</td>\n      <td>NaN</td>\n      <td>NaN</td>\n      <td>NaN</td>\n      <td>...</td>\n      <td>NaN</td>\n      <td>NaN</td>\n      <td>NaN</td>\n      <td>NaN</td>\n      <td>NaN</td>\n      <td>NaN</td>\n      <td>NaN</td>\n      <td>NaN</td>\n      <td>NaN</td>\n      <td>NaN</td>\n    </tr>\n    <tr>\n      <th>95408</th>\n      <td>2017-06-01</td>\n      <td>NaN</td>\n      <td>NaN</td>\n      <td>NaN</td>\n      <td>NaN</td>\n      <td>2016-01-01</td>\n      <td>2016-01-01</td>\n      <td>NaN</td>\n      <td>NaN</td>\n      <td>NaN</td>\n      <td>...</td>\n      <td>NaN</td>\n      <td>NaN</td>\n      <td>NaN</td>\n      <td>NaN</td>\n      <td>NaN</td>\n      <td>NaN</td>\n      <td>NaN</td>\n      <td>NaN</td>\n      <td>NaN</td>\n      <td>NaN</td>\n    </tr>\n    <tr>\n      <th>95409</th>\n      <td>2017-06-01</td>\n      <td>2016-06-01</td>\n      <td>2016-04-01</td>\n      <td>2016-04-01</td>\n      <td>2016-03-01</td>\n      <td>NaN</td>\n      <td>2016-01-01</td>\n      <td>2015-11-01</td>\n      <td>2015-10-01</td>\n      <td>2015-10-01</td>\n      <td>...</td>\n      <td>2015-04-01</td>\n      <td>2015-03-01</td>\n      <td>NaN</td>\n      <td>2015-01-01</td>\n      <td>NaN</td>\n      <td>NaN</td>\n      <td>2014-09-01</td>\n      <td>2014-08-01</td>\n      <td>NaN</td>\n      <td>NaN</td>\n    </tr>\n    <tr>\n      <th>95410</th>\n      <td>2017-06-01</td>\n      <td>2016-06-01</td>\n      <td>2016-09-01</td>\n      <td>2016-04-01</td>\n      <td>2016-03-01</td>\n      <td>2016-02-01</td>\n      <td>2016-01-01</td>\n      <td>2015-11-01</td>\n      <td>2015-10-01</td>\n      <td>2015-10-01</td>\n      <td>...</td>\n      <td>2015-04-01</td>\n      <td>2015-03-01</td>\n      <td>2015-02-01</td>\n      <td>2015-01-01</td>\n      <td>2014-11-01</td>\n      <td>2014-11-01</td>\n      <td>2014-10-01</td>\n      <td>2014-09-01</td>\n      <td>2014-07-01</td>\n      <td>2014-06-01</td>\n    </tr>\n    <tr>\n      <th>95411</th>\n      <td>2017-06-01</td>\n      <td>2016-06-01</td>\n      <td>2016-04-01</td>\n      <td>2016-04-01</td>\n      <td>2016-03-01</td>\n      <td>2016-02-01</td>\n      <td>2016-01-01</td>\n      <td>2015-11-01</td>\n      <td>2015-11-01</td>\n      <td>2015-11-01</td>\n      <td>...</td>\n      <td>2015-04-01</td>\n      <td>2015-03-01</td>\n      <td>2015-02-01</td>\n      <td>2015-01-01</td>\n      <td>2014-11-01</td>\n      <td>2014-11-01</td>\n      <td>2014-10-01</td>\n      <td>2014-09-01</td>\n      <td>2014-07-01</td>\n      <td>2014-06-01</td>\n    </tr>\n  </tbody>\n</table>\n<p>95412 rows × 23 columns</p>\n</div>"
     },
     "metadata": {},
     "execution_count": 23
    }
   ],
   "source": [
    "ADATE_COLS = list(filter(adate_re.match, df.columns))\n",
    "working_variables_dic = {'ADATE': ADATE_COLS}\n",
    "\n",
    "fill_NaN(ADATE_COLS, df)\n",
    "df[ADATE_COLS]"
   ]
  },
  {
   "cell_type": "code",
   "execution_count": 66,
   "metadata": {},
   "outputs": [
    {
     "output_type": "execute_result",
     "data": {
      "text/plain": [
       "ADATE_2     0.000000\n",
       "ADATE_3     0.020438\n",
       "ADATE_4     0.022964\n",
       "ADATE_5     0.352052\n",
       "ADATE_6     0.037280\n",
       "ADATE_7     0.093007\n",
       "ADATE_8     0.036798\n",
       "ADATE_9     0.117857\n",
       "ADATE_10    0.343227\n",
       "ADATE_11    0.109232\n",
       "ADATE_12    0.093521\n",
       "ADATE_13    0.421530\n",
       "ADATE_14    0.197742\n",
       "ADATE_15    0.686255\n",
       "ADATE_16    0.213432\n",
       "ADATE_17    0.289796\n",
       "ADATE_18    0.222855\n",
       "ADATE_19    0.256572\n",
       "ADATE_20    0.526139\n",
       "ADATE_21    0.369052\n",
       "ADATE_22    0.268813\n",
       "ADATE_23    0.589758\n",
       "ADATE_24    0.387509\n",
       "dtype: float64"
      ]
     },
     "metadata": {},
     "execution_count": 66
    }
   ],
   "source": [
    "# % of NaN\n",
    "df[ADATE_COLS].isna().sum() / df[ADATE_COLS].shape[0]"
   ]
  },
  {
   "cell_type": "code",
   "execution_count": 62,
   "metadata": {},
   "outputs": [
    {
     "output_type": "execute_result",
     "data": {
      "text/plain": [
       "      ADATE_2     ADATE_3     ADATE_4     ADATE_5     ADATE_6     ADATE_7     ADATE_8     ADATE_9    ADATE_10    ADATE_11    ADATE_12    ADATE_13    ADATE_14    ADATE_15    ADATE_16    ADATE_17    ADATE_18    ADATE_19    ADATE_20    ADATE_21    ADATE_22    ADATE_23    ADATE_24\n",
       "0  2017-06-01  2016-06-01  2016-04-01  2016-04-01  2016-03-01  2016-02-01  2016-01-01  2015-11-01  2015-10-01  2015-10-01  2015-08-01  2015-07-01  2015-06-01  2015-04-01  2015-03-01  2015-02-01  2015-01-01  2014-11-01  2014-11-01  2014-10-01  2014-09-01  2014-07-01  2014-06-01\n",
       "4  2017-06-01  2016-06-01  2016-04-01  2016-04-01  2016-03-01  2015-12-01  2016-01-01  2015-11-01  2015-10-01  2015-09-01  2015-08-01  2015-02-01  2015-06-01         NaN  2015-03-01  2015-02-01  2014-12-01  2014-11-01  2014-11-01  2014-10-01  2015-06-01  2014-07-01  2014-06-01"
      ],
      "text/html": "<div>\n<style scoped>\n    .dataframe tbody tr th:only-of-type {\n        vertical-align: middle;\n    }\n\n    .dataframe tbody tr th {\n        vertical-align: top;\n    }\n\n    .dataframe thead th {\n        text-align: right;\n    }\n</style>\n<table border=\"1\" class=\"dataframe\">\n  <thead>\n    <tr style=\"text-align: right;\">\n      <th></th>\n      <th>ADATE_2</th>\n      <th>ADATE_3</th>\n      <th>ADATE_4</th>\n      <th>ADATE_5</th>\n      <th>ADATE_6</th>\n      <th>ADATE_7</th>\n      <th>ADATE_8</th>\n      <th>ADATE_9</th>\n      <th>ADATE_10</th>\n      <th>ADATE_11</th>\n      <th>ADATE_12</th>\n      <th>ADATE_13</th>\n      <th>ADATE_14</th>\n      <th>ADATE_15</th>\n      <th>ADATE_16</th>\n      <th>ADATE_17</th>\n      <th>ADATE_18</th>\n      <th>ADATE_19</th>\n      <th>ADATE_20</th>\n      <th>ADATE_21</th>\n      <th>ADATE_22</th>\n      <th>ADATE_23</th>\n      <th>ADATE_24</th>\n    </tr>\n  </thead>\n  <tbody>\n    <tr>\n      <th>0</th>\n      <td>2017-06-01</td>\n      <td>2016-06-01</td>\n      <td>2016-04-01</td>\n      <td>2016-04-01</td>\n      <td>2016-03-01</td>\n      <td>2016-02-01</td>\n      <td>2016-01-01</td>\n      <td>2015-11-01</td>\n      <td>2015-10-01</td>\n      <td>2015-10-01</td>\n      <td>2015-08-01</td>\n      <td>2015-07-01</td>\n      <td>2015-06-01</td>\n      <td>2015-04-01</td>\n      <td>2015-03-01</td>\n      <td>2015-02-01</td>\n      <td>2015-01-01</td>\n      <td>2014-11-01</td>\n      <td>2014-11-01</td>\n      <td>2014-10-01</td>\n      <td>2014-09-01</td>\n      <td>2014-07-01</td>\n      <td>2014-06-01</td>\n    </tr>\n    <tr>\n      <th>4</th>\n      <td>2017-06-01</td>\n      <td>2016-06-01</td>\n      <td>2016-04-01</td>\n      <td>2016-04-01</td>\n      <td>2016-03-01</td>\n      <td>2015-12-01</td>\n      <td>2016-01-01</td>\n      <td>2015-11-01</td>\n      <td>2015-10-01</td>\n      <td>2015-09-01</td>\n      <td>2015-08-01</td>\n      <td>2015-02-01</td>\n      <td>2015-06-01</td>\n      <td>NaN</td>\n      <td>2015-03-01</td>\n      <td>2015-02-01</td>\n      <td>2014-12-01</td>\n      <td>2014-11-01</td>\n      <td>2014-11-01</td>\n      <td>2014-10-01</td>\n      <td>2015-06-01</td>\n      <td>2014-07-01</td>\n      <td>2014-06-01</td>\n    </tr>\n  </tbody>\n</table>\n</div>"
     },
     "metadata": {},
     "execution_count": 62
    }
   ],
   "source": [
    "df[ADATE_COLS].loc[[0,4]]"
   ]
  },
  {
   "source": [
    "## Generate from ADATE binary columns\n",
    "### Columns will hold if the user received promotion mail or not"
   ],
   "cell_type": "markdown",
   "metadata": {}
  },
  {
   "cell_type": "code",
   "execution_count": 52,
   "metadata": {},
   "outputs": [],
   "source": [
    "new_cols = [df[col].apply(lambda day: 0 if day is np.nan else 1).rename('participated_%s' % col) for col in ADATE_COLS]"
   ]
  },
  {
   "cell_type": "code",
   "execution_count": 53,
   "metadata": {},
   "outputs": [
    {
     "output_type": "execute_result",
     "data": {
      "text/plain": [
       "       participated_ADATE_2  participated_ADATE_3  participated_ADATE_4  \\\n",
       "0                         1                     1                     1   \n",
       "1                         1                     1                     1   \n",
       "2                         1                     1                     1   \n",
       "3                         1                     1                     1   \n",
       "4                         1                     1                     1   \n",
       "...                     ...                   ...                   ...   \n",
       "95407                     1                     1                     1   \n",
       "95408                     1                     0                     0   \n",
       "95409                     1                     1                     1   \n",
       "95410                     1                     1                     1   \n",
       "95411                     1                     1                     1   \n",
       "\n",
       "       participated_ADATE_5  participated_ADATE_6  participated_ADATE_7  \\\n",
       "0                         1                     1                     1   \n",
       "1                         1                     1                     1   \n",
       "2                         1                     1                     1   \n",
       "3                         1                     1                     1   \n",
       "4                         1                     1                     1   \n",
       "...                     ...                   ...                   ...   \n",
       "95407                     0                     1                     1   \n",
       "95408                     0                     0                     1   \n",
       "95409                     1                     1                     0   \n",
       "95410                     1                     1                     1   \n",
       "95411                     1                     1                     1   \n",
       "\n",
       "       participated_ADATE_8  participated_ADATE_9  participated_ADATE_10  \\\n",
       "0                         1                     1                      1   \n",
       "1                         1                     1                      1   \n",
       "2                         1                     1                      0   \n",
       "3                         1                     1                      0   \n",
       "4                         1                     1                      1   \n",
       "...                     ...                   ...                    ...   \n",
       "95407                     1                     0                      0   \n",
       "95408                     1                     0                      0   \n",
       "95409                     1                     1                      1   \n",
       "95410                     1                     1                      1   \n",
       "95411                     1                     1                      1   \n",
       "\n",
       "       participated_ADATE_11  ...  participated_ADATE_15  \\\n",
       "0                          1  ...                      1   \n",
       "1                          1  ...                      0   \n",
       "2                          1  ...                      1   \n",
       "3                          1  ...                      1   \n",
       "4                          1  ...                      0   \n",
       "...                      ...  ...                    ...   \n",
       "95407                      0  ...                      0   \n",
       "95408                      0  ...                      0   \n",
       "95409                      1  ...                      1   \n",
       "95410                      1  ...                      1   \n",
       "95411                      1  ...                      1   \n",
       "\n",
       "       participated_ADATE_16  participated_ADATE_17  participated_ADATE_18  \\\n",
       "0                          1                      1                      1   \n",
       "1                          1                      0                      0   \n",
       "2                          1                      0                      1   \n",
       "3                          1                      1                      1   \n",
       "4                          1                      1                      1   \n",
       "...                      ...                    ...                    ...   \n",
       "95407                      0                      0                      0   \n",
       "95408                      0                      0                      0   \n",
       "95409                      1                      0                      1   \n",
       "95410                      1                      1                      1   \n",
       "95411                      1                      1                      1   \n",
       "\n",
       "       participated_ADATE_19  participated_ADATE_20  participated_ADATE_21  \\\n",
       "0                          1                      1                      1   \n",
       "1                          1                      1                      1   \n",
       "2                          1                      0                      0   \n",
       "3                          1                      1                      1   \n",
       "4                          1                      1                      1   \n",
       "...                      ...                    ...                    ...   \n",
       "95407                      0                      0                      0   \n",
       "95408                      0                      0                      0   \n",
       "95409                      0                      0                      1   \n",
       "95410                      1                      1                      1   \n",
       "95411                      1                      1                      1   \n",
       "\n",
       "       participated_ADATE_22  participated_ADATE_23  participated_ADATE_24  \n",
       "0                          1                      1                      1  \n",
       "1                          1                      0                      1  \n",
       "2                          1                      1                      1  \n",
       "3                          1                      0                      0  \n",
       "4                          1                      1                      1  \n",
       "...                      ...                    ...                    ...  \n",
       "95407                      0                      0                      0  \n",
       "95408                      0                      0                      0  \n",
       "95409                      1                      0                      0  \n",
       "95410                      1                      1                      1  \n",
       "95411                      1                      1                      1  \n",
       "\n",
       "[95412 rows x 23 columns]"
      ],
      "text/html": "<div>\n<style scoped>\n    .dataframe tbody tr th:only-of-type {\n        vertical-align: middle;\n    }\n\n    .dataframe tbody tr th {\n        vertical-align: top;\n    }\n\n    .dataframe thead th {\n        text-align: right;\n    }\n</style>\n<table border=\"1\" class=\"dataframe\">\n  <thead>\n    <tr style=\"text-align: right;\">\n      <th></th>\n      <th>participated_ADATE_2</th>\n      <th>participated_ADATE_3</th>\n      <th>participated_ADATE_4</th>\n      <th>participated_ADATE_5</th>\n      <th>participated_ADATE_6</th>\n      <th>participated_ADATE_7</th>\n      <th>participated_ADATE_8</th>\n      <th>participated_ADATE_9</th>\n      <th>participated_ADATE_10</th>\n      <th>participated_ADATE_11</th>\n      <th>...</th>\n      <th>participated_ADATE_15</th>\n      <th>participated_ADATE_16</th>\n      <th>participated_ADATE_17</th>\n      <th>participated_ADATE_18</th>\n      <th>participated_ADATE_19</th>\n      <th>participated_ADATE_20</th>\n      <th>participated_ADATE_21</th>\n      <th>participated_ADATE_22</th>\n      <th>participated_ADATE_23</th>\n      <th>participated_ADATE_24</th>\n    </tr>\n  </thead>\n  <tbody>\n    <tr>\n      <th>0</th>\n      <td>1</td>\n      <td>1</td>\n      <td>1</td>\n      <td>1</td>\n      <td>1</td>\n      <td>1</td>\n      <td>1</td>\n      <td>1</td>\n      <td>1</td>\n      <td>1</td>\n      <td>...</td>\n      <td>1</td>\n      <td>1</td>\n      <td>1</td>\n      <td>1</td>\n      <td>1</td>\n      <td>1</td>\n      <td>1</td>\n      <td>1</td>\n      <td>1</td>\n      <td>1</td>\n    </tr>\n    <tr>\n      <th>1</th>\n      <td>1</td>\n      <td>1</td>\n      <td>1</td>\n      <td>1</td>\n      <td>1</td>\n      <td>1</td>\n      <td>1</td>\n      <td>1</td>\n      <td>1</td>\n      <td>1</td>\n      <td>...</td>\n      <td>0</td>\n      <td>1</td>\n      <td>0</td>\n      <td>0</td>\n      <td>1</td>\n      <td>1</td>\n      <td>1</td>\n      <td>1</td>\n      <td>0</td>\n      <td>1</td>\n    </tr>\n    <tr>\n      <th>2</th>\n      <td>1</td>\n      <td>1</td>\n      <td>1</td>\n      <td>1</td>\n      <td>1</td>\n      <td>1</td>\n      <td>1</td>\n      <td>1</td>\n      <td>0</td>\n      <td>1</td>\n      <td>...</td>\n      <td>1</td>\n      <td>1</td>\n      <td>0</td>\n      <td>1</td>\n      <td>1</td>\n      <td>0</td>\n      <td>0</td>\n      <td>1</td>\n      <td>1</td>\n      <td>1</td>\n    </tr>\n    <tr>\n      <th>3</th>\n      <td>1</td>\n      <td>1</td>\n      <td>1</td>\n      <td>1</td>\n      <td>1</td>\n      <td>1</td>\n      <td>1</td>\n      <td>1</td>\n      <td>0</td>\n      <td>1</td>\n      <td>...</td>\n      <td>1</td>\n      <td>1</td>\n      <td>1</td>\n      <td>1</td>\n      <td>1</td>\n      <td>1</td>\n      <td>1</td>\n      <td>1</td>\n      <td>0</td>\n      <td>0</td>\n    </tr>\n    <tr>\n      <th>4</th>\n      <td>1</td>\n      <td>1</td>\n      <td>1</td>\n      <td>1</td>\n      <td>1</td>\n      <td>1</td>\n      <td>1</td>\n      <td>1</td>\n      <td>1</td>\n      <td>1</td>\n      <td>...</td>\n      <td>0</td>\n      <td>1</td>\n      <td>1</td>\n      <td>1</td>\n      <td>1</td>\n      <td>1</td>\n      <td>1</td>\n      <td>1</td>\n      <td>1</td>\n      <td>1</td>\n    </tr>\n    <tr>\n      <th>...</th>\n      <td>...</td>\n      <td>...</td>\n      <td>...</td>\n      <td>...</td>\n      <td>...</td>\n      <td>...</td>\n      <td>...</td>\n      <td>...</td>\n      <td>...</td>\n      <td>...</td>\n      <td>...</td>\n      <td>...</td>\n      <td>...</td>\n      <td>...</td>\n      <td>...</td>\n      <td>...</td>\n      <td>...</td>\n      <td>...</td>\n      <td>...</td>\n      <td>...</td>\n      <td>...</td>\n    </tr>\n    <tr>\n      <th>95407</th>\n      <td>1</td>\n      <td>1</td>\n      <td>1</td>\n      <td>0</td>\n      <td>1</td>\n      <td>1</td>\n      <td>1</td>\n      <td>0</td>\n      <td>0</td>\n      <td>0</td>\n      <td>...</td>\n      <td>0</td>\n      <td>0</td>\n      <td>0</td>\n      <td>0</td>\n      <td>0</td>\n      <td>0</td>\n      <td>0</td>\n      <td>0</td>\n      <td>0</td>\n      <td>0</td>\n    </tr>\n    <tr>\n      <th>95408</th>\n      <td>1</td>\n      <td>0</td>\n      <td>0</td>\n      <td>0</td>\n      <td>0</td>\n      <td>1</td>\n      <td>1</td>\n      <td>0</td>\n      <td>0</td>\n      <td>0</td>\n      <td>...</td>\n      <td>0</td>\n      <td>0</td>\n      <td>0</td>\n      <td>0</td>\n      <td>0</td>\n      <td>0</td>\n      <td>0</td>\n      <td>0</td>\n      <td>0</td>\n      <td>0</td>\n    </tr>\n    <tr>\n      <th>95409</th>\n      <td>1</td>\n      <td>1</td>\n      <td>1</td>\n      <td>1</td>\n      <td>1</td>\n      <td>0</td>\n      <td>1</td>\n      <td>1</td>\n      <td>1</td>\n      <td>1</td>\n      <td>...</td>\n      <td>1</td>\n      <td>1</td>\n      <td>0</td>\n      <td>1</td>\n      <td>0</td>\n      <td>0</td>\n      <td>1</td>\n      <td>1</td>\n      <td>0</td>\n      <td>0</td>\n    </tr>\n    <tr>\n      <th>95410</th>\n      <td>1</td>\n      <td>1</td>\n      <td>1</td>\n      <td>1</td>\n      <td>1</td>\n      <td>1</td>\n      <td>1</td>\n      <td>1</td>\n      <td>1</td>\n      <td>1</td>\n      <td>...</td>\n      <td>1</td>\n      <td>1</td>\n      <td>1</td>\n      <td>1</td>\n      <td>1</td>\n      <td>1</td>\n      <td>1</td>\n      <td>1</td>\n      <td>1</td>\n      <td>1</td>\n    </tr>\n    <tr>\n      <th>95411</th>\n      <td>1</td>\n      <td>1</td>\n      <td>1</td>\n      <td>1</td>\n      <td>1</td>\n      <td>1</td>\n      <td>1</td>\n      <td>1</td>\n      <td>1</td>\n      <td>1</td>\n      <td>...</td>\n      <td>1</td>\n      <td>1</td>\n      <td>1</td>\n      <td>1</td>\n      <td>1</td>\n      <td>1</td>\n      <td>1</td>\n      <td>1</td>\n      <td>1</td>\n      <td>1</td>\n    </tr>\n  </tbody>\n</table>\n<p>95412 rows × 23 columns</p>\n</div>"
     },
     "metadata": {},
     "execution_count": 53
    }
   ],
   "source": [
    "pd.DataFrame(new_cols).transpose()"
   ]
  },
  {
   "cell_type": "markdown",
   "metadata": {},
   "source": [
    "## RDATE SELECTION (DATE GIFT DELIVERY)"
   ]
  },
  {
   "cell_type": "code",
   "execution_count": 24,
   "metadata": {},
   "outputs": [],
   "source": [
    "rdate_re = re.compile(pattern='^RDATE_\\d{1,2}')"
   ]
  },
  {
   "cell_type": "code",
   "execution_count": 25,
   "metadata": {},
   "outputs": [
    {
     "output_type": "execute_result",
     "data": {
      "text/plain": [
       "      RDATE_3     RDATE_4 RDATE_5 RDATE_6     RDATE_7     RDATE_8     RDATE_9  \\\n",
       "0         NaN         NaN     NaN     NaN         NaN         NaN         NaN   \n",
       "1         NaN         NaN     NaN     NaN         NaN         NaN  2015-12-01   \n",
       "2         NaN         NaN     NaN     NaN         NaN         NaN         NaN   \n",
       "3         NaN         NaN     NaN     NaN         NaN         NaN         NaN   \n",
       "4         NaN         NaN     NaN     NaN         NaN  2016-01-01         NaN   \n",
       "...       ...         ...     ...     ...         ...         ...         ...   \n",
       "95407     NaN         NaN     NaN     NaN  2016-02-01         NaN         NaN   \n",
       "95408     NaN         NaN     NaN     NaN  2016-03-01         NaN         NaN   \n",
       "95409     NaN         NaN     NaN     NaN         NaN  2016-01-01         NaN   \n",
       "95410     NaN  2016-08-01     NaN     NaN         NaN         NaN         NaN   \n",
       "95411     NaN         NaN     NaN     NaN         NaN         NaN         NaN   \n",
       "\n",
       "         RDATE_10    RDATE_11    RDATE_12  ...    RDATE_15    RDATE_16  \\\n",
       "0      2015-12-01         NaN         NaN  ...  2015-05-01  2015-05-01   \n",
       "1             NaN         NaN         NaN  ...         NaN  2015-04-01   \n",
       "2             NaN         NaN  2015-09-01  ...         NaN  2015-04-01   \n",
       "3             NaN  2015-12-01  2015-09-01  ...         NaN  2015-05-01   \n",
       "4             NaN         NaN         NaN  ...         NaN         NaN   \n",
       "...           ...         ...         ...  ...         ...         ...   \n",
       "95407         NaN         NaN         NaN  ...         NaN         NaN   \n",
       "95408         NaN         NaN         NaN  ...         NaN         NaN   \n",
       "95409         NaN         NaN  2015-10-01  ...         NaN         NaN   \n",
       "95410  2015-12-01  2015-11-01         NaN  ...  2015-07-01  2015-06-01   \n",
       "95411         NaN  2015-11-01         NaN  ...         NaN         NaN   \n",
       "\n",
       "         RDATE_17    RDATE_18 RDATE_19    RDATE_20    RDATE_21    RDATE_22  \\\n",
       "0      2015-03-01         NaN      NaN         NaN         NaN         NaN   \n",
       "1             NaN         NaN      NaN         NaN         NaN         NaN   \n",
       "2             NaN  2015-01-01      NaN         NaN         NaN  2014-09-01   \n",
       "3      2015-03-01         NaN      NaN  2014-11-01  2014-11-01         NaN   \n",
       "4             NaN         NaN      NaN         NaN         NaN         NaN   \n",
       "...           ...         ...      ...         ...         ...         ...   \n",
       "95407         NaN         NaN      NaN         NaN         NaN         NaN   \n",
       "95408         NaN         NaN      NaN         NaN         NaN         NaN   \n",
       "95409         NaN  2015-01-01      NaN         NaN         NaN  2014-10-01   \n",
       "95410         NaN  2015-02-01      NaN         NaN  2015-01-01  2014-10-01   \n",
       "95411         NaN         NaN      NaN         NaN         NaN         NaN   \n",
       "\n",
       "         RDATE_23    RDATE_24  \n",
       "0      2014-08-01  2014-06-01  \n",
       "1             NaN         NaN  \n",
       "2      2014-07-01  2014-06-01  \n",
       "3             NaN         NaN  \n",
       "4             NaN         NaN  \n",
       "...           ...         ...  \n",
       "95407         NaN         NaN  \n",
       "95408         NaN         NaN  \n",
       "95409         NaN         NaN  \n",
       "95410         NaN         NaN  \n",
       "95411  2014-07-01         NaN  \n",
       "\n",
       "[95412 rows x 22 columns]"
      ],
      "text/html": "<div>\n<style scoped>\n    .dataframe tbody tr th:only-of-type {\n        vertical-align: middle;\n    }\n\n    .dataframe tbody tr th {\n        vertical-align: top;\n    }\n\n    .dataframe thead th {\n        text-align: right;\n    }\n</style>\n<table border=\"1\" class=\"dataframe\">\n  <thead>\n    <tr style=\"text-align: right;\">\n      <th></th>\n      <th>RDATE_3</th>\n      <th>RDATE_4</th>\n      <th>RDATE_5</th>\n      <th>RDATE_6</th>\n      <th>RDATE_7</th>\n      <th>RDATE_8</th>\n      <th>RDATE_9</th>\n      <th>RDATE_10</th>\n      <th>RDATE_11</th>\n      <th>RDATE_12</th>\n      <th>...</th>\n      <th>RDATE_15</th>\n      <th>RDATE_16</th>\n      <th>RDATE_17</th>\n      <th>RDATE_18</th>\n      <th>RDATE_19</th>\n      <th>RDATE_20</th>\n      <th>RDATE_21</th>\n      <th>RDATE_22</th>\n      <th>RDATE_23</th>\n      <th>RDATE_24</th>\n    </tr>\n  </thead>\n  <tbody>\n    <tr>\n      <th>0</th>\n      <td>NaN</td>\n      <td>NaN</td>\n      <td>NaN</td>\n      <td>NaN</td>\n      <td>NaN</td>\n      <td>NaN</td>\n      <td>NaN</td>\n      <td>2015-12-01</td>\n      <td>NaN</td>\n      <td>NaN</td>\n      <td>...</td>\n      <td>2015-05-01</td>\n      <td>2015-05-01</td>\n      <td>2015-03-01</td>\n      <td>NaN</td>\n      <td>NaN</td>\n      <td>NaN</td>\n      <td>NaN</td>\n      <td>NaN</td>\n      <td>2014-08-01</td>\n      <td>2014-06-01</td>\n    </tr>\n    <tr>\n      <th>1</th>\n      <td>NaN</td>\n      <td>NaN</td>\n      <td>NaN</td>\n      <td>NaN</td>\n      <td>NaN</td>\n      <td>NaN</td>\n      <td>2015-12-01</td>\n      <td>NaN</td>\n      <td>NaN</td>\n      <td>NaN</td>\n      <td>...</td>\n      <td>NaN</td>\n      <td>2015-04-01</td>\n      <td>NaN</td>\n      <td>NaN</td>\n      <td>NaN</td>\n      <td>NaN</td>\n      <td>NaN</td>\n      <td>NaN</td>\n      <td>NaN</td>\n      <td>NaN</td>\n    </tr>\n    <tr>\n      <th>2</th>\n      <td>NaN</td>\n      <td>NaN</td>\n      <td>NaN</td>\n      <td>NaN</td>\n      <td>NaN</td>\n      <td>NaN</td>\n      <td>NaN</td>\n      <td>NaN</td>\n      <td>NaN</td>\n      <td>2015-09-01</td>\n      <td>...</td>\n      <td>NaN</td>\n      <td>2015-04-01</td>\n      <td>NaN</td>\n      <td>2015-01-01</td>\n      <td>NaN</td>\n      <td>NaN</td>\n      <td>NaN</td>\n      <td>2014-09-01</td>\n      <td>2014-07-01</td>\n      <td>2014-06-01</td>\n    </tr>\n    <tr>\n      <th>3</th>\n      <td>NaN</td>\n      <td>NaN</td>\n      <td>NaN</td>\n      <td>NaN</td>\n      <td>NaN</td>\n      <td>NaN</td>\n      <td>NaN</td>\n      <td>NaN</td>\n      <td>2015-12-01</td>\n      <td>2015-09-01</td>\n      <td>...</td>\n      <td>NaN</td>\n      <td>2015-05-01</td>\n      <td>2015-03-01</td>\n      <td>NaN</td>\n      <td>NaN</td>\n      <td>2014-11-01</td>\n      <td>2014-11-01</td>\n      <td>NaN</td>\n      <td>NaN</td>\n      <td>NaN</td>\n    </tr>\n    <tr>\n      <th>4</th>\n      <td>NaN</td>\n      <td>NaN</td>\n      <td>NaN</td>\n      <td>NaN</td>\n      <td>NaN</td>\n      <td>2016-01-01</td>\n      <td>NaN</td>\n      <td>NaN</td>\n      <td>NaN</td>\n      <td>NaN</td>\n      <td>...</td>\n      <td>NaN</td>\n      <td>NaN</td>\n      <td>NaN</td>\n      <td>NaN</td>\n      <td>NaN</td>\n      <td>NaN</td>\n      <td>NaN</td>\n      <td>NaN</td>\n      <td>NaN</td>\n      <td>NaN</td>\n    </tr>\n    <tr>\n      <th>...</th>\n      <td>...</td>\n      <td>...</td>\n      <td>...</td>\n      <td>...</td>\n      <td>...</td>\n      <td>...</td>\n      <td>...</td>\n      <td>...</td>\n      <td>...</td>\n      <td>...</td>\n      <td>...</td>\n      <td>...</td>\n      <td>...</td>\n      <td>...</td>\n      <td>...</td>\n      <td>...</td>\n      <td>...</td>\n      <td>...</td>\n      <td>...</td>\n      <td>...</td>\n      <td>...</td>\n    </tr>\n    <tr>\n      <th>95407</th>\n      <td>NaN</td>\n      <td>NaN</td>\n      <td>NaN</td>\n      <td>NaN</td>\n      <td>2016-02-01</td>\n      <td>NaN</td>\n      <td>NaN</td>\n      <td>NaN</td>\n      <td>NaN</td>\n      <td>NaN</td>\n      <td>...</td>\n      <td>NaN</td>\n      <td>NaN</td>\n      <td>NaN</td>\n      <td>NaN</td>\n      <td>NaN</td>\n      <td>NaN</td>\n      <td>NaN</td>\n      <td>NaN</td>\n      <td>NaN</td>\n      <td>NaN</td>\n    </tr>\n    <tr>\n      <th>95408</th>\n      <td>NaN</td>\n      <td>NaN</td>\n      <td>NaN</td>\n      <td>NaN</td>\n      <td>2016-03-01</td>\n      <td>NaN</td>\n      <td>NaN</td>\n      <td>NaN</td>\n      <td>NaN</td>\n      <td>NaN</td>\n      <td>...</td>\n      <td>NaN</td>\n      <td>NaN</td>\n      <td>NaN</td>\n      <td>NaN</td>\n      <td>NaN</td>\n      <td>NaN</td>\n      <td>NaN</td>\n      <td>NaN</td>\n      <td>NaN</td>\n      <td>NaN</td>\n    </tr>\n    <tr>\n      <th>95409</th>\n      <td>NaN</td>\n      <td>NaN</td>\n      <td>NaN</td>\n      <td>NaN</td>\n      <td>NaN</td>\n      <td>2016-01-01</td>\n      <td>NaN</td>\n      <td>NaN</td>\n      <td>NaN</td>\n      <td>2015-10-01</td>\n      <td>...</td>\n      <td>NaN</td>\n      <td>NaN</td>\n      <td>NaN</td>\n      <td>2015-01-01</td>\n      <td>NaN</td>\n      <td>NaN</td>\n      <td>NaN</td>\n      <td>2014-10-01</td>\n      <td>NaN</td>\n      <td>NaN</td>\n    </tr>\n    <tr>\n      <th>95410</th>\n      <td>NaN</td>\n      <td>2016-08-01</td>\n      <td>NaN</td>\n      <td>NaN</td>\n      <td>NaN</td>\n      <td>NaN</td>\n      <td>NaN</td>\n      <td>2015-12-01</td>\n      <td>2015-11-01</td>\n      <td>NaN</td>\n      <td>...</td>\n      <td>2015-07-01</td>\n      <td>2015-06-01</td>\n      <td>NaN</td>\n      <td>2015-02-01</td>\n      <td>NaN</td>\n      <td>NaN</td>\n      <td>2015-01-01</td>\n      <td>2014-10-01</td>\n      <td>NaN</td>\n      <td>NaN</td>\n    </tr>\n    <tr>\n      <th>95411</th>\n      <td>NaN</td>\n      <td>NaN</td>\n      <td>NaN</td>\n      <td>NaN</td>\n      <td>NaN</td>\n      <td>NaN</td>\n      <td>NaN</td>\n      <td>NaN</td>\n      <td>2015-11-01</td>\n      <td>NaN</td>\n      <td>...</td>\n      <td>NaN</td>\n      <td>NaN</td>\n      <td>NaN</td>\n      <td>NaN</td>\n      <td>NaN</td>\n      <td>NaN</td>\n      <td>NaN</td>\n      <td>NaN</td>\n      <td>2014-07-01</td>\n      <td>NaN</td>\n    </tr>\n  </tbody>\n</table>\n<p>95412 rows × 22 columns</p>\n</div>"
     },
     "metadata": {},
     "execution_count": 25
    }
   ],
   "source": [
    "RDATE_COLS = list(filter(rdate_re.match, df.columns))\n",
    "working_variables_dic['RDATE'] = RDATE_COLS\n",
    "\n",
    "fill_NaN(RDATE_COLS, df)\n",
    "df[RDATE_COLS]"
   ]
  },
  {
   "cell_type": "markdown",
   "metadata": {},
   "source": [
    "## RFA COLS (PVA ANALYSIS)"
   ]
  },
  {
   "cell_type": "code",
   "execution_count": 26,
   "metadata": {},
   "outputs": [],
   "source": [
    "rfa_re = re.compile(pattern='^RFA_\\d{1,2}')"
   ]
  },
  {
   "cell_type": "code",
   "execution_count": 27,
   "metadata": {},
   "outputs": [
    {
     "output_type": "execute_result",
     "data": {
      "text/plain": [
       "      RFA_2 RFA_3 RFA_4 RFA_5 RFA_6 RFA_7 RFA_8 RFA_9 RFA_10 RFA_11  ...  \\\n",
       "0       L4E   S4E   S4E   S4E   S4E   S4E   S4E   S4E    S4E    S4E  ...   \n",
       "1       L2G   A2G   A2G   A2G   A2G   A1E   A1E   A1E    A1E    A1E  ...   \n",
       "2       L4E   S4E   S4E   S4E   S4E   S4F   S4F   S4F    NaN    S4F  ...   \n",
       "3       L4E   S4E   S4E   S4E   S4E   S4E   S4E   S4E    NaN    S4E  ...   \n",
       "4       L2F   A2F   A2F   A2F   A1D   I2D   A1E   A1E    L1D    A1E  ...   \n",
       "...     ...   ...   ...   ...   ...   ...   ...   ...    ...    ...  ...   \n",
       "95407   L1G   F1G   F1G   NaN   F1G   P1G   P1G   NaN    NaN    NaN  ...   \n",
       "95408   L1F   NaN   NaN   NaN   NaN   P1F   P1F   NaN    NaN    NaN  ...   \n",
       "95409   L3E   S4E   S4E   S3E   S3E   NaN   A2E   N3E    N3E    N3E  ...   \n",
       "95410   L4F   S4F   A3F   S4F   S4F   S4F   S4F   S4F    S4F    S4F  ...   \n",
       "95411   L1G   A1G   A1G   A1G   A1G   L3G   L3G   L4G    A1G    A1G  ...   \n",
       "\n",
       "      RFA_18 RFA_19 RFA_20 RFA_21 RFA_22 RFA_23 RFA_24 RFA_2R RFA_2F RFA_2A  \n",
       "0        S4E    S4E    S4E    S4E    S4E    S4E    S4E      L      4      E  \n",
       "1        NaN    N1E    N1E    N1E    N1E    NaN    F1E      L      2      G  \n",
       "2        S4D    S4D    NaN    NaN    S4D    S4D    S3D      L      4      E  \n",
       "3        S2D    A1D    A1D    A1D    A1D    NaN    NaN      L      4      E  \n",
       "4        A2D    A3D    A3D    A3D    I4E    A3D    A3D      L      2      F  \n",
       "...      ...    ...    ...    ...    ...    ...    ...    ...    ...    ...  \n",
       "95407    NaN    NaN    NaN    NaN    NaN    NaN    NaN      L      1      G  \n",
       "95408    NaN    NaN    NaN    NaN    NaN    NaN    NaN      L      1      F  \n",
       "95409    F1D    NaN    NaN    P1D    P1D    NaN    NaN      L      3      E  \n",
       "95410    S2F    A1F    A1F    A1F    A1F    S2F    S3F      L      4      F  \n",
       "95411    S3G    S4G    S3G    S3G    S3G    S3G    S3G      L      1      G  \n",
       "\n",
       "[95412 rows x 26 columns]"
      ],
      "text/html": "<div>\n<style scoped>\n    .dataframe tbody tr th:only-of-type {\n        vertical-align: middle;\n    }\n\n    .dataframe tbody tr th {\n        vertical-align: top;\n    }\n\n    .dataframe thead th {\n        text-align: right;\n    }\n</style>\n<table border=\"1\" class=\"dataframe\">\n  <thead>\n    <tr style=\"text-align: right;\">\n      <th></th>\n      <th>RFA_2</th>\n      <th>RFA_3</th>\n      <th>RFA_4</th>\n      <th>RFA_5</th>\n      <th>RFA_6</th>\n      <th>RFA_7</th>\n      <th>RFA_8</th>\n      <th>RFA_9</th>\n      <th>RFA_10</th>\n      <th>RFA_11</th>\n      <th>...</th>\n      <th>RFA_18</th>\n      <th>RFA_19</th>\n      <th>RFA_20</th>\n      <th>RFA_21</th>\n      <th>RFA_22</th>\n      <th>RFA_23</th>\n      <th>RFA_24</th>\n      <th>RFA_2R</th>\n      <th>RFA_2F</th>\n      <th>RFA_2A</th>\n    </tr>\n  </thead>\n  <tbody>\n    <tr>\n      <th>0</th>\n      <td>L4E</td>\n      <td>S4E</td>\n      <td>S4E</td>\n      <td>S4E</td>\n      <td>S4E</td>\n      <td>S4E</td>\n      <td>S4E</td>\n      <td>S4E</td>\n      <td>S4E</td>\n      <td>S4E</td>\n      <td>...</td>\n      <td>S4E</td>\n      <td>S4E</td>\n      <td>S4E</td>\n      <td>S4E</td>\n      <td>S4E</td>\n      <td>S4E</td>\n      <td>S4E</td>\n      <td>L</td>\n      <td>4</td>\n      <td>E</td>\n    </tr>\n    <tr>\n      <th>1</th>\n      <td>L2G</td>\n      <td>A2G</td>\n      <td>A2G</td>\n      <td>A2G</td>\n      <td>A2G</td>\n      <td>A1E</td>\n      <td>A1E</td>\n      <td>A1E</td>\n      <td>A1E</td>\n      <td>A1E</td>\n      <td>...</td>\n      <td>NaN</td>\n      <td>N1E</td>\n      <td>N1E</td>\n      <td>N1E</td>\n      <td>N1E</td>\n      <td>NaN</td>\n      <td>F1E</td>\n      <td>L</td>\n      <td>2</td>\n      <td>G</td>\n    </tr>\n    <tr>\n      <th>2</th>\n      <td>L4E</td>\n      <td>S4E</td>\n      <td>S4E</td>\n      <td>S4E</td>\n      <td>S4E</td>\n      <td>S4F</td>\n      <td>S4F</td>\n      <td>S4F</td>\n      <td>NaN</td>\n      <td>S4F</td>\n      <td>...</td>\n      <td>S4D</td>\n      <td>S4D</td>\n      <td>NaN</td>\n      <td>NaN</td>\n      <td>S4D</td>\n      <td>S4D</td>\n      <td>S3D</td>\n      <td>L</td>\n      <td>4</td>\n      <td>E</td>\n    </tr>\n    <tr>\n      <th>3</th>\n      <td>L4E</td>\n      <td>S4E</td>\n      <td>S4E</td>\n      <td>S4E</td>\n      <td>S4E</td>\n      <td>S4E</td>\n      <td>S4E</td>\n      <td>S4E</td>\n      <td>NaN</td>\n      <td>S4E</td>\n      <td>...</td>\n      <td>S2D</td>\n      <td>A1D</td>\n      <td>A1D</td>\n      <td>A1D</td>\n      <td>A1D</td>\n      <td>NaN</td>\n      <td>NaN</td>\n      <td>L</td>\n      <td>4</td>\n      <td>E</td>\n    </tr>\n    <tr>\n      <th>4</th>\n      <td>L2F</td>\n      <td>A2F</td>\n      <td>A2F</td>\n      <td>A2F</td>\n      <td>A1D</td>\n      <td>I2D</td>\n      <td>A1E</td>\n      <td>A1E</td>\n      <td>L1D</td>\n      <td>A1E</td>\n      <td>...</td>\n      <td>A2D</td>\n      <td>A3D</td>\n      <td>A3D</td>\n      <td>A3D</td>\n      <td>I4E</td>\n      <td>A3D</td>\n      <td>A3D</td>\n      <td>L</td>\n      <td>2</td>\n      <td>F</td>\n    </tr>\n    <tr>\n      <th>...</th>\n      <td>...</td>\n      <td>...</td>\n      <td>...</td>\n      <td>...</td>\n      <td>...</td>\n      <td>...</td>\n      <td>...</td>\n      <td>...</td>\n      <td>...</td>\n      <td>...</td>\n      <td>...</td>\n      <td>...</td>\n      <td>...</td>\n      <td>...</td>\n      <td>...</td>\n      <td>...</td>\n      <td>...</td>\n      <td>...</td>\n      <td>...</td>\n      <td>...</td>\n      <td>...</td>\n    </tr>\n    <tr>\n      <th>95407</th>\n      <td>L1G</td>\n      <td>F1G</td>\n      <td>F1G</td>\n      <td>NaN</td>\n      <td>F1G</td>\n      <td>P1G</td>\n      <td>P1G</td>\n      <td>NaN</td>\n      <td>NaN</td>\n      <td>NaN</td>\n      <td>...</td>\n      <td>NaN</td>\n      <td>NaN</td>\n      <td>NaN</td>\n      <td>NaN</td>\n      <td>NaN</td>\n      <td>NaN</td>\n      <td>NaN</td>\n      <td>L</td>\n      <td>1</td>\n      <td>G</td>\n    </tr>\n    <tr>\n      <th>95408</th>\n      <td>L1F</td>\n      <td>NaN</td>\n      <td>NaN</td>\n      <td>NaN</td>\n      <td>NaN</td>\n      <td>P1F</td>\n      <td>P1F</td>\n      <td>NaN</td>\n      <td>NaN</td>\n      <td>NaN</td>\n      <td>...</td>\n      <td>NaN</td>\n      <td>NaN</td>\n      <td>NaN</td>\n      <td>NaN</td>\n      <td>NaN</td>\n      <td>NaN</td>\n      <td>NaN</td>\n      <td>L</td>\n      <td>1</td>\n      <td>F</td>\n    </tr>\n    <tr>\n      <th>95409</th>\n      <td>L3E</td>\n      <td>S4E</td>\n      <td>S4E</td>\n      <td>S3E</td>\n      <td>S3E</td>\n      <td>NaN</td>\n      <td>A2E</td>\n      <td>N3E</td>\n      <td>N3E</td>\n      <td>N3E</td>\n      <td>...</td>\n      <td>F1D</td>\n      <td>NaN</td>\n      <td>NaN</td>\n      <td>P1D</td>\n      <td>P1D</td>\n      <td>NaN</td>\n      <td>NaN</td>\n      <td>L</td>\n      <td>3</td>\n      <td>E</td>\n    </tr>\n    <tr>\n      <th>95410</th>\n      <td>L4F</td>\n      <td>S4F</td>\n      <td>A3F</td>\n      <td>S4F</td>\n      <td>S4F</td>\n      <td>S4F</td>\n      <td>S4F</td>\n      <td>S4F</td>\n      <td>S4F</td>\n      <td>S4F</td>\n      <td>...</td>\n      <td>S2F</td>\n      <td>A1F</td>\n      <td>A1F</td>\n      <td>A1F</td>\n      <td>A1F</td>\n      <td>S2F</td>\n      <td>S3F</td>\n      <td>L</td>\n      <td>4</td>\n      <td>F</td>\n    </tr>\n    <tr>\n      <th>95411</th>\n      <td>L1G</td>\n      <td>A1G</td>\n      <td>A1G</td>\n      <td>A1G</td>\n      <td>A1G</td>\n      <td>L3G</td>\n      <td>L3G</td>\n      <td>L4G</td>\n      <td>A1G</td>\n      <td>A1G</td>\n      <td>...</td>\n      <td>S3G</td>\n      <td>S4G</td>\n      <td>S3G</td>\n      <td>S3G</td>\n      <td>S3G</td>\n      <td>S3G</td>\n      <td>S3G</td>\n      <td>L</td>\n      <td>1</td>\n      <td>G</td>\n    </tr>\n  </tbody>\n</table>\n<p>95412 rows × 26 columns</p>\n</div>"
     },
     "metadata": {},
     "execution_count": 27
    }
   ],
   "source": [
    "RFA_COLS = list(filter(rfa_re.match, df.columns))\n",
    "working_variables_dic['RFA'] = RFA_COLS\n",
    "\n",
    "fill_NaN(RFA_COLS, df)\n",
    "df[RFA_COLS]"
   ]
  },
  {
   "cell_type": "markdown",
   "metadata": {},
   "source": [
    "## RAMNT SELECTION (AMOUNT DONATED)"
   ]
  },
  {
   "cell_type": "code",
   "execution_count": 28,
   "metadata": {},
   "outputs": [],
   "source": [
    "ramnt_re = re.compile(pattern='^RAMNT_\\d{1,2}')"
   ]
  },
  {
   "cell_type": "code",
   "execution_count": 29,
   "metadata": {},
   "outputs": [
    {
     "output_type": "execute_result",
     "data": {
      "text/plain": [
       "       RAMNT_3  RAMNT_4  RAMNT_5  RAMNT_6  RAMNT_7  RAMNT_8  RAMNT_9  \\\n",
       "0          NaN      NaN      NaN      NaN      NaN      NaN      NaN   \n",
       "1          NaN      NaN      NaN      NaN      NaN      NaN     25.0   \n",
       "2          NaN      NaN      NaN      NaN      NaN      NaN      NaN   \n",
       "3          NaN      NaN      NaN      NaN      NaN      NaN      NaN   \n",
       "4          NaN      NaN      NaN      NaN      NaN     15.0      NaN   \n",
       "...        ...      ...      ...      ...      ...      ...      ...   \n",
       "95407      NaN      NaN      NaN      NaN     25.0      NaN      NaN   \n",
       "95408      NaN      NaN      NaN      NaN     20.0      NaN      NaN   \n",
       "95409      NaN      NaN      NaN      NaN      NaN     10.0      NaN   \n",
       "95410      NaN     15.0      NaN      NaN      NaN      NaN      NaN   \n",
       "95411      NaN      NaN      NaN      NaN      NaN      NaN      NaN   \n",
       "\n",
       "       RAMNT_10  RAMNT_11  RAMNT_12  ...  RAMNT_15  RAMNT_16  RAMNT_17  \\\n",
       "0          10.0       NaN       NaN  ...      11.0      11.0      11.0   \n",
       "1           NaN       NaN       NaN  ...       NaN      12.0       NaN   \n",
       "2           NaN       NaN      11.0  ...       NaN       9.0       NaN   \n",
       "3           NaN      10.0      10.0  ...       NaN       7.0      11.0   \n",
       "4           NaN       NaN       NaN  ...       NaN       NaN       NaN   \n",
       "...         ...       ...       ...  ...       ...       ...       ...   \n",
       "95407       NaN       NaN       NaN  ...       NaN       NaN       NaN   \n",
       "95408       NaN       NaN       NaN  ...       NaN       NaN       NaN   \n",
       "95409       NaN       NaN      10.0  ...       NaN       NaN       NaN   \n",
       "95410      18.0      18.0       NaN  ...      18.0      18.0       NaN   \n",
       "95411       NaN     200.0       NaN  ...       NaN       NaN       NaN   \n",
       "\n",
       "       RAMNT_18  RAMNT_19  RAMNT_20  RAMNT_21  RAMNT_22  RAMNT_23  RAMNT_24  \n",
       "0           NaN       NaN       NaN       NaN       NaN      11.0       9.0  \n",
       "1           NaN       NaN       NaN       NaN       NaN       NaN       NaN  \n",
       "2           8.0       NaN       NaN       NaN       8.0       7.0       6.0  \n",
       "3           NaN       NaN       6.0      11.0       NaN       NaN       NaN  \n",
       "4           NaN       NaN       NaN       NaN       NaN       NaN       NaN  \n",
       "...         ...       ...       ...       ...       ...       ...       ...  \n",
       "95407       NaN       NaN       NaN       NaN       NaN       NaN       NaN  \n",
       "95408       NaN       NaN       NaN       NaN       NaN       NaN       NaN  \n",
       "95409      10.0       NaN       NaN       NaN       5.0       NaN       NaN  \n",
       "95410      15.0       NaN       NaN      15.0      20.0       NaN       NaN  \n",
       "95411       NaN       NaN       NaN       NaN       NaN     125.0       NaN  \n",
       "\n",
       "[95412 rows x 22 columns]"
      ],
      "text/html": "<div>\n<style scoped>\n    .dataframe tbody tr th:only-of-type {\n        vertical-align: middle;\n    }\n\n    .dataframe tbody tr th {\n        vertical-align: top;\n    }\n\n    .dataframe thead th {\n        text-align: right;\n    }\n</style>\n<table border=\"1\" class=\"dataframe\">\n  <thead>\n    <tr style=\"text-align: right;\">\n      <th></th>\n      <th>RAMNT_3</th>\n      <th>RAMNT_4</th>\n      <th>RAMNT_5</th>\n      <th>RAMNT_6</th>\n      <th>RAMNT_7</th>\n      <th>RAMNT_8</th>\n      <th>RAMNT_9</th>\n      <th>RAMNT_10</th>\n      <th>RAMNT_11</th>\n      <th>RAMNT_12</th>\n      <th>...</th>\n      <th>RAMNT_15</th>\n      <th>RAMNT_16</th>\n      <th>RAMNT_17</th>\n      <th>RAMNT_18</th>\n      <th>RAMNT_19</th>\n      <th>RAMNT_20</th>\n      <th>RAMNT_21</th>\n      <th>RAMNT_22</th>\n      <th>RAMNT_23</th>\n      <th>RAMNT_24</th>\n    </tr>\n  </thead>\n  <tbody>\n    <tr>\n      <th>0</th>\n      <td>NaN</td>\n      <td>NaN</td>\n      <td>NaN</td>\n      <td>NaN</td>\n      <td>NaN</td>\n      <td>NaN</td>\n      <td>NaN</td>\n      <td>10.0</td>\n      <td>NaN</td>\n      <td>NaN</td>\n      <td>...</td>\n      <td>11.0</td>\n      <td>11.0</td>\n      <td>11.0</td>\n      <td>NaN</td>\n      <td>NaN</td>\n      <td>NaN</td>\n      <td>NaN</td>\n      <td>NaN</td>\n      <td>11.0</td>\n      <td>9.0</td>\n    </tr>\n    <tr>\n      <th>1</th>\n      <td>NaN</td>\n      <td>NaN</td>\n      <td>NaN</td>\n      <td>NaN</td>\n      <td>NaN</td>\n      <td>NaN</td>\n      <td>25.0</td>\n      <td>NaN</td>\n      <td>NaN</td>\n      <td>NaN</td>\n      <td>...</td>\n      <td>NaN</td>\n      <td>12.0</td>\n      <td>NaN</td>\n      <td>NaN</td>\n      <td>NaN</td>\n      <td>NaN</td>\n      <td>NaN</td>\n      <td>NaN</td>\n      <td>NaN</td>\n      <td>NaN</td>\n    </tr>\n    <tr>\n      <th>2</th>\n      <td>NaN</td>\n      <td>NaN</td>\n      <td>NaN</td>\n      <td>NaN</td>\n      <td>NaN</td>\n      <td>NaN</td>\n      <td>NaN</td>\n      <td>NaN</td>\n      <td>NaN</td>\n      <td>11.0</td>\n      <td>...</td>\n      <td>NaN</td>\n      <td>9.0</td>\n      <td>NaN</td>\n      <td>8.0</td>\n      <td>NaN</td>\n      <td>NaN</td>\n      <td>NaN</td>\n      <td>8.0</td>\n      <td>7.0</td>\n      <td>6.0</td>\n    </tr>\n    <tr>\n      <th>3</th>\n      <td>NaN</td>\n      <td>NaN</td>\n      <td>NaN</td>\n      <td>NaN</td>\n      <td>NaN</td>\n      <td>NaN</td>\n      <td>NaN</td>\n      <td>NaN</td>\n      <td>10.0</td>\n      <td>10.0</td>\n      <td>...</td>\n      <td>NaN</td>\n      <td>7.0</td>\n      <td>11.0</td>\n      <td>NaN</td>\n      <td>NaN</td>\n      <td>6.0</td>\n      <td>11.0</td>\n      <td>NaN</td>\n      <td>NaN</td>\n      <td>NaN</td>\n    </tr>\n    <tr>\n      <th>4</th>\n      <td>NaN</td>\n      <td>NaN</td>\n      <td>NaN</td>\n      <td>NaN</td>\n      <td>NaN</td>\n      <td>15.0</td>\n      <td>NaN</td>\n      <td>NaN</td>\n      <td>NaN</td>\n      <td>NaN</td>\n      <td>...</td>\n      <td>NaN</td>\n      <td>NaN</td>\n      <td>NaN</td>\n      <td>NaN</td>\n      <td>NaN</td>\n      <td>NaN</td>\n      <td>NaN</td>\n      <td>NaN</td>\n      <td>NaN</td>\n      <td>NaN</td>\n    </tr>\n    <tr>\n      <th>...</th>\n      <td>...</td>\n      <td>...</td>\n      <td>...</td>\n      <td>...</td>\n      <td>...</td>\n      <td>...</td>\n      <td>...</td>\n      <td>...</td>\n      <td>...</td>\n      <td>...</td>\n      <td>...</td>\n      <td>...</td>\n      <td>...</td>\n      <td>...</td>\n      <td>...</td>\n      <td>...</td>\n      <td>...</td>\n      <td>...</td>\n      <td>...</td>\n      <td>...</td>\n      <td>...</td>\n    </tr>\n    <tr>\n      <th>95407</th>\n      <td>NaN</td>\n      <td>NaN</td>\n      <td>NaN</td>\n      <td>NaN</td>\n      <td>25.0</td>\n      <td>NaN</td>\n      <td>NaN</td>\n      <td>NaN</td>\n      <td>NaN</td>\n      <td>NaN</td>\n      <td>...</td>\n      <td>NaN</td>\n      <td>NaN</td>\n      <td>NaN</td>\n      <td>NaN</td>\n      <td>NaN</td>\n      <td>NaN</td>\n      <td>NaN</td>\n      <td>NaN</td>\n      <td>NaN</td>\n      <td>NaN</td>\n    </tr>\n    <tr>\n      <th>95408</th>\n      <td>NaN</td>\n      <td>NaN</td>\n      <td>NaN</td>\n      <td>NaN</td>\n      <td>20.0</td>\n      <td>NaN</td>\n      <td>NaN</td>\n      <td>NaN</td>\n      <td>NaN</td>\n      <td>NaN</td>\n      <td>...</td>\n      <td>NaN</td>\n      <td>NaN</td>\n      <td>NaN</td>\n      <td>NaN</td>\n      <td>NaN</td>\n      <td>NaN</td>\n      <td>NaN</td>\n      <td>NaN</td>\n      <td>NaN</td>\n      <td>NaN</td>\n    </tr>\n    <tr>\n      <th>95409</th>\n      <td>NaN</td>\n      <td>NaN</td>\n      <td>NaN</td>\n      <td>NaN</td>\n      <td>NaN</td>\n      <td>10.0</td>\n      <td>NaN</td>\n      <td>NaN</td>\n      <td>NaN</td>\n      <td>10.0</td>\n      <td>...</td>\n      <td>NaN</td>\n      <td>NaN</td>\n      <td>NaN</td>\n      <td>10.0</td>\n      <td>NaN</td>\n      <td>NaN</td>\n      <td>NaN</td>\n      <td>5.0</td>\n      <td>NaN</td>\n      <td>NaN</td>\n    </tr>\n    <tr>\n      <th>95410</th>\n      <td>NaN</td>\n      <td>15.0</td>\n      <td>NaN</td>\n      <td>NaN</td>\n      <td>NaN</td>\n      <td>NaN</td>\n      <td>NaN</td>\n      <td>18.0</td>\n      <td>18.0</td>\n      <td>NaN</td>\n      <td>...</td>\n      <td>18.0</td>\n      <td>18.0</td>\n      <td>NaN</td>\n      <td>15.0</td>\n      <td>NaN</td>\n      <td>NaN</td>\n      <td>15.0</td>\n      <td>20.0</td>\n      <td>NaN</td>\n      <td>NaN</td>\n    </tr>\n    <tr>\n      <th>95411</th>\n      <td>NaN</td>\n      <td>NaN</td>\n      <td>NaN</td>\n      <td>NaN</td>\n      <td>NaN</td>\n      <td>NaN</td>\n      <td>NaN</td>\n      <td>NaN</td>\n      <td>200.0</td>\n      <td>NaN</td>\n      <td>...</td>\n      <td>NaN</td>\n      <td>NaN</td>\n      <td>NaN</td>\n      <td>NaN</td>\n      <td>NaN</td>\n      <td>NaN</td>\n      <td>NaN</td>\n      <td>NaN</td>\n      <td>125.0</td>\n      <td>NaN</td>\n    </tr>\n  </tbody>\n</table>\n<p>95412 rows × 22 columns</p>\n</div>"
     },
     "metadata": {},
     "execution_count": 29
    }
   ],
   "source": [
    "RAMNT_COLS = list(filter(ramnt_re.match, df.columns))\n",
    "fill_NaN(RAMNT_COLS, df)\n",
    "df[RAMNT_COLS]"
   ]
  },
  {
   "cell_type": "markdown",
   "metadata": {},
   "source": [
    "## Other "
   ]
  },
  {
   "cell_type": "code",
   "execution_count": 33,
   "metadata": {},
   "outputs": [],
   "source": [
    "OTHERS = [\n",
    "'CARDPROM',\n",
    "'MAXADATE',\n",
    "'NUMPROM',\n",
    "'CARDPM12',\n",
    "'NUMPRM12',\n",
    "'RAMNTALL',\n",
    "'NGIFTALL',\n",
    "'CARDGIFT',\n",
    "'MINRAMNT',\n",
    "'MINRDATE',\n",
    "'MAXRAMNT',\n",
    "'MAXRDATE',\n",
    "'LASTGIFT',\n",
    "'LASTDATE',\n",
    "'FISTDATE',\n",
    "'NEXTDATE',\n",
    "'TIMELAG',\n",
    "'AVGGIFT'\n",
    "]"
   ]
  },
  {
   "cell_type": "code",
   "execution_count": 34,
   "metadata": {},
   "outputs": [
    {
     "output_type": "execute_result",
     "data": {
      "text/plain": [
       "   CARDPROM    MAXADATE  NUMPROM  CARDPM12  NUMPRM12  RAMNTALL  NGIFTALL  \\\n",
       "0        27  2017-02-01       74         6        14     240.0        31   \n",
       "1        12  2017-02-01       32         6        13      47.0         3   \n",
       "2        26  2017-02-01       63         6        14     202.0        27   \n",
       "3        27  2017-02-01       66         6        14     109.0        16   \n",
       "4        43  2017-02-01      113        10        25     254.0        37   \n",
       "\n",
       "   CARDGIFT  MINRAMNT    MINRDATE  MAXRAMNT    MAXRDATE  LASTGIFT    LASTDATE  \\\n",
       "0        14       5.0  2012-08-01      12.0  2014-02-01      10.0  2015-12-01   \n",
       "1         1      10.0  2013-10-01      25.0  2015-12-01      25.0  2015-12-01   \n",
       "2        14       2.0  2011-11-01      16.0  2012-07-01       5.0  2015-12-01   \n",
       "3         7       2.0  2007-11-01      11.0  2014-11-01      10.0  2015-12-01   \n",
       "4         8       3.0  2013-10-01      15.0  2016-01-01      15.0  2016-01-01   \n",
       "\n",
       "     FISTDATE    NEXTDATE  TIMELAG    AVGGIFT  \n",
       "0  2009-11-01  2010-03-01      4.0   7.741935  \n",
       "1  2013-10-01  2015-04-01     18.0  15.666667  \n",
       "2  2010-01-01  2011-01-01     12.0   7.481481  \n",
       "3  2007-02-01  2007-11-01      9.0   6.812500  \n",
       "4  1999-03-01  2000-05-01     14.0   6.864865  "
      ],
      "text/html": "<div>\n<style scoped>\n    .dataframe tbody tr th:only-of-type {\n        vertical-align: middle;\n    }\n\n    .dataframe tbody tr th {\n        vertical-align: top;\n    }\n\n    .dataframe thead th {\n        text-align: right;\n    }\n</style>\n<table border=\"1\" class=\"dataframe\">\n  <thead>\n    <tr style=\"text-align: right;\">\n      <th></th>\n      <th>CARDPROM</th>\n      <th>MAXADATE</th>\n      <th>NUMPROM</th>\n      <th>CARDPM12</th>\n      <th>NUMPRM12</th>\n      <th>RAMNTALL</th>\n      <th>NGIFTALL</th>\n      <th>CARDGIFT</th>\n      <th>MINRAMNT</th>\n      <th>MINRDATE</th>\n      <th>MAXRAMNT</th>\n      <th>MAXRDATE</th>\n      <th>LASTGIFT</th>\n      <th>LASTDATE</th>\n      <th>FISTDATE</th>\n      <th>NEXTDATE</th>\n      <th>TIMELAG</th>\n      <th>AVGGIFT</th>\n    </tr>\n  </thead>\n  <tbody>\n    <tr>\n      <th>0</th>\n      <td>27</td>\n      <td>2017-02-01</td>\n      <td>74</td>\n      <td>6</td>\n      <td>14</td>\n      <td>240.0</td>\n      <td>31</td>\n      <td>14</td>\n      <td>5.0</td>\n      <td>2012-08-01</td>\n      <td>12.0</td>\n      <td>2014-02-01</td>\n      <td>10.0</td>\n      <td>2015-12-01</td>\n      <td>2009-11-01</td>\n      <td>2010-03-01</td>\n      <td>4.0</td>\n      <td>7.741935</td>\n    </tr>\n    <tr>\n      <th>1</th>\n      <td>12</td>\n      <td>2017-02-01</td>\n      <td>32</td>\n      <td>6</td>\n      <td>13</td>\n      <td>47.0</td>\n      <td>3</td>\n      <td>1</td>\n      <td>10.0</td>\n      <td>2013-10-01</td>\n      <td>25.0</td>\n      <td>2015-12-01</td>\n      <td>25.0</td>\n      <td>2015-12-01</td>\n      <td>2013-10-01</td>\n      <td>2015-04-01</td>\n      <td>18.0</td>\n      <td>15.666667</td>\n    </tr>\n    <tr>\n      <th>2</th>\n      <td>26</td>\n      <td>2017-02-01</td>\n      <td>63</td>\n      <td>6</td>\n      <td>14</td>\n      <td>202.0</td>\n      <td>27</td>\n      <td>14</td>\n      <td>2.0</td>\n      <td>2011-11-01</td>\n      <td>16.0</td>\n      <td>2012-07-01</td>\n      <td>5.0</td>\n      <td>2015-12-01</td>\n      <td>2010-01-01</td>\n      <td>2011-01-01</td>\n      <td>12.0</td>\n      <td>7.481481</td>\n    </tr>\n    <tr>\n      <th>3</th>\n      <td>27</td>\n      <td>2017-02-01</td>\n      <td>66</td>\n      <td>6</td>\n      <td>14</td>\n      <td>109.0</td>\n      <td>16</td>\n      <td>7</td>\n      <td>2.0</td>\n      <td>2007-11-01</td>\n      <td>11.0</td>\n      <td>2014-11-01</td>\n      <td>10.0</td>\n      <td>2015-12-01</td>\n      <td>2007-02-01</td>\n      <td>2007-11-01</td>\n      <td>9.0</td>\n      <td>6.812500</td>\n    </tr>\n    <tr>\n      <th>4</th>\n      <td>43</td>\n      <td>2017-02-01</td>\n      <td>113</td>\n      <td>10</td>\n      <td>25</td>\n      <td>254.0</td>\n      <td>37</td>\n      <td>8</td>\n      <td>3.0</td>\n      <td>2013-10-01</td>\n      <td>15.0</td>\n      <td>2016-01-01</td>\n      <td>15.0</td>\n      <td>2016-01-01</td>\n      <td>1999-03-01</td>\n      <td>2000-05-01</td>\n      <td>14.0</td>\n      <td>6.864865</td>\n    </tr>\n  </tbody>\n</table>\n</div>"
     },
     "metadata": {},
     "execution_count": 34
    }
   ],
   "source": [
    "fill_NaN(OTHERS, df)\n",
    "df[OTHERS].head(n=5)"
   ]
  },
  {
   "cell_type": "code",
   "execution_count": 35,
   "metadata": {},
   "outputs": [
    {
     "output_type": "execute_result",
     "data": {
      "text/plain": [
       "CARDPROM       0\n",
       "MAXADATE       0\n",
       "NUMPROM        0\n",
       "CARDPM12       0\n",
       "NUMPRM12       0\n",
       "RAMNTALL       0\n",
       "NGIFTALL       0\n",
       "CARDGIFT       0\n",
       "MINRAMNT       0\n",
       "MINRDATE       0\n",
       "MAXRAMNT       0\n",
       "MAXRDATE       0\n",
       "LASTGIFT       0\n",
       "LASTDATE       0\n",
       "FISTDATE       2\n",
       "NEXTDATE    9973\n",
       "TIMELAG     9973\n",
       "AVGGIFT        0\n",
       "dtype: int64"
      ]
     },
     "metadata": {},
     "execution_count": 35
    }
   ],
   "source": [
    "df[OTHERS].isna().sum()"
   ]
  },
  {
   "cell_type": "code",
   "execution_count": null,
   "metadata": {},
   "outputs": [],
   "source": []
  }
 ],
 "metadata": {
  "kernelspec": {
   "display_name": "Python 3",
   "language": "python",
   "name": "python3"
  },
  "language_info": {
   "codemirror_mode": {
    "name": "ipython",
    "version": 3
   },
   "file_extension": ".py",
   "mimetype": "text/x-python",
   "name": "python",
   "nbconvert_exporter": "python",
   "pygments_lexer": "ipython3",
   "version": "3.8.3-final"
  }
 },
 "nbformat": 4,
 "nbformat_minor": 4
}