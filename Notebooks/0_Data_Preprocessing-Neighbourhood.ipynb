{
 "metadata": {
  "language_info": {
   "codemirror_mode": {
    "name": "ipython",
    "version": 3
   },
   "file_extension": ".py",
   "mimetype": "text/x-python",
   "name": "python",
   "nbconvert_exporter": "python",
   "pygments_lexer": "ipython3",
   "version": "3.8.6-final"
  },
  "orig_nbformat": 2,
  "kernelspec": {
   "name": "python3",
   "display_name": "Python 3",
   "language": "python"
  }
 },
 "nbformat": 4,
 "nbformat_minor": 2,
 "cells": [
  {
   "source": [
    "# Data Mining Project\n",
    "- Filipe Coelho - id: m20200580\n",
    "- Ivan Kisialiou - id: m20200998\n",
    "- Jose Quintas - id: m20200673\n",
    "\n",
    "## <br/>      \n",
    "\n",
    "## Phase 0: Data Pre-Processing (neighborhood columns)"
   ],
   "cell_type": "markdown",
   "metadata": {}
  },
  {
   "source": [
    "## Imports"
   ],
   "cell_type": "markdown",
   "metadata": {}
  },
  {
   "cell_type": "code",
   "execution_count": null,
   "metadata": {},
   "outputs": [],
   "source": [
    "import pandas as pd\n",
    "import matplotlib.pyplot as plt\n",
    "import numpy as np\n",
    "import scipy"
   ]
  },
  {
   "source": [
    "### Config some libraries"
   ],
   "cell_type": "markdown",
   "metadata": {}
  },
  {
   "cell_type": "code",
   "execution_count": null,
   "metadata": {},
   "outputs": [],
   "source": [
    "pd.options.display.max_columns = 500\n",
    "pd.options.display.max_rows = 50"
   ]
  },
  {
   "source": [
    "## <br/>\n",
    "## <br/>\n",
    "## Data Read"
   ],
   "cell_type": "markdown",
   "metadata": {}
  },
  {
   "cell_type": "code",
   "execution_count": null,
   "metadata": {},
   "outputs": [],
   "source": [
    "df = pd.read_csv('../Data/donors.csv', index_col=0)\n",
    "df.head()"
   ]
  },
  {
   "cell_type": "code",
   "execution_count": null,
   "metadata": {},
   "outputs": [],
   "source": [
    "df.shape"
   ]
  },
  {
   "source": [
    "## <br/>\n",
    "## <br/>\n",
    "## Creating neighborhood sub-groups\n",
    "All sub-groups created were based on the documentation given with the project documentation."
   ],
   "cell_type": "markdown",
   "metadata": {}
  },
  {
   "cell_type": "code",
   "execution_count": null,
   "metadata": {},
   "outputs": [],
   "source": [
    "population = [\n",
    "    'POP901','POP902','POP903','POP90C1','POP90C2','POP90C3',\n",
    "    'POP90C4','POP90C5'\n",
    "]\n",
    "\n",
    "ethnicity = [\n",
    "    'ETH1','ETH2','ETH3','ETH4','ETH5','ETH6','ETH7','ETH8',\n",
    "    'ETH9','ETH10','ETH11','ETH12','ETH13','ETH14','ETH15',\n",
    "    'ETH16','ETHC1','ETHC2','ETHC3','ETHC4','ETHC5','ETHC6'\n",
    "]\n",
    "\n",
    "age = [\n",
    "    'AGE901','AGE902','AGE903','AGE904','AGE905','AGE906',\n",
    "    'AGE907','CHIL1','CHIL2','CHIL3','AGEC1','AGEC2','AGEC3',\n",
    "    'AGEC4','AGEC5','AGEC6','AGEC7','CHILC1','CHILC2','CHILC3',\n",
    "    'CHILC4','CHILC5','AC1','AC2'\n",
    "]\n",
    "\n",
    "households = [\n",
    "    'HHN1','HHN2','HHN3','HHN4','HHN5','HHN6','HHP1','HHP2'\n",
    "]\n",
    "\n",
    "marriage = [\n",
    "    'MARR1','MARR2','MARR3','MARR4'\n",
    "]\n",
    "\n",
    "structure = [\n",
    "    'DW1','DW2','DW3','DW4','DW5','DW6','DW7','DW8'\n",
    "]\n",
    "\n",
    "home_value = [\n",
    "    'HV1','HV2','HV3','HV4','HVP1','HVP2','HVP3','HVP4','HVP5',\n",
    "    'HVP6'\n",
    "]\n",
    "\n",
    "housing_units = [\n",
    "    'HU1','HU2','HU3','HU4','HU5','HUR1','HUR2','RHP1','RHP2',\n",
    "    'RHP3','RHP4','HUPA1','HUPA2','HUPA3'\n",
    "]\n",
    "\n",
    "families = [\n",
    "    'HHD1','HHD2','HHD3','HHD4','HHD5','HHD6','HHD7','HHD8',\n",
    "    'HHD9','HHD10','HHD11','HHD12'\n",
    "]\n",
    "\n",
    "renters = [\n",
    "    'HUPA4','HUPA5','HUPA6','HUPA7','RP1','RP2','RP3','RP4'  \n",
    "]\n",
    "\n",
    "income = [\n",
    "    'ADI','IC1','IC2','IC3','IC4','IC5','IC6','IC7','IC8','IC9',\n",
    "    'IC10','IC11','IC12','IC13','IC14','IC15','IC16','IC17',\n",
    "    'IC18','IC19','IC20','IC21','IC22','IC23','HHAS1','HHAS2',\n",
    "    'HHAS3','HHAS4'   \n",
    "]\n",
    "\n",
    "mobility = [\n",
    "    'MC1','MC2','MC3','PEC1','PEC2'\n",
    "]\n",
    "\n",
    "transportation = [\n",
    "    'TPE1','TPE2','TPE3','TPE4','TPE5','TPE6','TPE7','TPE8',\n",
    "    'TPE9','TPE10','TPE11','TPE12','TPE13'\n",
    "]\n",
    "\n",
    "labor_force = [\n",
    "    'LFC1','LFC2','LFC3','LFC4','LFC5','LFC6','LFC7','LFC8',\n",
    "    'LFC9','LFC10'\n",
    "]\n",
    "\n",
    "occupation = [\n",
    "    'OCC1','OCC2','OCC3','OCC4','OCC5','OCC6','OCC7','OCC8',\n",
    "    'OCC9','OCC10','OCC11','OCC12','OCC13'\n",
    "]\n",
    "\n",
    "employment = [\n",
    "    'EIC1','EIC2','EIC3','EIC4','EIC5','EIC6','EIC7','EIC8',\n",
    "    'EIC9','EIC10','EIC11','EIC12','EIC13','EIC14','EIC15',\n",
    "    'EIC16',\n",
    "]\n",
    "\n",
    "employer = [\n",
    "    'OEDC1','OEDC2','OEDC3','OEDC4','OEDC5','OEDC6','OEDC7'\n",
    "]\n",
    "\n",
    "education = [\n",
    "    'EC1','EC2','EC3','EC4','EC5','EC6','EC7','EC8','SEC1',\n",
    "    'SEC2','SEC3','SEC4','SEC5'\n",
    "]\n",
    "\n",
    "military = [\n",
    "    'AFC1','AFC2','AFC3','AFC4','AFC5','AFC6','VC1','VC2',\n",
    "    'VC3','VC4'\n",
    "]\n",
    "\n",
    "ancestry = [\n",
    "    'ANC1','ANC2','ANC3','ANC4','ANC5','ANC6','ANC7','ANC8',\n",
    "    'ANC9','ANC10','ANC11','ANC12','ANC13','ANC14','ANC15',\n",
    "    'POBC1','POBC2'\n",
    "]\n",
    "\n",
    "language = [\n",
    "    'LSC1','LSC2','LSC3','LSC4'\n",
    "]\n",
    "\n",
    "vehicles = [\n",
    "    'VOC1','VOC2','VOC3',\n",
    "]\n",
    "\n",
    "home_structures = [\n",
    "    'HC1','HC2','HC3','HC4','HC5','HC6','HC7','HC8','HC9',\n",
    "    'HC10','HC11','HC12','HC13','HC14','HC15','HC16','HC17',\n",
    "    'HC18','HC19','HC20','HC21','MHUC1','MHUC2'\n",
    "]"
   ]
  },
  {
   "cell_type": "code",
   "execution_count": null,
   "metadata": {},
   "outputs": [],
   "source": [
    "hood_subgroups_dic= {\n",
    "    'population': population,\n",
    "    'ethnicity': ethnicity,\n",
    "    'age': age,\n",
    "    'households': households,\n",
    "    'marriage': marriage,\n",
    "    'structure': structure,\n",
    "    'home_value': home_value,\n",
    "    'housing_units': housing_units,\n",
    "    'families': families,\n",
    "    'renters': renters,\n",
    "    'income': income,\n",
    "    'mobility': mobility,\n",
    "    'transportation': transportation,\n",
    "    'labor_force': labor_force,\n",
    "    'occupation': occupation,\n",
    "    'employment': employment,\n",
    "    'employer': employer,\n",
    "    'education': education,\n",
    "    'military': military,\n",
    "    'ancestry': ancestry,\n",
    "    'language': language,\n",
    "    'vehicles': vehicles,\n",
    "    'home_structures':home_structures\n",
    "}"
   ]
  },
  {
   "cell_type": "code",
   "execution_count": null,
   "metadata": {},
   "outputs": [],
   "source": [
    "#Array wich contains every feature contained in the sub-groups\n",
    "selected_neighborhood_features = sum(hood_subgroups_dic.values(), [])"
   ]
  },
  {
   "cell_type": "code",
   "execution_count": null,
   "metadata": {},
   "outputs": [],
   "source": [
    "df = df[selected_neighborhood_features]"
   ]
  },
  {
   "source": [
    "## </br>\n",
    "## </br>\n",
    "\n",
    "## Initial analysis"
   ],
   "cell_type": "markdown",
   "metadata": {}
  },
  {
   "cell_type": "code",
   "execution_count": null,
   "metadata": {},
   "outputs": [],
   "source": [
    "df.info()"
   ]
  },
  {
   "cell_type": "code",
   "execution_count": null,
   "metadata": {},
   "outputs": [],
   "source": [
    "df.head()"
   ]
  },
  {
   "cell_type": "code",
   "execution_count": null,
   "metadata": {},
   "outputs": [],
   "source": [
    "df.describe()"
   ]
  },
  {
   "source": [
    "## </br>\n",
    "## </br>\n",
    "\n",
    "## Restrict dataframe & remove any NaN present"
   ],
   "cell_type": "markdown",
   "metadata": {}
  },
  {
   "cell_type": "code",
   "execution_count": null,
   "metadata": {},
   "outputs": [],
   "source": [
    "neighborhood_df = df.copy()"
   ]
  },
  {
   "cell_type": "code",
   "execution_count": null,
   "metadata": {},
   "outputs": [],
   "source": [
    "neighborhood_df.dropna(inplace=True)"
   ]
  },
  {
   "cell_type": "code",
   "execution_count": null,
   "metadata": {},
   "outputs": [],
   "source": [
    "neighborhood_df.shape"
   ]
  },
  {
   "source": [
    "## </br>\n",
    "## </br>\n",
    "\n",
    "## Scalling Data "
   ],
   "cell_type": "markdown",
   "metadata": {}
  },
  {
   "cell_type": "code",
   "execution_count": null,
   "metadata": {},
   "outputs": [],
   "source": [
    "from sklearn.preprocessing import MinMaxScaler\n",
    "\n",
    "scaler = MinMaxScaler()"
   ]
  },
  {
   "cell_type": "code",
   "execution_count": null,
   "metadata": {},
   "outputs": [],
   "source": [
    "neighborhood_df = pd.DataFrame(\n",
    "    scaler.fit_transform(neighborhood_df),\n",
    "    columns = selected_neighborhood_features\n",
    ")\n",
    "\n",
    "neighborhood_df.head()"
   ]
  },
  {
   "source": [
    "## </br>\n",
    "## </br>\n",
    "\n",
    "## PCA Analysis\n",
    "Using PCA to reduce dimensionality of data"
   ],
   "cell_type": "markdown",
   "metadata": {}
  },
  {
   "cell_type": "code",
   "execution_count": null,
   "metadata": {},
   "outputs": [],
   "source": [
    "from sklearn.decomposition import PCA as PCA"
   ]
  },
  {
   "cell_type": "code",
   "execution_count": null,
   "metadata": {},
   "outputs": [],
   "source": [
    "# Auxiliary function\n",
    "\n",
    "def plot_pca_analysis(pca, title='PCA Analysis', figsize=(20,10)):\n",
    "    \n",
    "    # figure and axes\n",
    "    fig, (ax1, ax2) = plt.subplots(1, 2, figsize=figsize)\n",
    "\n",
    "    #Overall title\n",
    "    fig.suptitle(title)\n",
    "\n",
    "    # Axis 1\n",
    "    ax1.set_title(\"EigenValue\", fontsize=14)\n",
    "    ax1.plot(pca.explained_variance_, marker=\".\", markersize=12)\n",
    "\n",
    "    # Axis 2\n",
    "    ax2.set_title(\"Variance Explained\", fontsize=14)\n",
    "    ax2.set_ylabel(\"Proportion\")\n",
    "    ax2.set_xlabel(\"Components\")\n",
    "    ax2.plot(pca.explained_variance_ratio_, marker=\".\", markersize=12, label=\"Proportion\")\n",
    "    ax2.plot(np.cumsum(pca.explained_variance_ratio_), marker=\".\", markersize=12, linestyle=\"--\", label=\"Cumulative\")\n",
    "    ax2.legend()\n",
    "    ax2.set_xticks(range(0, pca.n_components_, 2))\n",
    "    ax2.set_xticklabels(range(1, pca.n_components_ + 1, 2))\n",
    "\n",
    "    plt.show()"
   ]
  },
  {
   "source": [
    "## </br>\n",
    "\n",
    "### Plotting optimal reduction for every sub-group"
   ],
   "cell_type": "markdown",
   "metadata": {}
  },
  {
   "cell_type": "code",
   "execution_count": null,
   "metadata": {},
   "outputs": [],
   "source": [
    "for subGroup in hood_subgroups_dic.keys():\n",
    "    columns = hood_subgroups_dic[subGroup]\n",
    "\n",
    "    pca = PCA()\n",
    "    pca.fit(neighborhood_df[columns])\n",
    "\n",
    "    plot_title = \"%s (%d columns)\" % (subGroup, len(columns))\n",
    "    plot_pca_analysis(pca, plot_title)\n",
    "\n",
    "    del columns\n",
    "    del pca\n",
    "    del plot_title"
   ]
  },
  {
   "source": [
    "#### Defining number of variables to keep after PCA"
   ],
   "cell_type": "markdown",
   "metadata": {}
  },
  {
   "cell_type": "code",
   "execution_count": null,
   "metadata": {},
   "outputs": [],
   "source": [
    "hood_subgroups_pca_dic = {\n",
    "    \"population\": 3,\n",
    "    \"ethnicity\": 4,\n",
    "    \"age\": 4,\n",
    "    \"households\": 3,\n",
    "    \"marriage\": 3,\n",
    "    \"structure\": 3,\n",
    "    \"home_value\": 2,\n",
    "    \"housing_units\": 4,\n",
    "    \"families\": 2,\n",
    "    \"renters\": 2,\n",
    "    \"income\": 4,\n",
    "    \"mobility\": 3,\n",
    "    \"transportation\": 3,\n",
    "    \"labor_force\": 5,\n",
    "    \"occupation\": 8,\n",
    "    \"employment\": 5,\n",
    "    \"employer\": 3,\n",
    "    \"education\": 5,\n",
    "    \"military\": 5,\n",
    "    \"ancestry\": 4,\n",
    "    \"language\": 2,\n",
    "    \"vehicles\": 2,\n",
    "    \"home_structures\": 4\n",
    "}"
   ]
  },
  {
   "source": [
    "## </br>\n",
    "## </br>\n",
    "\n",
    "## Generating PCA dataframe\n",
    "Dataframe will only contain PCA generated from neighborhood features"
   ],
   "cell_type": "markdown",
   "metadata": {}
  },
  {
   "cell_type": "code",
   "execution_count": null,
   "metadata": {},
   "outputs": [],
   "source": [
    "pca_df = pd.DataFrame(index = neighborhood_df.index)"
   ]
  },
  {
   "cell_type": "code",
   "execution_count": null,
   "metadata": {},
   "outputs": [],
   "source": [
    "#Style to detect relations between original features and PCA features\n",
    "from IPython.display import display as display\n",
    "\n",
    "def _color_red_or_green(val):\n",
    "    if val < -0.45:\n",
    "        color = 'background-color: red'\n",
    "    elif val > 0.45:\n",
    "        color = 'background-color: green'\n",
    "    else:\n",
    "        color = ''\n",
    "    return color"
   ]
  },
  {
   "cell_type": "code",
   "execution_count": null,
   "metadata": {},
   "outputs": [],
   "source": [
    "for subGroup in hood_subgroups_pca_dic.keys():\n",
    "    columns = hood_subgroups_dic[subGroup]\n",
    "    k = hood_subgroups_pca_dic[subGroup]\n",
    "\n",
    "    #PCA fit\n",
    "    pca = PCA(n_components=k)\n",
    "    pca_feat = pca.fit_transform(neighborhood_df[columns])\n",
    "\n",
    "    #Creating dataframe\n",
    "    pca_feat_names = [(\"%s_PC%d\"%(subGroup,i)) for i in range(k)]\n",
    "    pca_df[pca_feat_names] = pd.DataFrame(pca_feat, index=pca_df.index, columns=pca_feat_names)\n",
    "    \n",
    "    #Add to neighborhood dataframe to compare correlations\n",
    "    neighborhood_df[pca_feat_names] = pd.DataFrame(pca_feat, index=pca_df.index, columns=pca_feat_names)\n",
    "\n",
    "    #Correlation analysis\n",
    "    correlations = neighborhood_df[columns + pca_feat_names].corr().loc[columns, pca_feat_names]\n",
    "    display(correlations.style.applymap(_color_red_or_green))"
   ]
  },
  {
   "source": [],
   "cell_type": "markdown",
   "metadata": {}
  },
  {
   "source": [
    "## </br>\n",
    "\n",
    "### Final Dataframe"
   ],
   "cell_type": "markdown",
   "metadata": {}
  },
  {
   "cell_type": "code",
   "execution_count": null,
   "metadata": {},
   "outputs": [],
   "source": [
    "pca_df.head()"
   ]
  },
  {
   "source": [
    "## </br>\n",
    "## </br>\n",
    "## </br>\n",
    "\n",
    "## SAVE INTO CSV"
   ],
   "cell_type": "markdown",
   "metadata": {}
  },
  {
   "cell_type": "code",
   "execution_count": null,
   "metadata": {},
   "outputs": [],
   "source": [
    "pca_df.to_csv('../Exports/CSV/neighborhood_PCAs.csv')"
   ]
  }
 ]
}